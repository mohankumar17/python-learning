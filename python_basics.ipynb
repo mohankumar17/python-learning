{
 "cells": [
  {
   "cell_type": "markdown",
   "metadata": {},
   "source": [
    "# Python Basics"
   ]
  },
  {
   "cell_type": "code",
   "execution_count": 2,
   "metadata": {},
   "outputs": [
    {
     "name": "stdout",
     "output_type": "stream",
     "text": [
      "Hello Python!\n"
     ]
    }
   ],
   "source": [
    "print(\"Hello Python!\")"
   ]
  },
  {
   "cell_type": "markdown",
   "metadata": {},
   "source": [
    "### Variables"
   ]
  },
  {
   "cell_type": "code",
   "execution_count": 56,
   "metadata": {},
   "outputs": [
    {
     "name": "stdout",
     "output_type": "stream",
     "text": [
      "Welcome\n"
     ]
    }
   ],
   "source": [
    "myVar = \"Welcome\"\n",
    "print(myVar)"
   ]
  },
  {
   "cell_type": "markdown",
   "metadata": {},
   "source": [
    "### Data Types - String, Integer, Float, Complex, Bool, List, Tuple, Set, Dict"
   ]
  },
  {
   "cell_type": "code",
   "execution_count": 57,
   "metadata": {},
   "outputs": [
    {
     "name": "stdout",
     "output_type": "stream",
     "text": [
      "<class 'str'>\n"
     ]
    }
   ],
   "source": [
    "print(type(myVar))"
   ]
  },
  {
   "cell_type": "code",
   "execution_count": 5,
   "metadata": {},
   "outputs": [
    {
     "name": "stdout",
     "output_type": "stream",
     "text": [
      "128 <class 'int'>\n",
      "54.234 <class 'float'>\n",
      "True <class 'bool'>\n",
      "(23+4j) Type:  <class 'complex'>\n"
     ]
    }
   ],
   "source": [
    "intNum = 128\n",
    "print(intNum, type(intNum))\n",
    "\n",
    "floatNum = 54.234\n",
    "print(floatNum, type(floatNum))\n",
    "\n",
    "boolValue = True\n",
    "print(boolValue, type(boolValue))\n",
    "\n",
    "complexValue = 23 + 4j\n",
    "print(complexValue, \"Type: \", type(complexValue))"
   ]
  },
  {
   "cell_type": "markdown",
   "metadata": {},
   "source": [
    "### Operators \n",
    "1. Arithemetic (+, -, *, /, //, %, **)\n",
    "2. Relational (>, >=,<, <=, ==)\n",
    "3. Logical (and, or, not)\n",
    "4. Bitwise (&, |, ~, ^, >>, <<)\n",
    "5. Misc: Shorthand expression (eg. a += 1)"
   ]
  },
  {
   "cell_type": "markdown",
   "metadata": {},
   "source": [
    "#### Arithmetic Operators"
   ]
  },
  {
   "cell_type": "code",
   "execution_count": 36,
   "metadata": {},
   "outputs": [
    {
     "name": "stdout",
     "output_type": "stream",
     "text": [
      "Sum: 38\n",
      "Difference: 14\n",
      "Product: 312\n",
      "Division: 2.5833333333333335\n",
      "Floor Division: 2\n",
      "Remainder: 2\n",
      "Power: 144\n"
     ]
    }
   ],
   "source": [
    "num1 = 12\n",
    "num2 = 26\n",
    "num3 = 31\n",
    "\n",
    "print(\"Sum:\", num1 + num2)\n",
    "print(\"Difference:\", num2 - num1)\n",
    "print(\"Product:\", num1 * num2)\n",
    "print(\"Division:\", num3 / num1)\n",
    "print(\"Floor Division:\", num3 // num1)\n",
    "print(\"Remainder:\", num2 % num1)\n",
    "print(\"Power:\", num1 ** 2)"
   ]
  },
  {
   "cell_type": "markdown",
   "metadata": {},
   "source": [
    "#### String formatting"
   ]
  },
  {
   "cell_type": "code",
   "execution_count": 1,
   "metadata": {},
   "outputs": [
    {
     "name": "stdout",
     "output_type": "stream",
     "text": [
      "Message-17: Hi Mohan, Welcome to Python Learning.\n"
     ]
    }
   ],
   "source": [
    "print('Message-%d: Hi %s, Welcome to %s.' %(17, \"Mohan\", \"Python Learning\"))"
   ]
  },
  {
   "cell_type": "code",
   "execution_count": 3,
   "metadata": {},
   "outputs": [
    {
     "name": "stdout",
     "output_type": "stream",
     "text": [
      "Message-17: Hi Mohan, Welcome to Python Learning.\n"
     ]
    }
   ],
   "source": [
    "print('Message-{}: Hi {}, Welcome to {}.'.format(17, \"Mohan\", \"Python Learning\"))"
   ]
  },
  {
   "cell_type": "markdown",
   "metadata": {},
   "source": [
    "#### F String"
   ]
  },
  {
   "cell_type": "code",
   "execution_count": 13,
   "metadata": {},
   "outputs": [
    {
     "name": "stdout",
     "output_type": "stream",
     "text": [
      "Sum of 12 and 26 is: 38\n"
     ]
    }
   ],
   "source": [
    "print(f'Sum of {num1} and {num2} is: {num1 + num2}')"
   ]
  },
  {
   "cell_type": "markdown",
   "metadata": {},
   "source": [
    "#### Relational Operators"
   ]
  },
  {
   "cell_type": "code",
   "execution_count": 15,
   "metadata": {},
   "outputs": [
    {
     "name": "stdout",
     "output_type": "stream",
     "text": [
      "True\n",
      "False\n",
      "True\n",
      "False\n"
     ]
    }
   ],
   "source": [
    "print(num2 > num1)\n",
    "print(num3 <= num2)\n",
    "print(num1 != num2)\n",
    "print(num1 == num2)"
   ]
  },
  {
   "cell_type": "markdown",
   "metadata": {},
   "source": [
    "#### Logical Operators"
   ]
  },
  {
   "cell_type": "code",
   "execution_count": 17,
   "metadata": {},
   "outputs": [
    {
     "name": "stdout",
     "output_type": "stream",
     "text": [
      "True\n",
      "False\n",
      "True\n",
      "False\n",
      "False\n"
     ]
    }
   ],
   "source": [
    "print(True and True)\n",
    "print(True and False)\n",
    "\n",
    "print(True or False)\n",
    "print(False or False)\n",
    "\n",
    "print(not True)\n"
   ]
  },
  {
   "cell_type": "markdown",
   "metadata": {},
   "source": [
    "#### Bitwise Operators"
   ]
  },
  {
   "cell_type": "code",
   "execution_count": 37,
   "metadata": {},
   "outputs": [
    {
     "name": "stdout",
     "output_type": "stream",
     "text": [
      "0b1100 & 0b1001 ----> 8\n",
      "0b1100 | 0b1001 ----> 13\n",
      "~12 ----> -13\n",
      "~-17 ----> 16\n",
      "0b1100 ^ 0b1001 (XOR) ----> 5\n",
      "12 >> 2 = (12 / (2 ** 2)) ----> 3\n",
      "12 << 3 = (12 * (2 ** 3)) ----> 96\n",
      "13\n"
     ]
    }
   ],
   "source": [
    "num1 = 12\n",
    "num2 = 9\n",
    "num3 = -17\n",
    "\n",
    "binaryNum1 = bin(num1)\n",
    "binaryNum2 = bin(num2)\n",
    "binaryNum3 = bin(num3)\n",
    "\n",
    "print(f'{binaryNum1} & {binaryNum2} ----> {num1 & num2}')\n",
    "print(f'{binaryNum1} | {binaryNum2} ----> {num1 | num2}')\n",
    "print(f'~{num1} ----> {~num1}')\n",
    "print(f'~{num3} ----> {~num3}')\n",
    "print(f'{binaryNum1} ^ {binaryNum2} (XOR) ----> {num1 ^ num2}')\n",
    "print(f'{num1} >> 2 = ({num1} / (2 ** 2)) ----> {num1 >> 2}')\n",
    "print(f'{num1} << 3 = ({num1} * (2 ** 3)) ----> {num1 << 3}')\n",
    "\n",
    "print(0b1101)\n"
   ]
  },
  {
   "cell_type": "markdown",
   "metadata": {},
   "source": [
    "#### Shorthand Operators"
   ]
  },
  {
   "cell_type": "code",
   "execution_count": 38,
   "metadata": {},
   "outputs": [
    {
     "name": "stdout",
     "output_type": "stream",
     "text": [
      "16\n"
     ]
    }
   ],
   "source": [
    "num1 = 15\n",
    "num1 += 1\n",
    "print(num1)"
   ]
  },
  {
   "cell_type": "markdown",
   "metadata": {},
   "source": [
    "### String"
   ]
  },
  {
   "cell_type": "code",
   "execution_count": 52,
   "metadata": {},
   "outputs": [
    {
     "name": "stdout",
     "output_type": "stream",
     "text": [
      "23\n"
     ]
    }
   ],
   "source": [
    "myStr1 = \"this is Python Notebook\"\n",
    "myStr2 = \"   Laptop         \"\n",
    "myStr3 = \"Smartphone\"\n",
    "myStr4 = \"3456\"\n",
    "myStr5 = \"bluetooth123\" \n",
    "\n",
    "print(len(myStr1))"
   ]
  },
  {
   "cell_type": "markdown",
   "metadata": {},
   "source": [
    "#### String Slicing"
   ]
  },
  {
   "cell_type": "code",
   "execution_count": 53,
   "metadata": {},
   "outputs": [
    {
     "name": "stdout",
     "output_type": "stream",
     "text": [
      "h\n",
      "k\n",
      "Python Notebook\n",
      "Python Notebook\n",
      "koobetoN nohtyP si siht\n",
      "ti sPto oeok\n"
     ]
    }
   ],
   "source": [
    "print(myStr1[1])\n",
    "print(myStr1[-1])\n",
    "print(myStr1[8:])\n",
    "print(myStr1[8:])\n",
    "print(myStr1[::-1])\n",
    "print(myStr1[::2])"
   ]
  },
  {
   "cell_type": "markdown",
   "metadata": {},
   "source": [
    "#### String Methods"
   ]
  },
  {
   "cell_type": "code",
   "execution_count": 54,
   "metadata": {},
   "outputs": [
    {
     "name": "stdout",
     "output_type": "stream",
     "text": [
      "This is python notebook\n",
      "THIS IS PYTHON NOTEBOOK\n",
      "this is python notebook\n",
      "8\n",
      "3\n",
      "['this', 'is', 'Python', 'Notebook']\n",
      "True\n",
      "True\n",
      "-------------this is Python Notebook--------------\n",
      "Laptop         \n",
      "   Laptop\n",
      "Laptop\n",
      "Smartphone**********\n",
      "^^^^^^^^^^Smartphone\n",
      "4\n",
      "False\n",
      "True\n",
      "True\n",
      "True\n",
      "True\n"
     ]
    }
   ],
   "source": [
    "print(myStr1.capitalize())\n",
    "print(myStr1.upper())\n",
    "print(myStr1.lower())\n",
    "print(myStr1.index(\"P\"))\n",
    "print(myStr1.find(\"s\"))\n",
    "print(myStr1.split(\" \"))\n",
    "print(myStr1.startswith(\"t\"))\n",
    "print(myStr1.endswith(\"k\"))\n",
    "print(myStr1.center(50, \"-\"))\n",
    "\n",
    "print(myStr2.lstrip(\" \"))\n",
    "print(myStr2.rstrip(\" \"))\n",
    "print(myStr2.strip(\" \"))\n",
    "\n",
    "print(myStr3.ljust(20, \"*\"))\n",
    "print(myStr3.rjust(20, \"^\"))\n",
    "\n",
    "print(myStr1.count(\"o\"))\n",
    "print(myStr5.isupper())\n",
    "print(myStr5.islower())\n",
    "print(myStr3.isalpha())\n",
    "print(myStr4.isdigit())\n",
    "print(myStr5.isalnum())\n"
   ]
  },
  {
   "cell_type": "markdown",
   "metadata": {},
   "source": [
    "### Conditional Statements"
   ]
  },
  {
   "cell_type": "code",
   "execution_count": 67,
   "metadata": {},
   "outputs": [
    {
     "name": "stdout",
     "output_type": "stream",
     "text": [
      "Odd\n"
     ]
    }
   ],
   "source": [
    "num1 = int(input(\"Enter Number: \"))\n",
    "if num1 % 2 == 0:\n",
    "    print(\"Even\")\n",
    "else:\n",
    "    print(\"Odd\")"
   ]
  },
  {
   "cell_type": "code",
   "execution_count": 71,
   "metadata": {},
   "outputs": [
    {
     "name": "stdout",
     "output_type": "stream",
     "text": [
      "Children\n"
     ]
    }
   ],
   "source": [
    "age = int(input(\"Enter Age: \"))\n",
    "if age >= 56:\n",
    "    print(\"Senior Citizens\")\n",
    "elif age >= 24 and age < 56:\n",
    "    print(\"Citizens\")\n",
    "elif age >= 18 and age < 24:\n",
    "    print(\"Young Adults\")\n",
    "else:\n",
    "    print(\"Children\")"
   ]
  },
  {
   "cell_type": "markdown",
   "metadata": {},
   "source": [
    "#### Range"
   ]
  },
  {
   "cell_type": "code",
   "execution_count": 75,
   "metadata": {},
   "outputs": [],
   "source": [
    "myRange1 = range(1, 11)\n",
    "myRange2 = range(10, 101, 5)"
   ]
  },
  {
   "cell_type": "markdown",
   "metadata": {},
   "source": [
    "### Iterative Statements"
   ]
  },
  {
   "cell_type": "code",
   "execution_count": 81,
   "metadata": {},
   "outputs": [
    {
     "name": "stdout",
     "output_type": "stream",
     "text": [
      "Landlord\n",
      "1 2 3 4 5 6 7 8 9 10 \n",
      "10 15 20 25 30 35 40 45 50 55 60 65 70 75 80 85 90 95 100 \n",
      "0 1 2 3 4 5 6 7 8 9 10 \n"
     ]
    }
   ],
   "source": [
    "myStr = \"Landlord\"\n",
    "for char in myStr:\n",
    "    print(char, end= \"\")\n",
    "print()\n",
    "\n",
    "for _ in myRange1:\n",
    "    print(_, end=\" \")\n",
    "print()\n",
    "\n",
    "for _ in myRange2:\n",
    "    print(_, end=\" \")\n",
    "print()\n",
    "\n",
    "num = 0\n",
    "while num < 11:\n",
    "    print(num, end=\" \")\n",
    "    num += 1\n",
    "print()"
   ]
  },
  {
   "cell_type": "code",
   "execution_count": 86,
   "metadata": {},
   "outputs": [
    {
     "name": "stdout",
     "output_type": "stream",
     "text": [
      "1 3 5 7 9 11 13 \n"
     ]
    }
   ],
   "source": [
    "for num in range(20):\n",
    "    if num % 2 == 0:\n",
    "        continue\n",
    "    if num > 13:\n",
    "        break\n",
    "\n",
    "    print(num, end=\" \")\n",
    "print()\n"
   ]
  },
  {
   "cell_type": "markdown",
   "metadata": {},
   "source": [
    "### List"
   ]
  },
  {
   "cell_type": "code",
   "execution_count": 55,
   "metadata": {},
   "outputs": [
    {
     "name": "stdout",
     "output_type": "stream",
     "text": [
      "[23, 45, 'Nailor', 67.412, False, 'Python', 'Paul', [3, 4, 5], True]\n",
      "List: <class 'list'>\n"
     ]
    }
   ],
   "source": [
    "myList = [23, 45, \"Nailor\", 67.412, False, \"Python\", \"Paul\", [3, 4, 5], True]\n",
    "print(myList)\n",
    "print(\"List:\",type(myList))"
   ]
  },
  {
   "cell_type": "markdown",
   "metadata": {},
   "source": [
    "#### List Traversal"
   ]
  },
  {
   "cell_type": "code",
   "execution_count": 83,
   "metadata": {},
   "outputs": [
    {
     "name": "stdout",
     "output_type": "stream",
     "text": [
      "[23, 45, 'Nailor', 67.412, False, 'Python', 'Paul', [3, 4, 5], True]\n",
      "9\n",
      "23 45 Nailor 67.412 False Python Paul [3, 4, 5] True \n",
      "0 23\n",
      "1 45\n",
      "2 Nailor\n",
      "3 67.412\n",
      "4 False\n",
      "5 Python\n",
      "6 Paul\n",
      "7 [3, 4, 5]\n",
      "8 True\n",
      "\n"
     ]
    }
   ],
   "source": [
    "print(myList)\n",
    "print(len(myList))\n",
    "\n",
    "for item in myList:\n",
    "    print(item, end=\" \")\n",
    "print()\n",
    "\n",
    "for index in range(len(myList)):\n",
    "    print(index, myList[index])\n",
    "print()"
   ]
  },
  {
   "cell_type": "markdown",
   "metadata": {},
   "source": [
    "#### List Slicing"
   ]
  },
  {
   "cell_type": "code",
   "execution_count": 92,
   "metadata": {},
   "outputs": [
    {
     "name": "stdout",
     "output_type": "stream",
     "text": [
      "Nailor\n",
      "['Python', 'Paul', [3, 4, 5], True]\n",
      "['Python', 'Paul']\n",
      "[23, 67.412, 'Paul']\n",
      "[True, [3, 4, 5], 'Paul', 'Python', False, 67.412, 'Nailor', 45, 23]\n",
      "4\n"
     ]
    }
   ],
   "source": [
    "print(myList[2])\n",
    "print(myList[5:])\n",
    "print(myList[5:7])\n",
    "print(myList[::3])\n",
    "print(myList[::-1])\n",
    "print(myList[7][1])"
   ]
  },
  {
   "cell_type": "markdown",
   "metadata": {},
   "source": [
    "#### List Comprehension, Shallow and Deep Copy"
   ]
  },
  {
   "cell_type": "code",
   "execution_count": 97,
   "metadata": {},
   "outputs": [
    {
     "name": "stdout",
     "output_type": "stream",
     "text": [
      "[1, 2, 3, 4, 5, 6, 7, 8, 9, 10]\n",
      "[1, 2, 'A', 4, 5, 6, 7, 8, 9, 10]\n",
      "[1, 2, 'A', 4, 5, 6, 7, 8, 9, 10]\n",
      "[1, 2, 3, 4, 5]\n",
      "[1, 'Z', 3, 4, 5]\n"
     ]
    }
   ],
   "source": [
    "myList1 = [i for i in range(1,11)]\n",
    "print(myList1)\n",
    "\n",
    "myList2 = myList1\n",
    "myList1[2] = \"A\"\n",
    "\n",
    "print(myList1)\n",
    "print(myList2)\n",
    "\n",
    "myList3 = [i for i in range(1,6)]\n",
    "myList4 = myList3.copy()\n",
    "\n",
    "myList4[1] = \"Z\"\n",
    "print(myList3)\n",
    "print(myList4)\n"
   ]
  },
  {
   "cell_type": "markdown",
   "metadata": {},
   "source": [
    "#### List Methods"
   ]
  },
  {
   "cell_type": "code",
   "execution_count": 113,
   "metadata": {},
   "outputs": [
    {
     "name": "stdout",
     "output_type": "stream",
     "text": [
      "[23, 45.671, 'Remote', 'Laptop', False]\n",
      "[23, 45.671, 'Remote', 'Laptop', False, 'Smartphone']\n",
      "[23, 45.671, 'Remote', 'Laptop', False, 'Smartphone', 'F', 'K', 34]\n"
     ]
    }
   ],
   "source": [
    "myList = [23, 45.671, \"Remote\", \"Laptop\", False]\n",
    "print(myList)\n",
    "\n",
    "myList.append(\"Smartphone\")\n",
    "print(myList)\n",
    "\n",
    "myList.extend([\"F\", \"K\", 34])\n",
    "print(myList)"
   ]
  },
  {
   "cell_type": "code",
   "execution_count": 114,
   "metadata": {},
   "outputs": [
    {
     "name": "stdout",
     "output_type": "stream",
     "text": [
      "[23, 'Keyboard', 45.671, 'Remote', 'Laptop', False, 'Smartphone', 'F', 'K', 34]\n",
      "[23, 'Keyboard', 45.671, 'Remote', 'Laptop', False, 'Smartphone', 'F', 'K']\n",
      "[23, 'Keyboard', 45.671, 'Laptop', False, 'Smartphone', 'F', 'K']\n",
      "5\n",
      "['K', 'F', 'Smartphone', False, 'Laptop', 45.671, 'Keyboard', 23]\n"
     ]
    }
   ],
   "source": [
    "myList.insert(1, \"Keyboard\")\n",
    "print(myList)\n",
    "\n",
    "myList.pop()\n",
    "print(myList)\n",
    "\n",
    "myList.remove(\"Remote\")\n",
    "print(myList)\n",
    "\n",
    "print(myList.index(\"Smartphone\"))\n",
    "\n",
    "myList.reverse()\n",
    "print(myList)\n"
   ]
  },
  {
   "cell_type": "code",
   "execution_count": 117,
   "metadata": {},
   "outputs": [
    {
     "name": "stdout",
     "output_type": "stream",
     "text": [
      "['K', 'F', 'Smartphone', 'Laptop', 45.671, 'Keyboard', 23]\n",
      "['K', 'F', 'Smartphone', 45.671, 'Keyboard', 23]\n"
     ]
    }
   ],
   "source": [
    "print(myList)\n",
    "myList.pop(3)\n",
    "print(myList)"
   ]
  },
  {
   "cell_type": "code",
   "execution_count": 120,
   "metadata": {},
   "outputs": [
    {
     "name": "stdout",
     "output_type": "stream",
     "text": [
      "3\n"
     ]
    }
   ],
   "source": [
    "myList = ['A', 'B', 'C', 'C', 'E', 'A', 'A']\n",
    "print(myList.count('A'))"
   ]
  },
  {
   "cell_type": "code",
   "execution_count": 118,
   "metadata": {},
   "outputs": [
    {
     "name": "stdout",
     "output_type": "stream",
     "text": [
      "[1, 2, 3, 4, 6]\n",
      "[6, 4, 3, 2, 1]\n"
     ]
    }
   ],
   "source": [
    "myList2 = [6, 4, 1, 3, 2]\n",
    "myList2.sort()\n",
    "print(myList2)\n",
    "\n",
    "myList3 = [6, 4, 1, 3, 2]\n",
    "myList3.sort(reverse=True)\n",
    "print(myList3)"
   ]
  },
  {
   "cell_type": "code",
   "execution_count": 119,
   "metadata": {},
   "outputs": [
    {
     "name": "stdout",
     "output_type": "stream",
     "text": [
      "[]\n"
     ]
    }
   ],
   "source": [
    "myList.clear()\n",
    "print(myList)"
   ]
  },
  {
   "cell_type": "markdown",
   "metadata": {},
   "source": [
    "### Tuple"
   ]
  },
  {
   "cell_type": "code",
   "execution_count": 130,
   "metadata": {},
   "outputs": [
    {
     "name": "stdout",
     "output_type": "stream",
     "text": [
      "(23, 45, 67.412, False, 'C', 'Python', 'Project', [3, 4, 5], True, 'C', 'A')\n",
      "Type: <class 'tuple'>\n"
     ]
    }
   ],
   "source": [
    "myTuple = (23, 45, 67.412, False, 'C', \"Python\", \"Project\", [3, 4, 5], True, 'C', 'A')\n",
    "print(myTuple)\n",
    "print(\"Type:\", type(myTuple))"
   ]
  },
  {
   "cell_type": "code",
   "execution_count": 131,
   "metadata": {},
   "outputs": [
    {
     "name": "stdout",
     "output_type": "stream",
     "text": [
      "67.412\n",
      "(45, 67.412, False)\n",
      "('A', 'C', True, [3, 4, 5], 'Project', 'Python', 'C', False, 67.412, 45, 23)\n"
     ]
    }
   ],
   "source": [
    "print(myTuple[2])\n",
    "print(myTuple[1:4])\n",
    "print(myTuple[::-1])"
   ]
  },
  {
   "cell_type": "code",
   "execution_count": 132,
   "metadata": {},
   "outputs": [
    {
     "name": "stdout",
     "output_type": "stream",
     "text": [
      "2\n",
      "5\n"
     ]
    }
   ],
   "source": [
    "print(myTuple.count('C'))\n",
    "print(myTuple.index('Python'))"
   ]
  },
  {
   "cell_type": "code",
   "execution_count": 138,
   "metadata": {},
   "outputs": [
    {
     "data": {
      "text/plain": [
       "(23, 45, 67.412, False, 'C', 'Python', 'Project', [3, 'F', 5], True, 'C', 'A')"
      ]
     },
     "execution_count": 138,
     "metadata": {},
     "output_type": "execute_result"
    }
   ],
   "source": [
    "myTuple[7][1] = 'F'\n",
    "myTuple"
   ]
  },
  {
   "cell_type": "markdown",
   "metadata": {},
   "source": [
    "### Set"
   ]
  },
  {
   "cell_type": "code",
   "execution_count": 146,
   "metadata": {},
   "outputs": [
    {
     "name": "stdout",
     "output_type": "stream",
     "text": [
      "{1, 2, 3, 5, 6}\n",
      "{1, 2, 3, 5, 6, 7}\n",
      "{1, 2, 3, 5, 7}\n",
      "False\n",
      "True\n"
     ]
    }
   ],
   "source": [
    "myList = [1, 2, 3, 3, 5, 6, 5, 1]\n",
    "mySet = set(myList)\n",
    "print(mySet)\n",
    "\n",
    "mySet.add(7)\n",
    "print(mySet)\n",
    "\n",
    "mySet.remove(6)\n",
    "print(mySet)\n",
    "\n",
    "print(mySet.__contains__(4))\n",
    "print(mySet.__contains__(7))"
   ]
  },
  {
   "cell_type": "code",
   "execution_count": 142,
   "metadata": {},
   "outputs": [
    {
     "name": "stdout",
     "output_type": "stream",
     "text": [
      "{1, 2, 3}\n",
      "{1, 2, 3, 4, 5, 6, 7, 8}\n",
      "{4, 5}\n"
     ]
    }
   ],
   "source": [
    "mySet1 = {1, 2, 3, 4, 5}\n",
    "mySet2 = {4, 5, 6, 7, 8}\n",
    "\n",
    "print(mySet1 - mySet2)\n",
    "print(mySet1.union(mySet2))\n",
    "print(mySet1.intersection(mySet2))"
   ]
  },
  {
   "cell_type": "markdown",
   "metadata": {},
   "source": [
    "### Dictonary"
   ]
  },
  {
   "cell_type": "code",
   "execution_count": 152,
   "metadata": {},
   "outputs": [
    {
     "data": {
      "text/plain": [
       "{'A': 1, 'B': 2, 'C': True, 'D': [3, 4, 'F'], 'E': 'Paul'}"
      ]
     },
     "execution_count": 152,
     "metadata": {},
     "output_type": "execute_result"
    }
   ],
   "source": [
    "myDict = {\"A\": 1, \"B\": 2, \"C\": True, \"D\": [3, 4, 'F'], \"E\": \"Paul\"}\n",
    "myDict"
   ]
  },
  {
   "cell_type": "code",
   "execution_count": 154,
   "metadata": {},
   "outputs": [
    {
     "name": "stdout",
     "output_type": "stream",
     "text": [
      "1\n",
      "[3, 4, 'F']\n",
      "{'A': 1, 'B': 2, 'C': True, 'D': [3, 4, 'F'], 'E': 'Brandon'}\n",
      "{'A': 1, 'B': 2, 'C': True, 'D': [3, 4, 'F'], 'E': 'Brandon', 'F': True}\n"
     ]
    }
   ],
   "source": [
    "print(myDict[\"A\"])\n",
    "print(myDict.get(\"D\"))\n",
    "\n",
    "myDict[\"E\"] = \"Brandon\"\n",
    "print(myDict)\n",
    "\n",
    "myDict[\"F\"] = True\n",
    "print(myDict)"
   ]
  },
  {
   "cell_type": "code",
   "execution_count": 156,
   "metadata": {},
   "outputs": [
    {
     "name": "stdout",
     "output_type": "stream",
     "text": [
      "dict_keys(['A', 'B', 'C', 'D', 'E', 'F'])\n",
      "dict_values([1, 2, True, [3, 4, 'F'], 'Brandon', True])\n"
     ]
    }
   ],
   "source": [
    "print(myDict.keys())\n",
    "print(myDict.values())"
   ]
  },
  {
   "cell_type": "code",
   "execution_count": 157,
   "metadata": {},
   "outputs": [
    {
     "name": "stdout",
     "output_type": "stream",
     "text": [
      "{'A': 1, 'C': True, 'D': [3, 4, 'F'], 'E': 'Brandon', 'F': True}\n"
     ]
    }
   ],
   "source": [
    "myDict.pop(\"B\")\n",
    "print(myDict)"
   ]
  },
  {
   "cell_type": "markdown",
   "metadata": {},
   "source": [
    "### Functions"
   ]
  },
  {
   "cell_type": "code",
   "execution_count": 1,
   "metadata": {},
   "outputs": [
    {
     "name": "stdout",
     "output_type": "stream",
     "text": [
      "25\n",
      "13\n",
      "33\n"
     ]
    }
   ],
   "source": [
    "def add(num1 = 0, num2 = 0):\n",
    "    return num1 + num2\n",
    "\n",
    "print(add(13, 12))\n",
    "print(add(13))\n",
    "print(add(num2 = 15, num1 = 18))"
   ]
  },
  {
   "cell_type": "markdown",
   "metadata": {},
   "source": [
    "#### Lambda Functions"
   ]
  },
  {
   "cell_type": "code",
   "execution_count": 2,
   "metadata": {},
   "outputs": [
    {
     "name": "stdout",
     "output_type": "stream",
     "text": [
      "96\n"
     ]
    }
   ],
   "source": [
    "product = lambda num1, num2: num1 * num2\n",
    "print(product(12, 8))"
   ]
  },
  {
   "cell_type": "markdown",
   "metadata": {},
   "source": [
    "#### Map, Filter and Reduce"
   ]
  },
  {
   "cell_type": "code",
   "execution_count": 3,
   "metadata": {},
   "outputs": [],
   "source": [
    "myList = [1, 3, 2, 5, 4]"
   ]
  },
  {
   "cell_type": "markdown",
   "metadata": {},
   "source": [
    "##### Map"
   ]
  },
  {
   "cell_type": "code",
   "execution_count": 5,
   "metadata": {},
   "outputs": [
    {
     "name": "stdout",
     "output_type": "stream",
     "text": [
      "2 6 4 10 8 "
     ]
    }
   ],
   "source": [
    "myMappedList = map(lambda x : x * 2, myList)\n",
    "for _ in myMappedList:\n",
    "    print(_, end=\" \")"
   ]
  },
  {
   "cell_type": "markdown",
   "metadata": {},
   "source": [
    "##### Filter"
   ]
  },
  {
   "cell_type": "code",
   "execution_count": 6,
   "metadata": {},
   "outputs": [
    {
     "name": "stdout",
     "output_type": "stream",
     "text": [
      "2 4 "
     ]
    }
   ],
   "source": [
    "myFilteredList = filter(lambda x : x % 2 == 0, myList)\n",
    "for _ in myFilteredList:\n",
    "    print(_, end=\" \")"
   ]
  },
  {
   "cell_type": "markdown",
   "metadata": {},
   "source": [
    "##### Reduce"
   ]
  },
  {
   "cell_type": "code",
   "execution_count": 10,
   "metadata": {},
   "outputs": [
    {
     "name": "stdout",
     "output_type": "stream",
     "text": [
      "15\n"
     ]
    }
   ],
   "source": [
    "import functools \n",
    "myListSum = functools.reduce(lambda x, acc = 0 : x + acc, myList)\n",
    "print(myListSum)"
   ]
  },
  {
   "cell_type": "markdown",
   "metadata": {},
   "source": [
    "### Virtual Environments\n",
    "\n",
    "#### Create seperate vrtual environment to avoid dependency and compatability issues."
   ]
  },
  {
   "cell_type": "code",
   "execution_count": 3,
   "metadata": {},
   "outputs": [],
   "source": [
    "#pip install virtualenv\n",
    "\n",
    "#mkdir web_apps\n",
    "#cd web_apps\n",
    "\n",
    "#python -m venv .\n",
    "\n",
    "#.\\Scripts\\activate.bat"
   ]
  },
  {
   "cell_type": "code",
   "execution_count": null,
   "metadata": {},
   "outputs": [],
   "source": []
  }
 ],
 "metadata": {
  "kernelspec": {
   "display_name": "Python 3",
   "language": "python",
   "name": "python3"
  },
  "language_info": {
   "codemirror_mode": {
    "name": "ipython",
    "version": 3
   },
   "file_extension": ".py",
   "mimetype": "text/x-python",
   "name": "python",
   "nbconvert_exporter": "python",
   "pygments_lexer": "ipython3",
   "version": "3.10.11"
  }
 },
 "nbformat": 4,
 "nbformat_minor": 2
}
