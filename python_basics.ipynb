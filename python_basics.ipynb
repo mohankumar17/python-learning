{
 "cells": [
  {
   "cell_type": "markdown",
   "metadata": {},
   "source": [
    "# Python Basics"
   ]
  },
  {
   "cell_type": "code",
   "execution_count": 2,
   "metadata": {},
   "outputs": [
    {
     "name": "stdout",
     "output_type": "stream",
     "text": [
      "Hello Python!\n"
     ]
    }
   ],
   "source": [
    "print(\"Hello Python!\")"
   ]
  },
  {
   "cell_type": "markdown",
   "metadata": {},
   "source": [
    "### Variables"
   ]
  },
  {
   "cell_type": "code",
   "execution_count": 56,
   "metadata": {},
   "outputs": [
    {
     "name": "stdout",
     "output_type": "stream",
     "text": [
      "Welcome\n"
     ]
    }
   ],
   "source": [
    "myVar = \"Welcome\"\n",
    "print(myVar)"
   ]
  },
  {
   "cell_type": "markdown",
   "metadata": {},
   "source": [
    "### Data Types - String, Integer, Float, Complex, Bool, List, Tuple, Set, Dict"
   ]
  },
  {
   "cell_type": "code",
   "execution_count": 57,
   "metadata": {},
   "outputs": [
    {
     "name": "stdout",
     "output_type": "stream",
     "text": [
      "<class 'str'>\n"
     ]
    }
   ],
   "source": [
    "print(type(myVar))"
   ]
  },
  {
   "cell_type": "code",
   "execution_count": 5,
   "metadata": {},
   "outputs": [
    {
     "name": "stdout",
     "output_type": "stream",
     "text": [
      "128 <class 'int'>\n",
      "54.234 <class 'float'>\n",
      "True <class 'bool'>\n",
      "(23+4j) Type:  <class 'complex'>\n"
     ]
    }
   ],
   "source": [
    "intNum = 128\n",
    "print(intNum, type(intNum))\n",
    "\n",
    "floatNum = 54.234\n",
    "print(floatNum, type(floatNum))\n",
    "\n",
    "boolValue = True\n",
    "print(boolValue, type(boolValue))\n",
    "\n",
    "complexValue = 23 + 4j\n",
    "print(complexValue, \"Type: \", type(complexValue))"
   ]
  },
  {
   "cell_type": "markdown",
   "metadata": {},
   "source": [
    "### Operators \n",
    "1. Arithemetic (+, -, *, /, //, %, **)\n",
    "2. Relational (>, >=,<, <=, ==)\n",
    "3. Logical (and, or, not)\n",
    "4. Bitwise (&, |, ~, ^, >>, <<)\n",
    "5. Misc: Shorthand expression (eg. a += 1)"
   ]
  },
  {
   "cell_type": "markdown",
   "metadata": {},
   "source": [
    "#### Arithmetic Operators"
   ]
  },
  {
   "cell_type": "code",
   "execution_count": 36,
   "metadata": {},
   "outputs": [
    {
     "name": "stdout",
     "output_type": "stream",
     "text": [
      "Sum: 38\n",
      "Difference: 14\n",
      "Product: 312\n",
      "Division: 2.5833333333333335\n",
      "Floor Division: 2\n",
      "Remainder: 2\n",
      "Power: 144\n"
     ]
    }
   ],
   "source": [
    "num1 = 12\n",
    "num2 = 26\n",
    "num3 = 31\n",
    "\n",
    "print(\"Sum:\", num1 + num2)\n",
    "print(\"Difference:\", num2 - num1)\n",
    "print(\"Product:\", num1 * num2)\n",
    "print(\"Division:\", num3 / num1)\n",
    "print(\"Floor Division:\", num3 // num1)\n",
    "print(\"Remainder:\", num2 % num1)\n",
    "print(\"Power:\", num1 ** 2)"
   ]
  },
  {
   "cell_type": "markdown",
   "metadata": {},
   "source": [
    "#### F String"
   ]
  },
  {
   "cell_type": "code",
   "execution_count": 13,
   "metadata": {},
   "outputs": [
    {
     "name": "stdout",
     "output_type": "stream",
     "text": [
      "Sum of 12 and 26 is: 38\n"
     ]
    }
   ],
   "source": [
    "print(f'Sum of {num1} and {num2} is: {num1 + num2}')"
   ]
  },
  {
   "cell_type": "markdown",
   "metadata": {},
   "source": [
    "#### Relational Operators"
   ]
  },
  {
   "cell_type": "code",
   "execution_count": 15,
   "metadata": {},
   "outputs": [
    {
     "name": "stdout",
     "output_type": "stream",
     "text": [
      "True\n",
      "False\n",
      "True\n",
      "False\n"
     ]
    }
   ],
   "source": [
    "print(num2 > num1)\n",
    "print(num3 <= num2)\n",
    "print(num1 != num2)\n",
    "print(num1 == num2)"
   ]
  },
  {
   "cell_type": "markdown",
   "metadata": {},
   "source": [
    "#### Logical Operators"
   ]
  },
  {
   "cell_type": "code",
   "execution_count": 17,
   "metadata": {},
   "outputs": [
    {
     "name": "stdout",
     "output_type": "stream",
     "text": [
      "True\n",
      "False\n",
      "True\n",
      "False\n",
      "False\n"
     ]
    }
   ],
   "source": [
    "print(True and True)\n",
    "print(True and False)\n",
    "\n",
    "print(True or False)\n",
    "print(False or False)\n",
    "\n",
    "print(not True)\n"
   ]
  },
  {
   "cell_type": "markdown",
   "metadata": {},
   "source": [
    "#### Bitwise Operators"
   ]
  },
  {
   "cell_type": "code",
   "execution_count": 37,
   "metadata": {},
   "outputs": [
    {
     "name": "stdout",
     "output_type": "stream",
     "text": [
      "0b1100 & 0b1001 ----> 8\n",
      "0b1100 | 0b1001 ----> 13\n",
      "~12 ----> -13\n",
      "~-17 ----> 16\n",
      "0b1100 ^ 0b1001 (XOR) ----> 5\n",
      "12 >> 2 = (12 / (2 ** 2)) ----> 3\n",
      "12 << 3 = (12 * (2 ** 3)) ----> 96\n",
      "13\n"
     ]
    }
   ],
   "source": [
    "num1 = 12\n",
    "num2 = 9\n",
    "num3 = -17\n",
    "\n",
    "binaryNum1 = bin(num1)\n",
    "binaryNum2 = bin(num2)\n",
    "binaryNum3 = bin(num3)\n",
    "\n",
    "print(f'{binaryNum1} & {binaryNum2} ----> {num1 & num2}')\n",
    "print(f'{binaryNum1} | {binaryNum2} ----> {num1 | num2}')\n",
    "print(f'~{num1} ----> {~num1}')\n",
    "print(f'~{num3} ----> {~num3}')\n",
    "print(f'{binaryNum1} ^ {binaryNum2} (XOR) ----> {num1 ^ num2}')\n",
    "print(f'{num1} >> 2 = ({num1} / (2 ** 2)) ----> {num1 >> 2}')\n",
    "print(f'{num1} << 3 = ({num1} * (2 ** 3)) ----> {num1 << 3}')\n",
    "\n",
    "print(0b1101)\n"
   ]
  },
  {
   "cell_type": "markdown",
   "metadata": {},
   "source": [
    "#### Shorthand Operators"
   ]
  },
  {
   "cell_type": "code",
   "execution_count": 38,
   "metadata": {},
   "outputs": [
    {
     "name": "stdout",
     "output_type": "stream",
     "text": [
      "16\n"
     ]
    }
   ],
   "source": [
    "num1 = 15\n",
    "num1 += 1\n",
    "print(num1)"
   ]
  },
  {
   "cell_type": "markdown",
   "metadata": {},
   "source": [
    "### String"
   ]
  },
  {
   "cell_type": "code",
   "execution_count": 52,
   "metadata": {},
   "outputs": [
    {
     "name": "stdout",
     "output_type": "stream",
     "text": [
      "23\n"
     ]
    }
   ],
   "source": [
    "myStr1 = \"this is Python Notebook\"\n",
    "myStr2 = \"   Laptop         \"\n",
    "myStr3 = \"Smartphone\"\n",
    "myStr4 = \"3456\"\n",
    "myStr5 = \"bluetooth123\" \n",
    "\n",
    "print(len(myStr1))"
   ]
  },
  {
   "cell_type": "markdown",
   "metadata": {},
   "source": [
    "#### String Slicing"
   ]
  },
  {
   "cell_type": "code",
   "execution_count": 53,
   "metadata": {},
   "outputs": [
    {
     "name": "stdout",
     "output_type": "stream",
     "text": [
      "h\n",
      "k\n",
      "Python Notebook\n",
      "Python Notebook\n",
      "koobetoN nohtyP si siht\n",
      "ti sPto oeok\n"
     ]
    }
   ],
   "source": [
    "print(myStr1[1])\n",
    "print(myStr1[-1])\n",
    "print(myStr1[8:])\n",
    "print(myStr1[8:])\n",
    "print(myStr1[::-1])\n",
    "print(myStr1[::2])"
   ]
  },
  {
   "cell_type": "markdown",
   "metadata": {},
   "source": [
    "#### String Methods"
   ]
  },
  {
   "cell_type": "code",
   "execution_count": 54,
   "metadata": {},
   "outputs": [
    {
     "name": "stdout",
     "output_type": "stream",
     "text": [
      "This is python notebook\n",
      "THIS IS PYTHON NOTEBOOK\n",
      "this is python notebook\n",
      "8\n",
      "3\n",
      "['this', 'is', 'Python', 'Notebook']\n",
      "True\n",
      "True\n",
      "-------------this is Python Notebook--------------\n",
      "Laptop         \n",
      "   Laptop\n",
      "Laptop\n",
      "Smartphone**********\n",
      "^^^^^^^^^^Smartphone\n",
      "4\n",
      "False\n",
      "True\n",
      "True\n",
      "True\n",
      "True\n"
     ]
    }
   ],
   "source": [
    "print(myStr1.capitalize())\n",
    "print(myStr1.upper())\n",
    "print(myStr1.lower())\n",
    "print(myStr1.index(\"P\"))\n",
    "print(myStr1.find(\"s\"))\n",
    "print(myStr1.split(\" \"))\n",
    "print(myStr1.startswith(\"t\"))\n",
    "print(myStr1.endswith(\"k\"))\n",
    "print(myStr1.center(50, \"-\"))\n",
    "\n",
    "print(myStr2.lstrip(\" \"))\n",
    "print(myStr2.rstrip(\" \"))\n",
    "print(myStr2.strip(\" \"))\n",
    "\n",
    "print(myStr3.ljust(20, \"*\"))\n",
    "print(myStr3.rjust(20, \"^\"))\n",
    "\n",
    "print(myStr1.count(\"o\"))\n",
    "print(myStr5.isupper())\n",
    "print(myStr5.islower())\n",
    "print(myStr3.isalpha())\n",
    "print(myStr4.isdigit())\n",
    "print(myStr5.isalnum())\n"
   ]
  },
  {
   "cell_type": "markdown",
   "metadata": {},
   "source": [
    "### Conditional Statements"
   ]
  },
  {
   "cell_type": "code",
   "execution_count": 67,
   "metadata": {},
   "outputs": [
    {
     "name": "stdout",
     "output_type": "stream",
     "text": [
      "Odd\n"
     ]
    }
   ],
   "source": [
    "num1 = int(input(\"Enter Number: \"))\n",
    "if num1 % 2 == 0:\n",
    "    print(\"Even\")\n",
    "else:\n",
    "    print(\"Odd\")"
   ]
  },
  {
   "cell_type": "code",
   "execution_count": 71,
   "metadata": {},
   "outputs": [
    {
     "name": "stdout",
     "output_type": "stream",
     "text": [
      "Children\n"
     ]
    }
   ],
   "source": [
    "age = int(input(\"Enter Age: \"))\n",
    "if age >= 56:\n",
    "    print(\"Senior Citizens\")\n",
    "elif age >= 24 and age < 56:\n",
    "    print(\"Citizens\")\n",
    "elif age >= 18 and age < 24:\n",
    "    print(\"Young Adults\")\n",
    "else:\n",
    "    print(\"Children\")"
   ]
  },
  {
   "cell_type": "markdown",
   "metadata": {},
   "source": [
    "#### Range"
   ]
  },
  {
   "cell_type": "code",
   "execution_count": 75,
   "metadata": {},
   "outputs": [],
   "source": [
    "myRange1 = range(1, 11)\n",
    "myRange2 = range(10, 101, 5)"
   ]
  },
  {
   "cell_type": "markdown",
   "metadata": {},
   "source": [
    "### Iterative Statements"
   ]
  },
  {
   "cell_type": "code",
   "execution_count": 81,
   "metadata": {},
   "outputs": [
    {
     "name": "stdout",
     "output_type": "stream",
     "text": [
      "Landlord\n",
      "1 2 3 4 5 6 7 8 9 10 \n",
      "10 15 20 25 30 35 40 45 50 55 60 65 70 75 80 85 90 95 100 \n",
      "0 1 2 3 4 5 6 7 8 9 10 \n"
     ]
    }
   ],
   "source": [
    "myStr = \"Landlord\"\n",
    "for char in myStr:\n",
    "    print(char, end= \"\")\n",
    "print()\n",
    "\n",
    "for _ in myRange1:\n",
    "    print(_, end=\" \")\n",
    "print()\n",
    "\n",
    "for _ in myRange2:\n",
    "    print(_, end=\" \")\n",
    "print()\n",
    "\n",
    "num = 0\n",
    "while num < 11:\n",
    "    print(num, end=\" \")\n",
    "    num += 1\n",
    "print()"
   ]
  },
  {
   "cell_type": "code",
   "execution_count": 86,
   "metadata": {},
   "outputs": [
    {
     "name": "stdout",
     "output_type": "stream",
     "text": [
      "1 3 5 7 9 11 13 \n"
     ]
    }
   ],
   "source": [
    "for num in range(20):\n",
    "    if num % 2 == 0:\n",
    "        continue\n",
    "    if num > 13:\n",
    "        break\n",
    "\n",
    "    print(num, end=\" \")\n",
    "print()\n"
   ]
  },
  {
   "cell_type": "markdown",
   "metadata": {},
   "source": [
    "### List"
   ]
  },
  {
   "cell_type": "code",
   "execution_count": 55,
   "metadata": {},
   "outputs": [
    {
     "name": "stdout",
     "output_type": "stream",
     "text": [
      "[23, 45, 'Nailor', 67.412, False, 'Python', 'Paul', [3, 4, 5], True]\n",
      "List: <class 'list'>\n"
     ]
    }
   ],
   "source": [
    "myList = [23, 45, \"Nailor\", 67.412, False, \"Python\", \"Paul\", [3, 4, 5], True]\n",
    "print(myList)\n",
    "print(\"List:\",type(myList))"
   ]
  },
  {
   "cell_type": "markdown",
   "metadata": {},
   "source": [
    "#### List Traversal"
   ]
  },
  {
   "cell_type": "code",
   "execution_count": 83,
   "metadata": {},
   "outputs": [
    {
     "name": "stdout",
     "output_type": "stream",
     "text": [
      "[23, 45, 'Nailor', 67.412, False, 'Python', 'Paul', [3, 4, 5], True]\n",
      "9\n",
      "23 45 Nailor 67.412 False Python Paul [3, 4, 5] True \n",
      "0 23\n",
      "1 45\n",
      "2 Nailor\n",
      "3 67.412\n",
      "4 False\n",
      "5 Python\n",
      "6 Paul\n",
      "7 [3, 4, 5]\n",
      "8 True\n",
      "\n"
     ]
    }
   ],
   "source": [
    "print(myList)\n",
    "print(len(myList))\n",
    "\n",
    "for item in myList:\n",
    "    print(item, end=\" \")\n",
    "print()\n",
    "\n",
    "for index in range(len(myList)):\n",
    "    print(index, myList[index])\n",
    "print()"
   ]
  },
  {
   "cell_type": "markdown",
   "metadata": {},
   "source": [
    "#### List Slicing"
   ]
  },
  {
   "cell_type": "code",
   "execution_count": null,
   "metadata": {},
   "outputs": [],
   "source": []
  },
  {
   "cell_type": "markdown",
   "metadata": {},
   "source": [
    "#### List Methods"
   ]
  },
  {
   "cell_type": "code",
   "execution_count": null,
   "metadata": {},
   "outputs": [],
   "source": []
  },
  {
   "cell_type": "markdown",
   "metadata": {},
   "source": [
    "### Tuple"
   ]
  },
  {
   "cell_type": "code",
   "execution_count": 7,
   "metadata": {},
   "outputs": [
    {
     "name": "stdout",
     "output_type": "stream",
     "text": [
      "(23, 45, 67.412, False, 'Python', 'Project', [3, 4, 5], True)\n",
      "Type: <class 'tuple'>\n"
     ]
    }
   ],
   "source": [
    "myTuple = (23, 45, 67.412, False, \"Python\", \"Project\", [3, 4, 5], True)\n",
    "print(myTuple)\n",
    "print(\"Type:\", type(myTuple))"
   ]
  }
 ],
 "metadata": {
  "kernelspec": {
   "display_name": "Python 3",
   "language": "python",
   "name": "python3"
  },
  "language_info": {
   "codemirror_mode": {
    "name": "ipython",
    "version": 3
   },
   "file_extension": ".py",
   "mimetype": "text/x-python",
   "name": "python",
   "nbconvert_exporter": "python",
   "pygments_lexer": "ipython3",
   "version": "3.10.11"
  }
 },
 "nbformat": 4,
 "nbformat_minor": 2
}
