{
 "cells": [
  {
   "cell_type": "markdown",
   "metadata": {},
   "source": [
    "### Email - SMTP"
   ]
  },
  {
   "cell_type": "code",
   "execution_count": 1,
   "metadata": {},
   "outputs": [],
   "source": [
    "import smtplib\n",
    "from email.mime.text import MIMEText"
   ]
  },
  {
   "cell_type": "code",
   "execution_count": 2,
   "metadata": {},
   "outputs": [],
   "source": [
    "subject = \"Python - Sample Email Subject\"\n",
    "body = \"Hi,\\n\\nThis is the sample body of the email sent from Python\\n\\nRegards,\\nPython SMTPLIB\"\n",
    "sender = \"<sender@gmail.com>\"\n",
    "password = \"<App Password (16 Character)>\" #Not regular Google User Password - Generate App Password In Google Account Page.\n",
    "recipients = [\"receiver1@gmail.com\", \"receiver2@gmail.com\"]"
   ]
  },
  {
   "cell_type": "code",
   "execution_count": null,
   "metadata": {},
   "outputs": [],
   "source": [
    "def send_email(subject, body, sender, recipients, password):\n",
    "   msg = MIMEText(body)\n",
    "   msg['Subject'] = subject\n",
    "   msg['From'] = sender\n",
    "   msg['To'] = ', '.join(recipients)\n",
    "   \n",
    "   with smtplib.SMTP_SSL(host='smtp.gmail.com', port=465) as smtp_server:\n",
    "      smtp_server.login(user=sender, password=password)\n",
    "      smtp_server.sendmail(from_addr=sender, to_addrs=recipients, msg=msg.as_string())\n",
    "   print(\"Mail sent!\")"
   ]
  },
  {
   "cell_type": "code",
   "execution_count": null,
   "metadata": {},
   "outputs": [],
   "source": [
    "send_email(subject, body, sender, recipients, password)"
   ]
  }
 ],
 "metadata": {
  "kernelspec": {
   "display_name": ".venv",
   "language": "python",
   "name": "python3"
  },
  "language_info": {
   "codemirror_mode": {
    "name": "ipython",
    "version": 3
   },
   "file_extension": ".py",
   "mimetype": "text/x-python",
   "name": "python",
   "nbconvert_exporter": "python",
   "pygments_lexer": "ipython3",
   "version": "3.10.11"
  }
 },
 "nbformat": 4,
 "nbformat_minor": 2
}
