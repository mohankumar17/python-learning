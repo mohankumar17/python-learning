{
 "cells": [
  {
   "cell_type": "markdown",
   "metadata": {},
   "source": [
    "### Beautiful Soap - HTML Parsing"
   ]
  },
  {
   "cell_type": "code",
   "execution_count": null,
   "metadata": {},
   "outputs": [
    {
     "name": "stdout",
     "output_type": "stream",
     "text": [
      "text/html; charset=UTF-8\n",
      "Title:  <title>Data science - Wikipedia</title>\n",
      "First Link:  <a class=\"mw-jump-link\" href=\"#bodyContent\">Jump to content</a>\n",
      "Link Attributes:  {'class': ['mw-jump-link'], 'href': '#bodyContent'}\n",
      "Link Attributes Value:  #bodyContent\n"
     ]
    }
   ],
   "source": [
    "import requests\n",
    "from bs4 import BeautifulSoup\n",
    "\n",
    "url = \"https://en.wikipedia.org/wiki/Data_science\"\n",
    "\n",
    "res = requests.get(url)\n",
    "if res.status_code == 200:\n",
    "    print(res.headers[\"Content-Type\"])\n",
    "    html_page = res.text\n",
    "    soup = BeautifulSoup(html_page, \"html.parser\")\n",
    "\n",
    "    print(\"Title: \", soup.title)\n",
    "    #print(\"First Unordered List: \", soup.ul)\n",
    "    print(\"First Link: \", soup.a)\n",
    "    #print(\"All Links: \", soup.find_all(\"a\"))\n",
    "    print(\"Link Attributes: \", soup.a.attrs)\n",
    "    print(\"Link Attributes Value: \", soup.a[\"href\"])"
   ]
  }
 ],
 "metadata": {
  "language_info": {
   "name": "python"
  }
 },
 "nbformat": 4,
 "nbformat_minor": 2
}
