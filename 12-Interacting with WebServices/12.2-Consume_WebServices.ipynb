{
 "cells": [
  {
   "cell_type": "markdown",
   "metadata": {},
   "source": [
    "## Consuming WebSerivces/APIs in Python"
   ]
  },
  {
   "cell_type": "code",
   "execution_count": null,
   "metadata": {},
   "outputs": [],
   "source": [
    "import requests"
   ]
  },
  {
   "cell_type": "code",
   "execution_count": null,
   "metadata": {},
   "outputs": [],
   "source": [
    "url = \"https://jsonplaceholder.typicode.com/posts\""
   ]
  },
  {
   "cell_type": "code",
   "execution_count": null,
   "metadata": {},
   "outputs": [],
   "source": [
    "id = 5"
   ]
  },
  {
   "cell_type": "code",
   "execution_count": null,
   "metadata": {},
   "outputs": [
    {
     "name": "stdout",
     "output_type": "stream",
     "text": [
      "Response in JSON format: {'userId': 1, 'id': 5, 'title': 'nesciunt quas odio', 'body': 'repudiandae veniam quaerat sunt sed\\nalias aut fugiat sit autem sed est\\nvoluptatem omnis possimus esse voluptatibus quis\\nest aut tenetur dolor neque'}\n",
      "Headers:  {'Date': 'Wed, 20 Mar 2024 15:55:33 GMT', 'Content-Type': 'application/json; charset=utf-8', 'Transfer-Encoding': 'chunked', 'Connection': 'keep-alive', 'Report-To': '{\"group\":\"heroku-nel\",\"max_age\":3600,\"endpoints\":[{\"url\":\"https://nel.heroku.com/reports?ts=1710353771&sid=e11707d5-02a7-43ef-b45e-2cf4d2036f7d&s=EoHwxNsx4vXT3Glp3y4lgD5UiP4qHnPvys7c6gox76I%3D\"}]}', 'Reporting-Endpoints': 'heroku-nel=https://nel.heroku.com/reports?ts=1710353771&sid=e11707d5-02a7-43ef-b45e-2cf4d2036f7d&s=EoHwxNsx4vXT3Glp3y4lgD5UiP4qHnPvys7c6gox76I%3D', 'Nel': '{\"report_to\":\"heroku-nel\",\"max_age\":3600,\"success_fraction\":0.005,\"failure_fraction\":0.05,\"response_headers\":[\"Via\"]}', 'X-Powered-By': 'Express', 'X-Ratelimit-Limit': '1000', 'X-Ratelimit-Remaining': '999', 'X-Ratelimit-Reset': '1710353822', 'Vary': 'Origin, Accept-Encoding', 'Access-Control-Allow-Credentials': 'true', 'Cache-Control': 'max-age=43200', 'Pragma': 'no-cache', 'Expires': '-1', 'X-Content-Type-Options': 'nosniff', 'Etag': 'W/\"e1-IivojO0CtPZmcMK0iydTbsfG7Wc\"', 'Via': '1.1 vegur', 'CF-Cache-Status': 'HIT', 'Age': '3649', 'Server': 'cloudflare', 'CF-RAY': '8676e31d6ddb383a-FRA', 'Content-Encoding': 'gzip', 'alt-svc': 'h3=\":443\"; ma=86400'}\n",
      "Media Type: application/json; charset=utf-8\n"
     ]
    }
   ],
   "source": [
    "try:\n",
    "    #resp = requests.get(url, attributes)\n",
    "    resp = requests.get(url+\"/\"+str(id))\n",
    "    if resp.status_code == 200:\n",
    "        #print(\"Response in raw format:\", resp.text)\n",
    "        print(\"Response in JSON format:\", resp.json())\n",
    "        print(\"Headers: \",resp.headers)\n",
    "        print(\"Media Type:\", resp.headers['Content-Type'])\n",
    "except Exception as e:\n",
    "    print(e)"
   ]
  },
  {
   "cell_type": "code",
   "execution_count": null,
   "metadata": {},
   "outputs": [
    {
     "data": {
      "text/plain": [
       "{'userId': 1,\n",
       " 'id': 5,\n",
       " 'title': 'nesciunt quas odio',\n",
       " 'body': 'repudiandae veniam quaerat sunt sed\\nalias aut fugiat sit autem sed est\\nvoluptatem omnis possimus esse voluptatibus quis\\nest aut tenetur dolor neque'}"
      ]
     },
     "metadata": {},
     "output_type": "display_data"
    }
   ],
   "source": [
    "resp.json()"
   ]
  },
  {
   "cell_type": "markdown",
   "metadata": {},
   "source": [
    "#### CRUD Operations with REST API"
   ]
  },
  {
   "cell_type": "code",
   "execution_count": null,
   "metadata": {},
   "outputs": [],
   "source": [
    "url = \"https://reqres.in/api/users/\""
   ]
  },
  {
   "cell_type": "markdown",
   "metadata": {},
   "source": [
    "#### Read (GET)"
   ]
  },
  {
   "cell_type": "code",
   "execution_count": null,
   "metadata": {},
   "outputs": [],
   "source": [
    "id = 3"
   ]
  },
  {
   "cell_type": "code",
   "execution_count": null,
   "metadata": {},
   "outputs": [],
   "source": [
    "try:\n",
    "    resp = requests.get(url + str(id))\n",
    "    if resp.status_code == 200:\n",
    "        resp_body = resp.json()\n",
    "except Exception as e:\n",
    "    print(e)"
   ]
  },
  {
   "cell_type": "code",
   "execution_count": null,
   "metadata": {},
   "outputs": [
    {
     "data": {
      "text/plain": [
       "{'data': {'id': 3,\n",
       "  'email': 'emma.wong@reqres.in',\n",
       "  'first_name': 'Emma',\n",
       "  'last_name': 'Wong',\n",
       "  'avatar': 'https://reqres.in/img/faces/3-image.jpg'},\n",
       " 'support': {'url': 'https://reqres.in/#support-heading',\n",
       "  'text': 'To keep ReqRes free, contributions towards server costs are appreciated!'}}"
      ]
     },
     "metadata": {},
     "output_type": "display_data"
    }
   ],
   "source": [
    "resp_body"
   ]
  },
  {
   "cell_type": "markdown",
   "metadata": {},
   "source": [
    "#### Create (POST)"
   ]
  },
  {
   "cell_type": "code",
   "execution_count": null,
   "metadata": {},
   "outputs": [],
   "source": [
    "req_body = {\n",
    "    \"name\": \"Paul Brandon\",\n",
    "    \"job\": \"Telecomm Operator\"\n",
    "}"
   ]
  },
  {
   "cell_type": "code",
   "execution_count": null,
   "metadata": {},
   "outputs": [],
   "source": [
    "try:\n",
    "    resp = requests.post(url, req_body)\n",
    "    if resp.status_code == 201:\n",
    "        resp_body = resp.json()\n",
    "except Exception as e:\n",
    "    print(e)"
   ]
  },
  {
   "cell_type": "code",
   "execution_count": null,
   "metadata": {},
   "outputs": [
    {
     "data": {
      "text/plain": [
       "{'name': 'Paul Brandon',\n",
       " 'job': 'Telecomm Operator',\n",
       " 'id': '511',\n",
       " 'createdAt': '2024-03-20T16:08:30.755Z'}"
      ]
     },
     "metadata": {},
     "output_type": "display_data"
    }
   ],
   "source": [
    "resp_body"
   ]
  },
  {
   "cell_type": "markdown",
   "metadata": {},
   "source": [
    "#### Update (PUT)"
   ]
  },
  {
   "cell_type": "code",
   "execution_count": null,
   "metadata": {},
   "outputs": [],
   "source": [
    "req_body = {\n",
    "    \"name\": \"Paul Brandon\",\n",
    "    \"job\": \"Software Engineer\"\n",
    "}"
   ]
  },
  {
   "cell_type": "code",
   "execution_count": null,
   "metadata": {},
   "outputs": [],
   "source": [
    "try:\n",
    "    resp = requests.put(url + str(id), req_body)\n",
    "    if resp.status_code == 200:\n",
    "        resp_body = resp.json()\n",
    "except Exception as e:\n",
    "    print(e)"
   ]
  },
  {
   "cell_type": "code",
   "execution_count": null,
   "metadata": {},
   "outputs": [
    {
     "data": {
      "text/plain": [
       "{'name': 'Paul Brandon',\n",
       " 'job': 'Software Engineer',\n",
       " 'updatedAt': '2024-03-20T16:12:18.190Z'}"
      ]
     },
     "metadata": {},
     "output_type": "display_data"
    }
   ],
   "source": [
    "resp_body"
   ]
  },
  {
   "cell_type": "markdown",
   "metadata": {},
   "source": [
    "#### Delete (DELETE)"
   ]
  },
  {
   "cell_type": "code",
   "execution_count": null,
   "metadata": {},
   "outputs": [
    {
     "name": "stdout",
     "output_type": "stream",
     "text": [
      "204\n"
     ]
    }
   ],
   "source": [
    "try:\n",
    "    resp = requests.delete(url + str(id))\n",
    "    print(resp.status_code)\n",
    "except Exception as e:\n",
    "    print(e)"
   ]
  },
  {
   "cell_type": "markdown",
   "metadata": {},
   "source": [
    "### Email (SMTP)"
   ]
  },
  {
   "cell_type": "code",
   "execution_count": null,
   "metadata": {},
   "outputs": [],
   "source": [
    "import smtplib\n",
    "from email.mime.text import MIMEText"
   ]
  },
  {
   "cell_type": "code",
   "execution_count": null,
   "metadata": {},
   "outputs": [],
   "source": [
    "subject = \"Python - Sample Email Subject\"\n",
    "body = \"Hi,\\n\\nThis is the sample body of the email sent from Python\\n\\nRegards,\\nPython SMTPLIB\"\n",
    "sender = \"<sender@gmail.com>\"\n",
    "password = \"<App Password (16 Character)>\" #Not regular Google User Password - Generate App Password In Google Account Page.\n",
    "recipients = [\"receiver1@gmail.com\", \"receiver2@gmail.com\"]"
   ]
  },
  {
   "cell_type": "code",
   "execution_count": null,
   "metadata": {},
   "outputs": [],
   "source": [
    "def send_email(subject, body, sender, recipients, password):\n",
    "   msg = MIMEText(body)\n",
    "   msg['Subject'] = subject\n",
    "   msg['From'] = sender\n",
    "   msg['To'] = ', '.join(recipients)\n",
    "   with smtplib.SMTP_SSL(host='smtp.gmail.com', port=465) as smtp_server:\n",
    "      smtp_server.login(user=sender, password=password)\n",
    "      smtp_server.sendmail(from_addr=sender, to_addrs=recipients, msg=msg.as_string())\n",
    "   print(\"Mail sent!\")"
   ]
  },
  {
   "cell_type": "code",
   "execution_count": null,
   "metadata": {},
   "outputs": [
    {
     "name": "stdout",
     "output_type": "stream",
     "text": [
      "Mail sent!\n"
     ]
    }
   ],
   "source": [
    "send_email(subject, body, sender, recipients, password)"
   ]
  }
 ],
 "metadata": {
  "language_info": {
   "name": "python"
  }
 },
 "nbformat": 4,
 "nbformat_minor": 2
}
