{
 "cells": [
  {
   "cell_type": "markdown",
   "metadata": {},
   "source": [
    "## Pydantic - Data Validation"
   ]
  },
  {
   "cell_type": "code",
   "execution_count": 1,
   "metadata": {},
   "outputs": [],
   "source": [
    "from pydantic import BaseModel"
   ]
  },
  {
   "cell_type": "code",
   "execution_count": 2,
   "metadata": {},
   "outputs": [],
   "source": [
    "class User(BaseModel):\n",
    "    id: int    #Required\n",
    "    name: str = 'Jane Doe'  #Not Required"
   ]
  },
  {
   "cell_type": "code",
   "execution_count": 3,
   "metadata": {},
   "outputs": [
    {
     "data": {
      "text/plain": [
       "User(id=100, name='Jane Doe')"
      ]
     },
     "execution_count": 3,
     "metadata": {},
     "output_type": "execute_result"
    }
   ],
   "source": [
    "user = User(id=100)\n",
    "user"
   ]
  },
  {
   "cell_type": "code",
   "execution_count": 4,
   "metadata": {},
   "outputs": [
    {
     "name": "stdout",
     "output_type": "stream",
     "text": [
      "100\n",
      "Jane Doe\n"
     ]
    }
   ],
   "source": [
    "print(user.id)\n",
    "print(user.name)"
   ]
  },
  {
   "cell_type": "code",
   "execution_count": 5,
   "metadata": {},
   "outputs": [
    {
     "data": {
      "text/plain": [
       "User(id=102, name='Jane Doe')"
      ]
     },
     "execution_count": 5,
     "metadata": {},
     "output_type": "execute_result"
    }
   ],
   "source": [
    "user_2 = User(id='102') #Converts to integer automatically if string is number\n",
    "user_2"
   ]
  },
  {
   "cell_type": "markdown",
   "metadata": {},
   "source": [
    "#### ValidationError - Exception"
   ]
  },
  {
   "cell_type": "code",
   "execution_count": 6,
   "metadata": {},
   "outputs": [
    {
     "ename": "ValidationError",
     "evalue": "1 validation error for User\nid\n  Input should be a valid integer, unable to parse string as an integer [type=int_parsing, input_value='mk145', input_type=str]\n    For further information visit https://errors.pydantic.dev/2.5/v/int_parsing",
     "output_type": "error",
     "traceback": [
      "\u001b[1;31m---------------------------------------------------------------------------\u001b[0m",
      "\u001b[1;31mValidationError\u001b[0m                           Traceback (most recent call last)",
      "Cell \u001b[1;32mIn[6], line 1\u001b[0m\n\u001b[1;32m----> 1\u001b[0m user_3 \u001b[38;5;241m=\u001b[39m User(\u001b[38;5;28mid\u001b[39m\u001b[38;5;241m=\u001b[39m\u001b[38;5;124m'\u001b[39m\u001b[38;5;124mmk145\u001b[39m\u001b[38;5;124m'\u001b[39m) \u001b[38;5;66;03m# This will fail as the string containg alpha characters\u001b[39;00m\n\u001b[0;32m      2\u001b[0m user_3\n",
      "File \u001b[1;32mc:\\ProgramData\\anaconda3\\Lib\\site-packages\\pydantic\\main.py:164\u001b[0m, in \u001b[0;36mBaseModel.__init__\u001b[1;34m(__pydantic_self__, **data)\u001b[0m\n\u001b[0;32m    162\u001b[0m \u001b[38;5;66;03m# `__tracebackhide__` tells pytest and some other tools to omit this function from tracebacks\u001b[39;00m\n\u001b[0;32m    163\u001b[0m __tracebackhide__ \u001b[38;5;241m=\u001b[39m \u001b[38;5;28;01mTrue\u001b[39;00m\n\u001b[1;32m--> 164\u001b[0m __pydantic_self__\u001b[38;5;241m.\u001b[39m__pydantic_validator__\u001b[38;5;241m.\u001b[39mvalidate_python(data, self_instance\u001b[38;5;241m=\u001b[39m__pydantic_self__)\n",
      "\u001b[1;31mValidationError\u001b[0m: 1 validation error for User\nid\n  Input should be a valid integer, unable to parse string as an integer [type=int_parsing, input_value='mk145', input_type=str]\n    For further information visit https://errors.pydantic.dev/2.5/v/int_parsing"
     ]
    }
   ],
   "source": [
    "user_3 = User(id='mk145') # This will fail as the string containg alpha characters\n",
    "user_3"
   ]
  },
  {
   "cell_type": "markdown",
   "metadata": {},
   "source": [
    "#### Handling Validation Error"
   ]
  },
  {
   "cell_type": "code",
   "execution_count": 7,
   "metadata": {},
   "outputs": [],
   "source": [
    "from pydantic import ValidationError"
   ]
  },
  {
   "cell_type": "code",
   "execution_count": 8,
   "metadata": {},
   "outputs": [
    {
     "name": "stdout",
     "output_type": "stream",
     "text": [
      "1 validation error for User\n",
      "id\n",
      "  Input should be a valid integer, unable to parse string as an integer [type=int_parsing, input_value='mk145', input_type=str]\n",
      "    For further information visit https://errors.pydantic.dev/2.5/v/int_parsing\n"
     ]
    }
   ],
   "source": [
    "try:\n",
    "    user_3 = User(id='mk145') # This will fail as the string containg alpha characters\n",
    "    user_3\n",
    "except ValidationError as ve:\n",
    "    print(ve)"
   ]
  },
  {
   "cell_type": "markdown",
   "metadata": {},
   "source": [
    "#### Creating model instace from dictonary object"
   ]
  },
  {
   "cell_type": "code",
   "execution_count": 9,
   "metadata": {},
   "outputs": [
    {
     "data": {
      "text/plain": [
       "User(id=101, name='Mohan')"
      ]
     },
     "execution_count": 9,
     "metadata": {},
     "output_type": "execute_result"
    }
   ],
   "source": [
    "user_dict = {\n",
    "    \"id\": 101,\n",
    "    \"name\": \"Mohan\"\n",
    "}\n",
    "\n",
    "user = User(**user_dict) # Keyword Arguments\n",
    "user"
   ]
  },
  {
   "cell_type": "code",
   "execution_count": 10,
   "metadata": {},
   "outputs": [
    {
     "data": {
      "text/plain": [
       "101"
      ]
     },
     "execution_count": 10,
     "metadata": {},
     "output_type": "execute_result"
    }
   ],
   "source": [
    "user.id"
   ]
  },
  {
   "cell_type": "code",
   "execution_count": 11,
   "metadata": {},
   "outputs": [
    {
     "name": "stdout",
     "output_type": "stream",
     "text": [
      "2 validation errors for User\n",
      "id\n",
      "  Input should be a valid integer, unable to parse string as an integer [type=int_parsing, input_value='Some data', input_type=str]\n",
      "    For further information visit https://errors.pydantic.dev/2.5/v/int_parsing\n",
      "name\n",
      "  Input should be a valid string [type=string_type, input_value=144, input_type=int]\n",
      "    For further information visit https://errors.pydantic.dev/2.5/v/string_type\n"
     ]
    }
   ],
   "source": [
    "user_2_dict = {\n",
    "    \"id\": \"Some data\",\n",
    "    \"name\": 144\n",
    "}\n",
    "\n",
    "try:\n",
    "    user2 = User(**user_2_dict)\n",
    "    user2\n",
    "except ValidationError as ve:\n",
    "    print(ve)"
   ]
  },
  {
   "cell_type": "markdown",
   "metadata": {},
   "source": [
    "#### modeldump() - Converts model instance to dictonary object"
   ]
  },
  {
   "cell_type": "code",
   "execution_count": 12,
   "metadata": {},
   "outputs": [
    {
     "data": {
      "text/plain": [
       "User(id=104, name='Paul')"
      ]
     },
     "execution_count": 12,
     "metadata": {},
     "output_type": "execute_result"
    }
   ],
   "source": [
    "user_3 = User(id = 104, name = \"Paul\")\n",
    "user_3"
   ]
  },
  {
   "cell_type": "code",
   "execution_count": 13,
   "metadata": {},
   "outputs": [
    {
     "data": {
      "text/plain": [
       "{'id': 104, 'name': 'Paul'}"
      ]
     },
     "execution_count": 13,
     "metadata": {},
     "output_type": "execute_result"
    }
   ],
   "source": [
    "user_dict = user_3.model_dump()\n",
    "user_dict"
   ]
  },
  {
   "cell_type": "markdown",
   "metadata": {},
   "source": [
    "### Nested Models"
   ]
  },
  {
   "cell_type": "code",
   "execution_count": 14,
   "metadata": {},
   "outputs": [],
   "source": [
    "from typing import List\n",
    "from pydantic import PositiveInt"
   ]
  },
  {
   "cell_type": "code",
   "execution_count": 15,
   "metadata": {},
   "outputs": [],
   "source": [
    "class Address(BaseModel):\n",
    "    street: str\n",
    "    city: str\n",
    "    state: str\n",
    "    pincode: int | str\n",
    "    country: str = \"India\"\n",
    "\n",
    "class Customer(BaseModel):\n",
    "    id: int\n",
    "    name: str\n",
    "    age: PositiveInt\n",
    "    phone_numbers: List[str]\n",
    "    address: Address"
   ]
  },
  {
   "cell_type": "code",
   "execution_count": 17,
   "metadata": {},
   "outputs": [],
   "source": [
    "myCustomerDict = {\n",
    "    \"id\": 101,\n",
    "    \"name\": \"Nikola\",\n",
    "    \"age\": 45,\n",
    "    \"phone_numbers\": ['+12 345678', '+12 457890'],\n",
    "    \"address\": {\n",
    "        \"street\": \"AMT St.\",\n",
    "        \"city\": \"Los Santos\",\n",
    "        \"state\": \"California\",\n",
    "        \"pincode\": 345987,\n",
    "        \"country\": \"USA\"\n",
    "    }\n",
    "}"
   ]
  },
  {
   "cell_type": "code",
   "execution_count": 18,
   "metadata": {},
   "outputs": [],
   "source": [
    "customer = Customer(**myCustomerDict)"
   ]
  },
  {
   "cell_type": "code",
   "execution_count": 19,
   "metadata": {},
   "outputs": [
    {
     "data": {
      "text/plain": [
       "Customer(id=101, name='Nikola', age=45, phone_numbers=['+12 345678', '+12 457890'], address=Address(street='AMT St.', city='Los Santos', state='California', pincode=345987, country='USA'))"
      ]
     },
     "execution_count": 19,
     "metadata": {},
     "output_type": "execute_result"
    }
   ],
   "source": [
    "customer"
   ]
  },
  {
   "cell_type": "code",
   "execution_count": 20,
   "metadata": {},
   "outputs": [
    {
     "name": "stdout",
     "output_type": "stream",
     "text": [
      "2 validation errors for Customer\n",
      "age\n",
      "  Input should be greater than 0 [type=greater_than, input_value=-45, input_type=int]\n",
      "    For further information visit https://errors.pydantic.dev/2.5/v/greater_than\n",
      "address.street\n",
      "  Field required [type=missing, input_value={'city': 'Los Santos', 's...nia', 'pincode': 345987}, input_type=dict]\n",
      "    For further information visit https://errors.pydantic.dev/2.5/v/missing\n"
     ]
    }
   ],
   "source": [
    "myCustomerDict = {\n",
    "    \"id\": 101,\n",
    "    \"name\": \"Nikola\",\n",
    "    \"age\": -45,\n",
    "    \"phone_numbers\": ['+12 345678', '+12 457890'],\n",
    "    \"address\": {\n",
    "        \"city\": \"Los Santos\",\n",
    "        \"state\": \"California\",\n",
    "        \"pincode\": 345987\n",
    "    }\n",
    "}\n",
    "\n",
    "try:\n",
    "    customer = Customer(**myCustomerDict)\n",
    "    print(customer)\n",
    "except ValidationError as ve:\n",
    "    print(ve)"
   ]
  },
  {
   "cell_type": "markdown",
   "metadata": {},
   "source": [
    "#### Helper Functions\n",
    "1. model_validate() -> Takes object or dict rather than keyword arguments for validation \n",
    "2. model_validate_json() -> Takes string and parse it as JSON for validation"
   ]
  },
  {
   "cell_type": "code",
   "execution_count": 21,
   "metadata": {},
   "outputs": [],
   "source": [
    "from pydantic import BaseModel, ValidationError"
   ]
  },
  {
   "cell_type": "code",
   "execution_count": 22,
   "metadata": {},
   "outputs": [],
   "source": [
    "class User(BaseModel):\n",
    "    id: int\n",
    "    name: str = 'John Doe'"
   ]
  },
  {
   "cell_type": "code",
   "execution_count": 23,
   "metadata": {},
   "outputs": [
    {
     "data": {
      "text/plain": [
       "User(id=123, name='James')"
      ]
     },
     "execution_count": 23,
     "metadata": {},
     "output_type": "execute_result"
    }
   ],
   "source": [
    "user = User.model_validate({'id': 123, 'name': 'James'})\n",
    "user"
   ]
  },
  {
   "cell_type": "code",
   "execution_count": 24,
   "metadata": {},
   "outputs": [
    {
     "name": "stdout",
     "output_type": "stream",
     "text": [
      "1 validation error for User\n",
      "  Input should be a valid dictionary or instance of User [type=model_type, input_value=[123, 'John'], input_type=list]\n",
      "    For further information visit https://errors.pydantic.dev/2.5/v/model_type\n"
     ]
    }
   ],
   "source": [
    "try:\n",
    "    user = User.model_validate([123, \"John\"])\n",
    "    print(user)\n",
    "except ValidationError as ve:\n",
    "    print(ve)"
   ]
  },
  {
   "cell_type": "code",
   "execution_count": 25,
   "metadata": {},
   "outputs": [
    {
     "data": {
      "text/plain": [
       "User(id=123, name='James')"
      ]
     },
     "execution_count": 25,
     "metadata": {},
     "output_type": "execute_result"
    }
   ],
   "source": [
    "user = User.model_validate_json('{\"id\": 123, \"name\": \"James\"}')\n",
    "user"
   ]
  },
  {
   "cell_type": "code",
   "execution_count": 26,
   "metadata": {},
   "outputs": [
    {
     "name": "stdout",
     "output_type": "stream",
     "text": [
      "2 validation errors for User\n",
      "id\n",
      "  Field required [type=missing, input_value={'name': 456}, input_type=dict]\n",
      "    For further information visit https://errors.pydantic.dev/2.5/v/missing\n",
      "name\n",
      "  Input should be a valid string [type=string_type, input_value=456, input_type=int]\n",
      "    For further information visit https://errors.pydantic.dev/2.5/v/string_type\n"
     ]
    }
   ],
   "source": [
    "try:\n",
    "    user = User.model_validate_json('{\"name\": 456}')\n",
    "    print(user)\n",
    "except ValidationError as ve:\n",
    "    print(ve)"
   ]
  },
  {
   "cell_type": "markdown",
   "metadata": {},
   "source": [
    "#### model_construct() -> Create a new instance of the model without validation\n",
    "\n",
    "This is helpful in scenarios where the instance needs to be created but validation is not required"
   ]
  },
  {
   "cell_type": "code",
   "execution_count": 27,
   "metadata": {},
   "outputs": [],
   "source": [
    "class User(BaseModel):\n",
    "    id: int\n",
    "    age: int\n",
    "    name: str = 'John Doe'"
   ]
  },
  {
   "cell_type": "code",
   "execution_count": 28,
   "metadata": {},
   "outputs": [],
   "source": [
    "validUserDict = {\n",
    "    \"id\": 101,\n",
    "    \"age\": 43,\n",
    "    \"name\": \"Paul\"\n",
    "}\n",
    "\n",
    "invalidUserDict = {\n",
    "    \"id\": 102,\n",
    "    \"name\": \"Tina\"\n",
    "}"
   ]
  },
  {
   "cell_type": "code",
   "execution_count": 29,
   "metadata": {},
   "outputs": [
    {
     "data": {
      "text/plain": [
       "User(id=101, age=43, name='Paul')"
      ]
     },
     "execution_count": 29,
     "metadata": {},
     "output_type": "execute_result"
    }
   ],
   "source": [
    "valid_user = User(**validUserDict)\n",
    "valid_user"
   ]
  },
  {
   "cell_type": "code",
   "execution_count": 30,
   "metadata": {},
   "outputs": [],
   "source": [
    "valid_user_data = valid_user.model_dump()"
   ]
  },
  {
   "cell_type": "code",
   "execution_count": 31,
   "metadata": {},
   "outputs": [
    {
     "data": {
      "text/plain": [
       "{'age', 'id', 'name'}"
      ]
     },
     "execution_count": 31,
     "metadata": {},
     "output_type": "execute_result"
    }
   ],
   "source": [
    "fields_set = valid_user.model_fields_set\n",
    "fields_set"
   ]
  },
  {
   "cell_type": "code",
   "execution_count": 32,
   "metadata": {},
   "outputs": [
    {
     "data": {
      "text/plain": [
       "User(id=101, age=43, name='Paul')"
      ]
     },
     "execution_count": 32,
     "metadata": {},
     "output_type": "execute_result"
    }
   ],
   "source": [
    "valid_user_new = User.model_construct(_fields_set=fields_set, **valid_user_data)\n",
    "valid_user_new"
   ]
  },
  {
   "cell_type": "code",
   "execution_count": 33,
   "metadata": {},
   "outputs": [
    {
     "data": {
      "text/plain": [
       "User(id=102, name='Tina')"
      ]
     },
     "execution_count": 33,
     "metadata": {},
     "output_type": "execute_result"
    }
   ],
   "source": [
    "invalid_user = User.model_construct(**invalidUserDict)  #invalidUserDict is not a valid data but the instace is created as validation is skipped \n",
    "invalid_user"
   ]
  },
  {
   "cell_type": "code",
   "execution_count": 34,
   "metadata": {},
   "outputs": [
    {
     "data": {
      "text/plain": [
       "User(name='John Doe')"
      ]
     },
     "execution_count": 34,
     "metadata": {},
     "output_type": "execute_result"
    }
   ],
   "source": [
    "empty_user = User.model_construct()  #It even creates instance without passing the values\n",
    "empty_user"
   ]
  },
  {
   "cell_type": "markdown",
   "metadata": {},
   "source": [
    "#### Faux immutability - Forcing the feilds to be immuatable"
   ]
  },
  {
   "cell_type": "code",
   "execution_count": 35,
   "metadata": {},
   "outputs": [],
   "source": [
    "from pydantic import BaseModel, ConfigDict, ValidationError"
   ]
  },
  {
   "cell_type": "code",
   "execution_count": 36,
   "metadata": {},
   "outputs": [],
   "source": [
    "class MutableModel(BaseModel):\n",
    "    model_config = ConfigDict(frozen=False) #Default\n",
    "\n",
    "    f1: str\n",
    "    f2: int"
   ]
  },
  {
   "cell_type": "code",
   "execution_count": 37,
   "metadata": {},
   "outputs": [
    {
     "data": {
      "text/plain": [
       "MutableModel(f1='Field 1', f2=100)"
      ]
     },
     "execution_count": 37,
     "metadata": {},
     "output_type": "execute_result"
    }
   ],
   "source": [
    "im = MutableModel(f1=\"Field 1\", f2=100)\n",
    "im"
   ]
  },
  {
   "cell_type": "code",
   "execution_count": 38,
   "metadata": {},
   "outputs": [
    {
     "data": {
      "text/plain": [
       "'Mutable Field'"
      ]
     },
     "execution_count": 38,
     "metadata": {},
     "output_type": "execute_result"
    }
   ],
   "source": [
    "im.f1 = \"Mutable Field\"\n",
    "im.f1"
   ]
  },
  {
   "cell_type": "code",
   "execution_count": 39,
   "metadata": {},
   "outputs": [],
   "source": [
    "class ImmutableModel(BaseModel):\n",
    "    model_config = ConfigDict(frozen=True)\n",
    "\n",
    "    f1: str\n",
    "    f2: int"
   ]
  },
  {
   "cell_type": "code",
   "execution_count": 40,
   "metadata": {},
   "outputs": [
    {
     "data": {
      "text/plain": [
       "ImmutableModel(f1='Field 1', f2=100)"
      ]
     },
     "execution_count": 40,
     "metadata": {},
     "output_type": "execute_result"
    }
   ],
   "source": [
    "im = ImmutableModel(f1=\"Field 1\", f2=100)\n",
    "im"
   ]
  },
  {
   "cell_type": "code",
   "execution_count": 41,
   "metadata": {},
   "outputs": [
    {
     "name": "stdout",
     "output_type": "stream",
     "text": [
      "1 validation error for ImmutableModel\n",
      "f1\n",
      "  Instance is frozen [type=frozen_instance, input_value='Immutable Field', input_type=str]\n",
      "    For further information visit https://errors.pydantic.dev/2.5/v/frozen_instance\n"
     ]
    }
   ],
   "source": [
    "try:\n",
    "    im.f1 = \"Immutable Field\"\n",
    "except ValidationError as ve:\n",
    "    print(ve)"
   ]
  },
  {
   "cell_type": "markdown",
   "metadata": {},
   "source": [
    "#### Extra Fields"
   ]
  },
  {
   "cell_type": "code",
   "execution_count": 43,
   "metadata": {},
   "outputs": [],
   "source": [
    "class Model(BaseModel):\n",
    "    f1: str"
   ]
  },
  {
   "cell_type": "code",
   "execution_count": 44,
   "metadata": {},
   "outputs": [
    {
     "data": {
      "text/plain": [
       "Model(f1='Field 1')"
      ]
     },
     "execution_count": 44,
     "metadata": {},
     "output_type": "execute_result"
    }
   ],
   "source": [
    "m = Model(f1=\"Field 1\", f2=\"Field 2\") # f2 is not defined in model but no error will be thrown by default\n",
    "m"
   ]
  },
  {
   "cell_type": "code",
   "execution_count": 47,
   "metadata": {},
   "outputs": [],
   "source": [
    "class Model(BaseModel):\n",
    "    model_config = ConfigDict(extra='forbid')  # Throws error if any extra fields are passed while creating Model Instance\n",
    "\n",
    "    f1: str"
   ]
  },
  {
   "cell_type": "code",
   "execution_count": 48,
   "metadata": {},
   "outputs": [
    {
     "name": "stdout",
     "output_type": "stream",
     "text": [
      "1 validation error for Model\n",
      "f2\n",
      "  Extra inputs are not permitted [type=extra_forbidden, input_value='Field 2', input_type=str]\n",
      "    For further information visit https://errors.pydantic.dev/2.5/v/extra_forbidden\n"
     ]
    }
   ],
   "source": [
    "try:\n",
    "    m = Model(f1=\"Field 1\", f2=\"Field 2\")\n",
    "    print(m)\n",
    "except ValidationError as ve:\n",
    "    print(ve)"
   ]
  },
  {
   "cell_type": "code",
   "execution_count": 49,
   "metadata": {},
   "outputs": [],
   "source": [
    "class Model(BaseModel):\n",
    "    model_config = ConfigDict(extra='allow')  # Allows the undefined fields\n",
    "\n",
    "    f1: str"
   ]
  },
  {
   "cell_type": "code",
   "execution_count": 50,
   "metadata": {},
   "outputs": [
    {
     "data": {
      "text/plain": [
       "{'f2': 'Field 2'}"
      ]
     },
     "execution_count": 50,
     "metadata": {},
     "output_type": "execute_result"
    }
   ],
   "source": [
    "m = Model(f1=\"Field 1\", f2=\"Field 2\")\n",
    "m.__pydantic_extra__  # Return extra fields which are not defined in Model"
   ]
  },
  {
   "cell_type": "markdown",
   "metadata": {},
   "source": [
    "### Field\n",
    "This function is used to configure the feild definations of the Model"
   ]
  },
  {
   "cell_type": "code",
   "execution_count": 51,
   "metadata": {},
   "outputs": [],
   "source": [
    "from pydantic import BaseModel, Field, ValidationError\n",
    "from uuid import uuid4\n",
    "from decimal import Decimal"
   ]
  },
  {
   "cell_type": "code",
   "execution_count": 52,
   "metadata": {},
   "outputs": [],
   "source": [
    "class User(BaseModel):\n",
    "    id: str = Field(default_factory=lambda: uuid4().hex, description=\"Autogenerated User ID\") #Dynamic Default Values\n",
    "    name: str = Field(default=\"John\", description=\"User Name,\") #Static Default Values\n",
    "    age: int = Field(..., description=\"User Age in Years\") # Elipsis(...) indiactes theat field is required\n",
    "    email: str = Field(alias=\"contact\", description=\"Email ID\") #Contact is the alias name for email field"
   ]
  },
  {
   "cell_type": "code",
   "execution_count": 53,
   "metadata": {},
   "outputs": [
    {
     "data": {
      "text/plain": [
       "User(id='2b4405753ef0424581a6e5f9a070cfb2', name='John', age=34, email='john@testmail.com')"
      ]
     },
     "execution_count": 53,
     "metadata": {},
     "output_type": "execute_result"
    }
   ],
   "source": [
    "user = User(age=34, contact=\"john@testmail.com\")\n",
    "user"
   ]
  },
  {
   "cell_type": "code",
   "execution_count": 55,
   "metadata": {},
   "outputs": [],
   "source": [
    "class NumericModel(BaseModel):\n",
    "    positive: int = Field(gt=0)\n",
    "    non_negative: int = Field(ge=0)\n",
    "    negative: int = Field(lt=0)\n",
    "    non_positive: int = Field(le=0)\n",
    "    even: int = Field(multiple_of=2)\n",
    "    multiples_of_10: int = Field(multiple_of=10)\n",
    "    inf_nan_val: float = Field(allow_inf_nan=True)\n",
    "    non_inf_nan_val: float = Field(allow_inf_nan=False)\n",
    "\n",
    "    float_num: Decimal = Field(max_digits=5, decimal_places=2) #Maximum total digits must be 5 and maximum decimal place digits must be 2"
   ]
  },
  {
   "cell_type": "code",
   "execution_count": 59,
   "metadata": {},
   "outputs": [
    {
     "data": {
      "text/plain": [
       "NumericModel(positive=1, non_negative=0, negative=-1, non_positive=0, even=2, multiples_of_10=40, inf_nan_val=nan, non_inf_nan_val=456.24, float_num=Decimal('341.75'))"
      ]
     },
     "execution_count": 59,
     "metadata": {},
     "output_type": "execute_result"
    }
   ],
   "source": [
    "numModel = NumericModel(\n",
    "    positive=1,\n",
    "    non_negative=0,\n",
    "    negative=-1,\n",
    "    non_positive=0,\n",
    "    even=2,\n",
    "    multiples_of_10=40,\n",
    "    inf_nan_val=float('nan'),\n",
    "    non_inf_nan_val=float(456.24),\n",
    "    float_num=341.75\n",
    ")\n",
    "\n",
    "numModel"
   ]
  },
  {
   "cell_type": "code",
   "execution_count": 62,
   "metadata": {},
   "outputs": [],
   "source": [
    "class StringModel(BaseModel):\n",
    "    gender: str = Field(min_length=4, max_length=6)\n",
    "    email: str = Field(pattern=r'^.+@.+.com$')"
   ]
  },
  {
   "cell_type": "code",
   "execution_count": 63,
   "metadata": {},
   "outputs": [
    {
     "data": {
      "text/plain": [
       "StringModel(gender='Male', email='john@test.com')"
      ]
     },
     "execution_count": 63,
     "metadata": {},
     "output_type": "execute_result"
    }
   ],
   "source": [
    "strModel = StringModel(\n",
    "    gender=\"Male\",\n",
    "    email=\"john@test.com\"\n",
    ")\n",
    "strModel"
   ]
  },
  {
   "cell_type": "code",
   "execution_count": 64,
   "metadata": {},
   "outputs": [],
   "source": [
    "class StrictModel(BaseModel):\n",
    "    num1: int = Field(..., strict=False)\n",
    "    num2: int = Field(..., strict=True)"
   ]
  },
  {
   "cell_type": "code",
   "execution_count": 67,
   "metadata": {},
   "outputs": [
    {
     "data": {
      "text/plain": [
       "StrictModel(num1=234, num2=345)"
      ]
     },
     "execution_count": 67,
     "metadata": {},
     "output_type": "execute_result"
    }
   ],
   "source": [
    "model = StrictModel(num1=\"234\", num2=345)\n",
    "model"
   ]
  },
  {
   "cell_type": "code",
   "execution_count": 68,
   "metadata": {},
   "outputs": [
    {
     "data": {
      "text/plain": [
       "int"
      ]
     },
     "execution_count": 68,
     "metadata": {},
     "output_type": "execute_result"
    }
   ],
   "source": [
    "type(model.num1)"
   ]
  },
  {
   "cell_type": "code",
   "execution_count": 69,
   "metadata": {},
   "outputs": [],
   "source": [
    "class FrozenModel(BaseModel):\n",
    "    num1: int = Field(..., frozen=False)\n",
    "    num2: int = Field(..., frozen=True)"
   ]
  },
  {
   "cell_type": "code",
   "execution_count": 70,
   "metadata": {},
   "outputs": [
    {
     "data": {
      "text/plain": [
       "FrozenModel(num1=10, num2=12)"
      ]
     },
     "execution_count": 70,
     "metadata": {},
     "output_type": "execute_result"
    }
   ],
   "source": [
    "model = FrozenModel(num1=10, num2=12)\n",
    "model"
   ]
  },
  {
   "cell_type": "code",
   "execution_count": 71,
   "metadata": {},
   "outputs": [
    {
     "data": {
      "text/plain": [
       "FrozenModel(num1=14, num2=12)"
      ]
     },
     "execution_count": 71,
     "metadata": {},
     "output_type": "execute_result"
    }
   ],
   "source": [
    "model.num1 = 14\n",
    "model"
   ]
  },
  {
   "cell_type": "code",
   "execution_count": 72,
   "metadata": {},
   "outputs": [
    {
     "name": "stdout",
     "output_type": "stream",
     "text": [
      "1 validation error for FrozenModel\n",
      "num2\n",
      "  Field is frozen [type=frozen_field, input_value=16, input_type=int]\n",
      "    For further information visit https://errors.pydantic.dev/2.5/v/frozen_field\n"
     ]
    }
   ],
   "source": [
    "try:\n",
    "    model.num2 = 16\n",
    "except ValidationError as ve:\n",
    "    print(ve)"
   ]
  },
  {
   "cell_type": "code",
   "execution_count": null,
   "metadata": {},
   "outputs": [],
   "source": []
  }
 ],
 "metadata": {
  "kernelspec": {
   "display_name": "Python 3",
   "language": "python",
   "name": "python3"
  },
  "language_info": {
   "codemirror_mode": {
    "name": "ipython",
    "version": 3
   },
   "file_extension": ".py",
   "mimetype": "text/x-python",
   "name": "python",
   "nbconvert_exporter": "python",
   "pygments_lexer": "ipython3",
   "version": "3.12.4"
  }
 },
 "nbformat": 4,
 "nbformat_minor": 2
}
