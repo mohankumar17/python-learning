{
 "cells": [
  {
   "cell_type": "markdown",
   "metadata": {},
   "source": [
    "## Databases"
   ]
  },
  {
   "cell_type": "markdown",
   "metadata": {},
   "source": [
    "#### SQL -> MySQL"
   ]
  },
  {
   "cell_type": "code",
   "execution_count": null,
   "metadata": {},
   "outputs": [],
   "source": [
    "import mysql.connector as db"
   ]
  },
  {
   "cell_type": "markdown",
   "metadata": {},
   "source": [
    "#### Reading properties from files"
   ]
  },
  {
   "cell_type": "code",
   "execution_count": null,
   "metadata": {},
   "outputs": [],
   "source": [
    "from jproperties import Properties"
   ]
  },
  {
   "cell_type": "code",
   "execution_count": null,
   "metadata": {},
   "outputs": [],
   "source": [
    "configs = Properties()\n",
    "with open('resources/properties/dev.properties', 'rb') as config_file:\n",
    "    configs.load(config_file)\n",
    "\n",
    "host = configs.get(\"HOST\").data\n",
    "port = configs.get(\"PORT\").data\n",
    "username = configs.get(\"USERNAME\").data\n",
    "password = configs.get(\"PASSWORD\").data"
   ]
  },
  {
   "cell_type": "markdown",
   "metadata": {},
   "source": [
    "#### Database connectivity"
   ]
  },
  {
   "cell_type": "code",
   "execution_count": null,
   "metadata": {},
   "outputs": [],
   "source": [
    "dbConn = db.connect(host = host, port = port, user = username, passwd = password)"
   ]
  },
  {
   "cell_type": "markdown",
   "metadata": {},
   "source": [
    "#### Read -> SELECT"
   ]
  },
  {
   "cell_type": "code",
   "execution_count": null,
   "metadata": {},
   "outputs": [],
   "source": [
    "myCursor = dbConn.cursor()\n",
    "\n",
    "selectQuery = \"SELECT * FROM python_de.employees;\"\n",
    "myCursor.execute(selectQuery)"
   ]
  },
  {
   "cell_type": "code",
   "execution_count": null,
   "metadata": {},
   "outputs": [
    {
     "data": {
      "text/plain": [
       "[(1, 'Paul', 'Brandon', datetime.date(1978, 3, 12), 'Sales', '+41 456234'),\n",
       " (2, 'Tina', 'Nailor', datetime.date(1980, 11, 9), 'HR', '+41 987456'),\n",
       " (3, 'John', 'Doe', datetime.date(1995, 7, 14), 'IT', '+41 877245'),\n",
       " (5, 'Nick', 'Fury', datetime.date(1996, 8, 23), 'IT', '+41 985245')]"
      ]
     },
     "metadata": {},
     "output_type": "display_data"
    }
   ],
   "source": [
    "res = myCursor.fetchall()\n",
    "#res = myCursor.fetchmany(size = 2)\n",
    "#res = myCursor.fetchone()\n",
    "\n",
    "res"
   ]
  },
  {
   "cell_type": "code",
   "execution_count": null,
   "metadata": {},
   "outputs": [
    {
     "data": {
      "text/plain": [
       "[(5, 'Nick', 'Fury', datetime.date(1996, 8, 23), 'IT', '+41 985245')]"
      ]
     },
     "metadata": {},
     "output_type": "display_data"
    }
   ],
   "source": [
    "myCursor = dbConn.cursor()\n",
    "\n",
    "selectQuery = \"SELECT * FROM python_de.employees WHERE department='IT';\"\n",
    "myCursor.execute(selectQuery)\n",
    "\n",
    "myCursor.fetchall()"
   ]
  },
  {
   "cell_type": "markdown",
   "metadata": {},
   "source": [
    "#### Execute Multiple SQL Statements using single execute method"
   ]
  },
  {
   "cell_type": "code",
   "execution_count": null,
   "metadata": {},
   "outputs": [],
   "source": [
    "myCursor = dbConn.cursor()\n",
    "\n",
    "selectQuery = \"SELECT * FROM python_de.employees WHERE department='IT'; SELECT * FROM python_de.employees WHERE first_name like 'P%';\"\n",
    "results = myCursor.execute(selectQuery, multi=True)"
   ]
  },
  {
   "cell_type": "code",
   "execution_count": null,
   "metadata": {},
   "outputs": [
    {
     "name": "stdout",
     "output_type": "stream",
     "text": [
      "Statment-1: SELECT * FROM python_de.employees WHERE department='IT'\n",
      "Rows Fetched: [(5, 'Nick', 'Fury', datetime.date(1996, 8, 23), 'IT', '+41 985245')]\n",
      "Statment-2: SELECT * FROM python_de.employees WHERE first_name like 'P%'\n",
      "Rows Fetched: [(1, 'Paul', 'Brandon', datetime.date(1978, 3, 12), 'Sales', '+41 456234')]\n"
     ]
    }
   ],
   "source": [
    "count = 1\n",
    "for res in results:\n",
    "    if res.with_rows:\n",
    "        print(f\"Statment-{count}: {res.statement}\")\n",
    "        print(f\"Rows Fetched: {res.fetchall()}\")\n",
    "    count += 1"
   ]
  },
  {
   "cell_type": "markdown",
   "metadata": {},
   "source": [
    "#### Write -> INSERT"
   ]
  },
  {
   "cell_type": "code",
   "execution_count": null,
   "metadata": {},
   "outputs": [],
   "source": [
    "first_name = \"James\"\n",
    "last_name = \"Gos\"\n",
    "dob = \"1968-02-16\"\n",
    "department = \"FNC\"\n",
    "phone_numer = \"+34 874592\""
   ]
  },
  {
   "cell_type": "code",
   "execution_count": null,
   "metadata": {},
   "outputs": [
    {
     "data": {
      "text/plain": [
       "\"INSERT INTO python_de.employees(first_name, last_name, dob, department, phone_number) VALUES ('James','Gos','1968-02-16','FNC','+34 874592');\""
      ]
     },
     "metadata": {},
     "output_type": "display_data"
    }
   ],
   "source": [
    "insertQuery = f\"INSERT INTO python_de.employees(first_name, last_name, dob, department, phone_number) VALUES ('{first_name}','{last_name}','{dob}','{department}','{phone_numer}');\"\n",
    "insertQuery"
   ]
  },
  {
   "cell_type": "code",
   "execution_count": null,
   "metadata": {},
   "outputs": [],
   "source": [
    "myCursor = dbConn.cursor()\n",
    "myCursor.execute(insertQuery)"
   ]
  },
  {
   "cell_type": "code",
   "execution_count": null,
   "metadata": {},
   "outputs": [],
   "source": [
    "dbConn.commit()"
   ]
  },
  {
   "cell_type": "code",
   "execution_count": null,
   "metadata": {},
   "outputs": [
    {
     "name": "stdout",
     "output_type": "stream",
     "text": [
      "No.of.rows affected: 1\n",
      "Last Auto Generated Feild Value: 7\n"
     ]
    }
   ],
   "source": [
    "print(\"No.of.rows affected:\", myCursor.rowcount)\n",
    "print(\"Last Auto Generated Feild Value:\", myCursor.getlastrowid())"
   ]
  },
  {
   "cell_type": "markdown",
   "metadata": {},
   "source": [
    "#### Execute Many"
   ]
  },
  {
   "cell_type": "code",
   "execution_count": null,
   "metadata": {},
   "outputs": [],
   "source": [
    "new_employees = [\n",
    "    (\"Shelby\",\"Tarrel\",\"145-10-26\",\"HR\",\"277 089678\"),\n",
    "    (\"Lori\",\"Todd\",\"1992-02-07\",\"Sales\",\"895 881432\")\n",
    "]"
   ]
  },
  {
   "cell_type": "code",
   "execution_count": null,
   "metadata": {},
   "outputs": [
    {
     "data": {
      "text/plain": [
       "'INSERT INTO python_de.employees(first_name, last_name, dob, department, phone_number) VALUES (%s, %s, %s, %s, %s);'"
      ]
     },
     "metadata": {},
     "output_type": "display_data"
    }
   ],
   "source": [
    "insertQuery = f\"INSERT INTO python_de.employees(first_name, last_name, dob, department, phone_number) VALUES (%s, %s, %s, %s, %s);\"\n",
    "insertQuery"
   ]
  },
  {
   "cell_type": "code",
   "execution_count": null,
   "metadata": {},
   "outputs": [],
   "source": [
    "myCursor = dbConn.cursor()\n",
    "myCursor.executemany(insertQuery, new_employees)"
   ]
  },
  {
   "cell_type": "code",
   "execution_count": null,
   "metadata": {},
   "outputs": [],
   "source": [
    "dbConn.commit()"
   ]
  },
  {
   "cell_type": "code",
   "execution_count": null,
   "metadata": {},
   "outputs": [
    {
     "name": "stdout",
     "output_type": "stream",
     "text": [
      "No.of.rows affected: 2\n",
      "Last Auto Generated Feild Value: 8\n"
     ]
    }
   ],
   "source": [
    "print(\"No.of.rows affected:\", myCursor.rowcount)\n",
    "print(\"Last Auto Generated Feild Value:\", myCursor.getlastrowid())"
   ]
  },
  {
   "cell_type": "markdown",
   "metadata": {},
   "source": [
    "#### Update -> UPDATE"
   ]
  },
  {
   "cell_type": "code",
   "execution_count": null,
   "metadata": {},
   "outputs": [],
   "source": [
    "new_last_name = \"Rig\"\n",
    "first_name = \"Tina\""
   ]
  },
  {
   "cell_type": "code",
   "execution_count": null,
   "metadata": {},
   "outputs": [
    {
     "data": {
      "text/plain": [
       "\"UPDATE python_de.employees SET last_name='Rig' where first_name='Tina';\""
      ]
     },
     "metadata": {},
     "output_type": "display_data"
    }
   ],
   "source": [
    "updateQuery = f\"UPDATE python_de.employees SET last_name='{new_last_name}' where first_name='{first_name}';\"\n",
    "updateQuery"
   ]
  },
  {
   "cell_type": "code",
   "execution_count": null,
   "metadata": {},
   "outputs": [],
   "source": [
    "myCursor = dbConn.cursor()\n",
    "myCursor.execute(updateQuery)\n",
    "\n",
    "dbConn.commit()"
   ]
  },
  {
   "cell_type": "code",
   "execution_count": null,
   "metadata": {},
   "outputs": [
    {
     "name": "stdout",
     "output_type": "stream",
     "text": [
      "No.of.rows affected: 1\n"
     ]
    }
   ],
   "source": [
    "print(\"No.of.rows affected:\", myCursor.rowcount)"
   ]
  },
  {
   "cell_type": "markdown",
   "metadata": {},
   "source": [
    "#### Delete -> DELETE"
   ]
  },
  {
   "cell_type": "code",
   "execution_count": null,
   "metadata": {},
   "outputs": [],
   "source": [
    "id = 3"
   ]
  },
  {
   "cell_type": "code",
   "execution_count": null,
   "metadata": {},
   "outputs": [
    {
     "data": {
      "text/plain": [
       "\"DELETE FROM python_de.employees where id='3';\""
      ]
     },
     "metadata": {},
     "output_type": "display_data"
    }
   ],
   "source": [
    "deleteQuery = f\"DELETE FROM python_de.employees where id='{id}';\"\n",
    "deleteQuery"
   ]
  },
  {
   "cell_type": "code",
   "execution_count": null,
   "metadata": {},
   "outputs": [
    {
     "name": "stdout",
     "output_type": "stream",
     "text": [
      "No.of.rows affected: 1\n"
     ]
    }
   ],
   "source": [
    "myCursor = dbConn.cursor()\n",
    "myCursor.execute(deleteQuery)\n",
    "\n",
    "dbConn.commit()\n",
    "print(\"No.of.rows affected:\", myCursor.rowcount)"
   ]
  },
  {
   "cell_type": "code",
   "execution_count": null,
   "metadata": {},
   "outputs": [],
   "source": [
    "dbConn.close()"
   ]
  }
 ],
 "metadata": {
  "language_info": {
   "name": "python"
  }
 },
 "nbformat": 4,
 "nbformat_minor": 2
}
