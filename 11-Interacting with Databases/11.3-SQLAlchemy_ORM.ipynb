{
 "cells": [
  {
   "cell_type": "markdown",
   "metadata": {},
   "source": [
    "## SQLAlchemy\n",
    "1. SQLAlchemy is a Object to Relation Mapping (ORM) library to interact with database tables (relations) using Python Objects instead of raw SQL queries.\n",
    "2. SQLAlchemy has two components: __Core__ and __ORM__.\n",
    "3. It provides the SQL toolkit/functions to perform operations with the database.\n",
    "\n",
    "#### Advantages:\n",
    "1. ORM: The code can be more Pythonic. So, it is more readable and understandable.\n",
    "2. More focus can be put on application development and its functionalities rather than writing complex SQL queries.\n",
    "3. Flexibility: It still allows to write raw SQL queries.\n",
    "4. Database Independence: Easily switch between different databases with minimal code changes.\n",
    "5. Safety: Prevents SQL injection by safely handling SQL queries and paramaters.\n",
    "\n",
    "#### Components\n",
    "1. __Engine__: Establishes the connectivity with database systems.\n",
    "2. __Session__: Execute the SQL statements and handle transactions.\n",
    "3. __Model__: Python class mapped to database table/relation.\n",
    "4. __Column__: Python class attribute mapped to table columns."
   ]
  },
  {
   "cell_type": "code",
   "execution_count": 8,
   "metadata": {},
   "outputs": [],
   "source": [
    "#pip install sqlalchemy\n",
    "#pip install psycopg2"
   ]
  },
  {
   "cell_type": "code",
   "execution_count": 9,
   "metadata": {},
   "outputs": [],
   "source": [
    "username = \"postgres\"\n",
    "password = \"\"\n",
    "host = \"localhost\"\n",
    "port = \"5432\"\n",
    "database_name = \"python_learning\""
   ]
  },
  {
   "cell_type": "code",
   "execution_count": 21,
   "metadata": {},
   "outputs": [],
   "source": [
    "from sqlalchemy import create_engine, Column, Integer, String\n",
    "from sqlalchemy.orm import declarative_base, sessionmaker"
   ]
  },
  {
   "cell_type": "code",
   "execution_count": 22,
   "metadata": {},
   "outputs": [],
   "source": [
    "# Create an engine connected to the Postgres database\n",
    "url = f\"postgresql+psycopg2://{username}:{password}@{host}:{port}/{database_name}\"\n",
    "engine = create_engine(url)\n",
    "\n",
    "# Base class for our classes definitions\n",
    "Base = declarative_base()"
   ]
  },
  {
   "cell_type": "code",
   "execution_count": 23,
   "metadata": {},
   "outputs": [],
   "source": [
    "# Define a User model\n",
    "class User(Base):\n",
    "    __tablename__ = 'users'\n",
    "    id = Column(Integer, primary_key=True)\n",
    "    name = Column(String(50))\n",
    "    age = Column(Integer)\n",
    "\n",
    "# Create the tables in the database\n",
    "Base.metadata.create_all(engine)"
   ]
  },
  {
   "cell_type": "code",
   "execution_count": 24,
   "metadata": {},
   "outputs": [],
   "source": [
    "# Create a configured \"Session\" class\n",
    "Session = sessionmaker(bind=engine)\n",
    "# Create a Session\n",
    "session = Session()"
   ]
  },
  {
   "cell_type": "markdown",
   "metadata": {},
   "source": [
    "### Create - INSERT"
   ]
  },
  {
   "cell_type": "code",
   "execution_count": 26,
   "metadata": {},
   "outputs": [],
   "source": [
    "# Create a new user\n",
    "new_user = User(name='John Doe', age=30)\n",
    "\n",
    "# Add the new user to the session\n",
    "session.add(new_user)\n",
    "\n",
    "# Commit the session to write the user to the database\n",
    "session.commit()"
   ]
  },
  {
   "cell_type": "code",
   "execution_count": 27,
   "metadata": {},
   "outputs": [
    {
     "data": {
      "text/plain": [
       "1"
      ]
     },
     "execution_count": 27,
     "metadata": {},
     "output_type": "execute_result"
    }
   ],
   "source": [
    "# Fetch Auto Generated ID\n",
    "new_user.id"
   ]
  },
  {
   "cell_type": "code",
   "execution_count": 28,
   "metadata": {},
   "outputs": [],
   "source": [
    "# Inserting multiple users\n",
    "new_users = [User(name='Glenn Maxwell', age=34), User(name='Mike Stark', age=28), User(name='Paul Brandon', age=42)]\n",
    "session.add_all(new_users)\n",
    "session.commit()"
   ]
  },
  {
   "cell_type": "code",
   "execution_count": 34,
   "metadata": {},
   "outputs": [
    {
     "name": "stdout",
     "output_type": "stream",
     "text": [
      "2 3 4 "
     ]
    }
   ],
   "source": [
    "for _ in range(len(new_users)):\n",
    "    print(new_users[_].id, end=\" \")"
   ]
  },
  {
   "cell_type": "code",
   "execution_count": 19,
   "metadata": {},
   "outputs": [],
   "source": [
    "session.close()"
   ]
  },
  {
   "cell_type": "markdown",
   "metadata": {},
   "source": [
    "### Read - SELECT"
   ]
  },
  {
   "cell_type": "code",
   "execution_count": 35,
   "metadata": {},
   "outputs": [
    {
     "name": "stdout",
     "output_type": "stream",
     "text": [
      "ID: 1, Name: John Doe, Age: 30\n",
      "ID: 2, Name: Glenn Maxwell, Age: 34\n",
      "ID: 3, Name: Mike Stark, Age: 28\n",
      "ID: 4, Name: Paul Brandon, Age: 42\n"
     ]
    }
   ],
   "source": [
    "# Query all users\n",
    "users = session.query(User).all()\n",
    "for user in users:\n",
    "    print(f\"ID: {user.id}, Name: {user.name}, Age: {user.age}\")"
   ]
  },
  {
   "cell_type": "code",
   "execution_count": 36,
   "metadata": {},
   "outputs": [
    {
     "name": "stdout",
     "output_type": "stream",
     "text": [
      "ID: 1, Name: John Doe, Age: 30\n"
     ]
    }
   ],
   "source": [
    "# Query a user by name\n",
    "user = session.query(User).filter_by(name='John Doe').first()\n",
    "print(f\"ID: {user.id}, Name: {user.name}, Age: {user.age}\")"
   ]
  },
  {
   "cell_type": "code",
   "execution_count": 37,
   "metadata": {},
   "outputs": [
    {
     "name": "stdout",
     "output_type": "stream",
     "text": [
      "ID: 2, Name: Glenn Maxwell, Age: 34\n",
      "ID: 4, Name: Paul Brandon, Age: 42\n"
     ]
    }
   ],
   "source": [
    "#Query by age\n",
    "users = session.query(User).filter(User.age > 30).all()\n",
    "for user in users:\n",
    "    print(f\"ID: {user.id}, Name: {user.name}, Age: {user.age}\")"
   ]
  },
  {
   "cell_type": "markdown",
   "metadata": {},
   "source": [
    "### Update"
   ]
  },
  {
   "cell_type": "code",
   "execution_count": 38,
   "metadata": {},
   "outputs": [],
   "source": [
    "# Query the user we want to update\n",
    "user = session.query(User).filter_by(id = 3).first()\n",
    "\n",
    "# Update the user's age\n",
    "user.name = \"Mitchell Stark\"\n",
    "user.age = 31\n",
    "\n",
    "# Commit the session to write the changes to the database\n",
    "session.commit()"
   ]
  },
  {
   "cell_type": "markdown",
   "metadata": {},
   "source": [
    "### Delete"
   ]
  },
  {
   "cell_type": "code",
   "execution_count": 39,
   "metadata": {},
   "outputs": [],
   "source": [
    "# Query the user we want to delete\n",
    "user = session.query(User).filter_by(id = 4).first()\n",
    "\n",
    "# Delete the user\n",
    "session.delete(user)\n",
    "\n",
    "# Commit the session to delete the user from the database\n",
    "session.commit()"
   ]
  },
  {
   "cell_type": "code",
   "execution_count": 42,
   "metadata": {},
   "outputs": [],
   "source": [
    "session.close()"
   ]
  },
  {
   "cell_type": "markdown",
   "metadata": {},
   "source": [
    "### Related Tables"
   ]
  },
  {
   "cell_type": "code",
   "execution_count": 40,
   "metadata": {},
   "outputs": [],
   "source": [
    "from sqlalchemy import create_engine, Integer, String, DateTime, ForeignKey, Boolean\n",
    "from sqlalchemy.orm import declarative_base, mapped_column, Mapped, relationship, sessionmaker\n",
    "from typing import List, Optional\n",
    "from datetime import datetime\n",
    "\n",
    "# Create an engine connected to the MySQL database\n",
    "url = f\"postgresql+psycopg2://{username}:{password}@{host}:{port}/{database_name}\"\n",
    "engine = create_engine(url)\n",
    "\n",
    "# Base class for our classes definitions\n",
    "Base = declarative_base()"
   ]
  },
  {
   "cell_type": "code",
   "execution_count": 41,
   "metadata": {},
   "outputs": [],
   "source": [
    "class Customer(Base):\n",
    "    __tablename__ = \"customer\"\n",
    "    custId:Mapped[int] = mapped_column(name=\"cust_id\", type_=Integer, primary_key=True, autoincrement=\"auto\")\n",
    "    custName:Mapped[str] = mapped_column(name=\"cust_name\", type_=String(50), nullable=False)\n",
    "    custPhone:Mapped[Optional[str]] = mapped_column(name=\"cust_phone\", type_=String(20))\n",
    "    orders: Mapped[List[\"Order\"]] = relationship(back_populates=\"customer\", cascade=\"all, delete-orphan\")\n",
    "\n",
    "class Order(Base):\n",
    "    __tablename__ = \"order\"\n",
    "    orderId:Mapped[int] = mapped_column(\"order_id\", Integer, primary_key = True, autoincrement = \"auto\")\n",
    "    orderDate:Mapped[datetime] = mapped_column(\"order_date\", DateTime, default=datetime.now().date())\n",
    "    orderItem:Mapped[Optional[str]] = mapped_column(\"item\", String)\n",
    "    orderStatus:Mapped[bool] = mapped_column(\"order_status\", Boolean, default = True)\n",
    "    custId: Mapped[int] = mapped_column(\"cust_id\", ForeignKey(\"customer.cust_id\"), nullable=False)\n",
    "    updatedAt:Mapped[Optional[datetime]] = mapped_column(\"updated_at\", DateTime, default=datetime.now(), onupdate=datetime.now())\n",
    "    customer: Mapped[\"Customer\"] = relationship(back_populates=\"orders\")\n",
    "\n",
    "# Create the tables in the database\n",
    "Base.metadata.create_all(engine)"
   ]
  },
  {
   "cell_type": "code",
   "execution_count": 43,
   "metadata": {},
   "outputs": [],
   "source": [
    "Session = sessionmaker(bind=engine)\n",
    "session = Session()"
   ]
  },
  {
   "cell_type": "markdown",
   "metadata": {},
   "source": [
    "### Create"
   ]
  },
  {
   "cell_type": "code",
   "execution_count": 74,
   "metadata": {},
   "outputs": [],
   "source": [
    "data = [\n",
    "    Customer(custName=\"Customer A\", custPhone=\"123-456-7890\", orders=[\n",
    "        Order(orderDate=datetime.now().date(), orderItem=\"Item 1\", orderStatus=True),\n",
    "        Order(orderItem=\"Item 2\"),\n",
    "        Order(orderItem=\"Item 3\", orderStatus=False)\n",
    "    ]),\n",
    "    Customer(custName=\"Customer B\", custPhone=\"234-567-8901\", orders=[\n",
    "        Order(orderItem=\"Item 4\"),\n",
    "        Order(orderItem=\"Item 5\", orderStatus=False),\n",
    "        Order(orderItem=\"Item 6\")\n",
    "    ]),\n",
    "    Customer(custName=\"Customer C\", custPhone=\"345-678-9012\", orders=[\n",
    "        Order(orderItem=\"Item 7\"),\n",
    "        Order(orderItem=\"Item 8\")\n",
    "    ]),\n",
    "    Customer(custName=\"Customer D\", custPhone=\"456-789-0123\", orders=[\n",
    "        Order(orderItem=\"Item 9\"),\n",
    "        Order(orderItem=\"Item 10\", orderStatus=False),\n",
    "        Order(orderItem=\"Item 11\", orderStatus=False),\n",
    "    ]),\n",
    "    Customer(custName=\"Customer E\", custPhone=\"567-890-1234\")\n",
    "]"
   ]
  },
  {
   "cell_type": "code",
   "execution_count": 75,
   "metadata": {},
   "outputs": [],
   "source": [
    "session.add_all(data)\n",
    "session.commit()"
   ]
  },
  {
   "cell_type": "markdown",
   "metadata": {},
   "source": [
    "##### Creating Order Seperately and assigning to existing Customer"
   ]
  },
  {
   "cell_type": "code",
   "execution_count": 76,
   "metadata": {},
   "outputs": [],
   "source": [
    "session.add(Order(orderItem=\"Item 12\", custId=5))\n",
    "session.commit()"
   ]
  },
  {
   "cell_type": "code",
   "execution_count": 78,
   "metadata": {},
   "outputs": [],
   "source": [
    "#session.add(Order(orderItem=\"Item 13\")) #This will fail as foreign key is not passed\n",
    "#session.commit()"
   ]
  },
  {
   "cell_type": "markdown",
   "metadata": {},
   "source": [
    "##### Create new Customer"
   ]
  },
  {
   "cell_type": "code",
   "execution_count": 85,
   "metadata": {},
   "outputs": [],
   "source": [
    "session.add(Customer(custName=\"Customer F\", custPhone=\"567-890-1234\"))\n",
    "session.commit()"
   ]
  },
  {
   "cell_type": "markdown",
   "metadata": {},
   "source": [
    "##### Assign Order to above newly created Customer"
   ]
  },
  {
   "cell_type": "code",
   "execution_count": 86,
   "metadata": {},
   "outputs": [],
   "source": [
    "session.add(Order(orderItem=\"Item 13\", custId=7))\n",
    "session.commit()"
   ]
  },
  {
   "cell_type": "markdown",
   "metadata": {},
   "source": [
    "### Read"
   ]
  },
  {
   "cell_type": "code",
   "execution_count": 44,
   "metadata": {},
   "outputs": [],
   "source": [
    "customers = session.query(Customer).all()"
   ]
  },
  {
   "cell_type": "code",
   "execution_count": 45,
   "metadata": {},
   "outputs": [
    {
     "name": "stdout",
     "output_type": "stream",
     "text": [
      "custId: 1, custName: Customer A, custPhone: 123-456-7890\n",
      "custId: 2, custName: Customer B, custPhone: 234-567-8901\n",
      "custId: 3, custName: Customer C, custPhone: 345-678-9012\n",
      "custId: 4, custName: Customer D, custPhone: 456-789-0123\n",
      "custId: 5, custName: Customer E, custPhone: 567-890-1234\n",
      "custId: 7, custName: Customer F, custPhone: 567-890-1234\n"
     ]
    }
   ],
   "source": [
    "for customer in customers:\n",
    "    print(f\"custId: {customer.custId}, custName: {customer.custName}, custPhone: {customer.custPhone}\")"
   ]
  },
  {
   "cell_type": "code",
   "execution_count": 118,
   "metadata": {},
   "outputs": [],
   "source": [
    "orders = session.query(Order).filter(Order.orderStatus == True).all()"
   ]
  },
  {
   "cell_type": "code",
   "execution_count": 119,
   "metadata": {},
   "outputs": [
    {
     "name": "stdout",
     "output_type": "stream",
     "text": [
      "orderId: 1, orderItem: Item 1, custId: 1\n",
      "orderId: 2, orderItem: Item 2, custId: 1\n",
      "orderId: 4, orderItem: Item 4, custId: 2\n",
      "orderId: 6, orderItem: Item 6, custId: 2\n",
      "orderId: 7, orderItem: Item 7, custId: 3\n",
      "orderId: 8, orderItem: Item 8, custId: 3\n",
      "orderId: 9, orderItem: Item 9, custId: 4\n",
      "orderId: 12, orderItem: Item 12, custId: 5\n",
      "orderId: 15, orderItem: Item 13, custId: 7\n"
     ]
    }
   ],
   "source": [
    "for order in orders:\n",
    "    print(f\"orderId: {order.orderId}, orderItem: {order.orderItem}, custId: {order.custId}\")"
   ]
  },
  {
   "cell_type": "code",
   "execution_count": 120,
   "metadata": {},
   "outputs": [
    {
     "name": "stdout",
     "output_type": "stream",
     "text": [
      "orderId: 11, orderItem: Item 11, custId: 4\n",
      "orderId: 12, orderItem: Item 12, custId: 5\n",
      "orderId: 15, orderItem: Item 13, custId: 7\n"
     ]
    }
   ],
   "source": [
    "orders = session.query(Order).filter(Order.orderId > 10).all()\n",
    "for order in orders:\n",
    "    print(f\"orderId: {order.orderId}, orderItem: {order.orderItem}, custId: {order.custId}\")"
   ]
  },
  {
   "cell_type": "code",
   "execution_count": 121,
   "metadata": {},
   "outputs": [
    {
     "name": "stdout",
     "output_type": "stream",
     "text": [
      "orderId: 1, orderItem: Item 1, custId: 1\n",
      "orderId: 2, orderItem: Item 2, custId: 1\n",
      "orderId: 3, orderItem: Item 3, custId: 1\n"
     ]
    }
   ],
   "source": [
    "orders = session.query(Order).filter(Order.custId == 1).all()\n",
    "for order in orders:\n",
    "    print(f\"orderId: {order.orderId}, orderItem: {order.orderItem}, custId: {order.custId}\")"
   ]
  },
  {
   "cell_type": "markdown",
   "metadata": {},
   "source": [
    "### Using SQLAlchemy Core"
   ]
  },
  {
   "cell_type": "code",
   "execution_count": 5,
   "metadata": {},
   "outputs": [],
   "source": [
    "from sqlalchemy import select"
   ]
  },
  {
   "cell_type": "code",
   "execution_count": 6,
   "metadata": {},
   "outputs": [],
   "source": [
    "statement = (\n",
    "    select(Order).where(Order.custId == 1)\n",
    ")\n",
    "\n",
    "customer_orders = session.scalars(statement).all()"
   ]
  },
  {
   "cell_type": "code",
   "execution_count": 7,
   "metadata": {},
   "outputs": [
    {
     "name": "stdout",
     "output_type": "stream",
     "text": [
      "orderId: 1, orderItem: Item 1, orderDate: 2024-05-30 00:00:00\n",
      "orderId: 2, orderItem: Item 2, orderDate: 2024-05-30 00:00:00\n",
      "orderId: 3, orderItem: Item 3, orderDate: 2024-05-30 00:00:00\n"
     ]
    }
   ],
   "source": [
    "for order in customer_orders:\n",
    "    print(f\"orderId: {order.orderId}, orderItem: {order.orderItem}, orderDate: {order.orderDate}\")"
   ]
  },
  {
   "cell_type": "code",
   "execution_count": 181,
   "metadata": {},
   "outputs": [],
   "source": [
    "orders = session.scalars(\n",
    "    (select(Order).where(Order.orderStatus == False))\n",
    ").all()"
   ]
  },
  {
   "cell_type": "code",
   "execution_count": 183,
   "metadata": {},
   "outputs": [
    {
     "name": "stdout",
     "output_type": "stream",
     "text": [
      "orderId: 3, orderItem: Item 3, custId: 1\n",
      "orderId: 5, orderItem: Item 5, custId: 2\n",
      "orderId: 10, orderItem: Item 10, custId: 4\n",
      "orderId: 11, orderItem: Item 11, custId: 4\n"
     ]
    }
   ],
   "source": [
    "for order in orders:\n",
    "    print(f\"orderId: {order.orderId}, orderItem: {order.orderItem}, custId: {order.custId}\")"
   ]
  },
  {
   "cell_type": "code",
   "execution_count": 185,
   "metadata": {},
   "outputs": [],
   "source": [
    "orders = session.scalars(\n",
    "    (select(Customer).join(Order.customer, Customer.custId == Order.custId).where(Order.orderStatus == False))\n",
    ").all()"
   ]
  },
  {
   "cell_type": "code",
   "execution_count": 186,
   "metadata": {},
   "outputs": [
    {
     "name": "stdout",
     "output_type": "stream",
     "text": [
      "{'_sa_instance_state': <sqlalchemy.orm.state.InstanceState object at 0x000001C9EBEAD660>, 'custPhone': '123-456-7890', 'custId': 1, 'custName': 'Customer A'}\n",
      "{'_sa_instance_state': <sqlalchemy.orm.state.InstanceState object at 0x000001C9EBF23820>, 'custPhone': '234-567-8901', 'custId': 2, 'custName': 'Customer B'}\n",
      "{'_sa_instance_state': <sqlalchemy.orm.state.InstanceState object at 0x000001C9EBF23880>, 'custPhone': '456-789-0123', 'custId': 4, 'custName': 'Customer D'}\n",
      "{'_sa_instance_state': <sqlalchemy.orm.state.InstanceState object at 0x000001C9EBF23880>, 'custPhone': '456-789-0123', 'custId': 4, 'custName': 'Customer D'}\n"
     ]
    }
   ],
   "source": [
    "for order in orders:\n",
    "    print(order.__dict__)\n",
    "    #print(f\"orderId: {order.orderId}, orderItem: {order.orderItem}, custId: {order.custId}, custName: {order.custName}\")"
   ]
  },
  {
   "cell_type": "markdown",
   "metadata": {},
   "source": [
    "### Update"
   ]
  },
  {
   "cell_type": "code",
   "execution_count": 67,
   "metadata": {},
   "outputs": [],
   "source": [
    "order = session.query(Order).filter(Order.orderId == 10).one_or_none()"
   ]
  },
  {
   "cell_type": "code",
   "execution_count": 68,
   "metadata": {},
   "outputs": [
    {
     "data": {
      "text/plain": [
       "False"
      ]
     },
     "execution_count": 68,
     "metadata": {},
     "output_type": "execute_result"
    }
   ],
   "source": [
    "order.orderStatus"
   ]
  },
  {
   "cell_type": "code",
   "execution_count": 69,
   "metadata": {},
   "outputs": [],
   "source": [
    "order.orderStatus = True\n",
    "session.commit()"
   ]
  },
  {
   "cell_type": "code",
   "execution_count": 70,
   "metadata": {},
   "outputs": [
    {
     "data": {
      "text/plain": [
       "True"
      ]
     },
     "execution_count": 70,
     "metadata": {},
     "output_type": "execute_result"
    }
   ],
   "source": [
    "order.orderStatus"
   ]
  },
  {
   "cell_type": "markdown",
   "metadata": {},
   "source": [
    "### Delete"
   ]
  },
  {
   "cell_type": "code",
   "execution_count": 71,
   "metadata": {},
   "outputs": [
    {
     "data": {
      "text/plain": [
       "'Item 6'"
      ]
     },
     "execution_count": 71,
     "metadata": {},
     "output_type": "execute_result"
    }
   ],
   "source": [
    "order = session.query(Order).filter(Order.orderId == 6).one_or_none()\n",
    "order.orderItem"
   ]
  },
  {
   "cell_type": "code",
   "execution_count": 72,
   "metadata": {},
   "outputs": [],
   "source": [
    "session.delete(order)\n",
    "session.commit()"
   ]
  },
  {
   "cell_type": "code",
   "execution_count": 74,
   "metadata": {},
   "outputs": [
    {
     "data": {
      "text/plain": [
       "6"
      ]
     },
     "execution_count": 74,
     "metadata": {},
     "output_type": "execute_result"
    }
   ],
   "source": [
    "order.orderId"
   ]
  },
  {
   "cell_type": "markdown",
   "metadata": {},
   "source": [
    "#### Flush\n",
    "1. Clear all the changes (SQL statements) from session's current transaction.\n",
    "2. Session will be flushed automatically (autoflush) after session.commit() executed."
   ]
  },
  {
   "cell_type": "code",
   "execution_count": 75,
   "metadata": {},
   "outputs": [],
   "source": [
    "session.flush()"
   ]
  },
  {
   "cell_type": "code",
   "execution_count": 76,
   "metadata": {},
   "outputs": [],
   "source": [
    "session.close()"
   ]
  },
  {
   "cell_type": "code",
   "execution_count": null,
   "metadata": {},
   "outputs": [],
   "source": []
  }
 ],
 "metadata": {
  "kernelspec": {
   "display_name": "Python 3",
   "language": "python",
   "name": "python3"
  },
  "language_info": {
   "codemirror_mode": {
    "name": "ipython",
    "version": 3
   },
   "file_extension": ".py",
   "mimetype": "text/x-python",
   "name": "python",
   "nbconvert_exporter": "python",
   "pygments_lexer": "ipython3",
   "version": "3.10.11"
  }
 },
 "nbformat": 4,
 "nbformat_minor": 2
}
