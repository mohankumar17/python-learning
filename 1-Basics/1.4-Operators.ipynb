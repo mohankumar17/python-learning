{
 "cells": [
  {
   "cell_type": "markdown",
   "metadata": {},
   "source": [
    "## Operators \n",
    "1. Arithemetic (+, -, *, /, //, %, **)\n",
    "2. Relational (>, >=,<, <=, ==)\n",
    "3. Logical (and, or, not)\n",
    "4. Bitwise (&, |, ~, ^, >>, <<)\n",
    "5. Misc: Shorthand expression (eg. a += 1)"
   ]
  },
  {
   "cell_type": "markdown",
   "metadata": {},
   "source": [
    "#### Arithmetic Operators"
   ]
  },
  {
   "cell_type": "code",
   "execution_count": 1,
   "metadata": {},
   "outputs": [
    {
     "name": "stdout",
     "output_type": "stream",
     "text": [
      "Sum: 38\n",
      "Difference: 14\n",
      "Product: 312\n",
      "Division: 2.5833333333333335\n",
      "Floor Division: 2\n",
      "Remainder: 2\n",
      "Power: 144\n"
     ]
    }
   ],
   "source": [
    "num1 = 12\n",
    "num2 = 26\n",
    "num3 = 31\n",
    "\n",
    "print(\"Sum:\", num1 + num2)\n",
    "print(\"Difference:\", num2 - num1)\n",
    "print(\"Product:\", num1 * num2)\n",
    "print(\"Division:\", num3 / num1)\n",
    "print(\"Floor Division:\", num3 // num1)\n",
    "print(\"Remainder:\", num2 % num1)\n",
    "print(\"Power:\", num1 ** 2)"
   ]
  },
  {
   "cell_type": "markdown",
   "metadata": {},
   "source": [
    "#### Relational Operators"
   ]
  },
  {
   "cell_type": "code",
   "execution_count": 2,
   "metadata": {},
   "outputs": [
    {
     "name": "stdout",
     "output_type": "stream",
     "text": [
      "True\n",
      "False\n",
      "True\n",
      "False\n"
     ]
    }
   ],
   "source": [
    "print(num2 > num1)\n",
    "print(num3 <= num2)\n",
    "print(num1 != num2)\n",
    "print(num1 == num2)"
   ]
  },
  {
   "cell_type": "markdown",
   "metadata": {},
   "source": [
    "#### Logical Operators"
   ]
  },
  {
   "cell_type": "code",
   "execution_count": 3,
   "metadata": {},
   "outputs": [
    {
     "name": "stdout",
     "output_type": "stream",
     "text": [
      "True\n",
      "False\n",
      "True\n",
      "False\n",
      "False\n"
     ]
    }
   ],
   "source": [
    "print(True and True)\n",
    "print(True and False)\n",
    "\n",
    "print(True or False)\n",
    "print(False or False)\n",
    "\n",
    "print(not True)\n"
   ]
  },
  {
   "cell_type": "markdown",
   "metadata": {},
   "source": [
    "#### Bitwise Operators"
   ]
  },
  {
   "cell_type": "code",
   "execution_count": 4,
   "metadata": {},
   "outputs": [
    {
     "name": "stdout",
     "output_type": "stream",
     "text": [
      "0b1100 & 0b1001 ----> 8\n",
      "0b1100 | 0b1001 ----> 13\n",
      "~12 ----> -13\n",
      "~-17 ----> 16\n",
      "0b1100 ^ 0b1001 (XOR) ----> 5\n",
      "12 >> 2 = (12 / (2 ** 2)) ----> 3\n",
      "12 << 3 = (12 * (2 ** 3)) ----> 96\n",
      "13\n"
     ]
    }
   ],
   "source": [
    "num1 = 12\n",
    "num2 = 9\n",
    "num3 = -17\n",
    "\n",
    "binaryNum1 = bin(num1)\n",
    "binaryNum2 = bin(num2)\n",
    "binaryNum3 = bin(num3)\n",
    "\n",
    "print(f'{binaryNum1} & {binaryNum2} ----> {num1 & num2}')\n",
    "print(f'{binaryNum1} | {binaryNum2} ----> {num1 | num2}')\n",
    "print(f'~{num1} ----> {~num1}')\n",
    "print(f'~{num3} ----> {~num3}')\n",
    "print(f'{binaryNum1} ^ {binaryNum2} (XOR) ----> {num1 ^ num2}')\n",
    "print(f'{num1} >> 2 = ({num1} / (2 ** 2)) ----> {num1 >> 2}')\n",
    "print(f'{num1} << 3 = ({num1} * (2 ** 3)) ----> {num1 << 3}')\n",
    "\n",
    "print(0b1101)\n"
   ]
  },
  {
   "cell_type": "markdown",
   "metadata": {},
   "source": [
    "#### Shorthand Operators"
   ]
  },
  {
   "cell_type": "code",
   "execution_count": 5,
   "metadata": {},
   "outputs": [
    {
     "name": "stdout",
     "output_type": "stream",
     "text": [
      "16\n"
     ]
    }
   ],
   "source": [
    "num1 = 15\n",
    "num1 += 1\n",
    "print(num1)"
   ]
  },
  {
   "cell_type": "code",
   "execution_count": null,
   "metadata": {},
   "outputs": [],
   "source": []
  }
 ],
 "metadata": {
  "kernelspec": {
   "display_name": "Python 3",
   "language": "python",
   "name": "python3"
  },
  "language_info": {
   "codemirror_mode": {
    "name": "ipython",
    "version": 3
   },
   "file_extension": ".py",
   "mimetype": "text/x-python",
   "name": "python",
   "nbconvert_exporter": "python",
   "pygments_lexer": "ipython3",
   "version": "3.10.11"
  }
 },
 "nbformat": 4,
 "nbformat_minor": 2
}
