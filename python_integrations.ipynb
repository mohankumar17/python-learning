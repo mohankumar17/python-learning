{
 "cells": [
  {
   "cell_type": "markdown",
   "metadata": {},
   "source": [
    "# System Integrations with Python\n",
    "\n",
    "1. File System\n",
    "2. REST APIs\n",
    "3. SMTP (Email)\n",
    "4. Databases - SQL\n",
    "5. Remote File Systems: FTP and SFTP"
   ]
  },
  {
   "cell_type": "markdown",
   "metadata": {},
   "source": [
    "### File System"
   ]
  },
  {
   "cell_type": "code",
   "execution_count": 1,
   "metadata": {},
   "outputs": [
    {
     "name": "stdout",
     "output_type": "stream",
     "text": [
      "id,name,age,active\n",
      "\n",
      "101,Paul Brandon,35,Yes\n",
      "\n",
      "102,Tina Nailor,33,No\n",
      "\n",
      "103,John Doe,26,Yes\n",
      "\n",
      "104,Jason Pine,45,Yes\n",
      "\n",
      "105,Rock Slyver,52,No\n",
      "\n"
     ]
    }
   ],
   "source": [
    "try:\n",
    "    fin = open(\"resources/customers.csv\", \"r\")\n",
    "    #print(fin.readlines())  #Read all lines at once\n",
    "    #print(fin.readline()) #Read line by line\n",
    "    while (currLine := fin.readline()):\n",
    "        print(currLine)\n",
    "    fin.close()\n",
    "except FileNotFoundError as fe:\n",
    "    print(fe)"
   ]
  },
  {
   "cell_type": "code",
   "execution_count": 2,
   "metadata": {},
   "outputs": [
    {
     "name": "stdout",
     "output_type": "stream",
     "text": [
      "['101,Paul Brandon,35,Yes\\n', '103,John Doe,26,Yes\\n', '104,Jason Pine,45,Yes\\n']\n"
     ]
    }
   ],
   "source": [
    "activeCustomers = []\n",
    "try:\n",
    "    fin = open(\"resources/customers.csv\", \"r\")\n",
    "    header = fin.readline()\n",
    "    while (currLine := fin.readline()):\n",
    "        if currLine.split(\",\")[-1].startswith(\"Yes\"):\n",
    "            activeCustomers.append(currLine)\n",
    "    fin.close()\n",
    "except FileNotFoundError as fe:\n",
    "    print(fe)\n",
    "\n",
    "print(activeCustomers)"
   ]
  },
  {
   "cell_type": "code",
   "execution_count": 3,
   "metadata": {},
   "outputs": [],
   "source": [
    "try:\n",
    "    fout = open(\"resources/activeCustomers.csv\", \"w\") #Write mode (will overwrite the existing content in the file)\n",
    "    #fout = open(\"resources/activeCustomers.csv\", \"a\") #Append mode (will append the new content without overwriting the existing content)\n",
    "    for customerLine in activeCustomers:\n",
    "        fout.write(customerLine)\n",
    "    #fout.write(\"\\n\")\n",
    "    fout.close()\n",
    "except Exception as e:\n",
    "    print(e)"
   ]
  },
  {
   "cell_type": "markdown",
   "metadata": {},
   "source": [
    "### REST APIs"
   ]
  },
  {
   "cell_type": "code",
   "execution_count": 4,
   "metadata": {},
   "outputs": [],
   "source": [
    "import requests"
   ]
  },
  {
   "cell_type": "code",
   "execution_count": 5,
   "metadata": {},
   "outputs": [],
   "source": [
    "url = \"https://jsonplaceholder.typicode.com/posts\""
   ]
  },
  {
   "cell_type": "code",
   "execution_count": 6,
   "metadata": {},
   "outputs": [],
   "source": [
    "id = 5"
   ]
  },
  {
   "cell_type": "code",
   "execution_count": 8,
   "metadata": {},
   "outputs": [
    {
     "name": "stdout",
     "output_type": "stream",
     "text": [
      "Response in JSON format: {'userId': 1, 'id': 5, 'title': 'nesciunt quas odio', 'body': 'repudiandae veniam quaerat sunt sed\\nalias aut fugiat sit autem sed est\\nvoluptatem omnis possimus esse voluptatibus quis\\nest aut tenetur dolor neque'}\n",
      "Headers:  {'Date': 'Wed, 20 Mar 2024 15:55:33 GMT', 'Content-Type': 'application/json; charset=utf-8', 'Transfer-Encoding': 'chunked', 'Connection': 'keep-alive', 'Report-To': '{\"group\":\"heroku-nel\",\"max_age\":3600,\"endpoints\":[{\"url\":\"https://nel.heroku.com/reports?ts=1710353771&sid=e11707d5-02a7-43ef-b45e-2cf4d2036f7d&s=EoHwxNsx4vXT3Glp3y4lgD5UiP4qHnPvys7c6gox76I%3D\"}]}', 'Reporting-Endpoints': 'heroku-nel=https://nel.heroku.com/reports?ts=1710353771&sid=e11707d5-02a7-43ef-b45e-2cf4d2036f7d&s=EoHwxNsx4vXT3Glp3y4lgD5UiP4qHnPvys7c6gox76I%3D', 'Nel': '{\"report_to\":\"heroku-nel\",\"max_age\":3600,\"success_fraction\":0.005,\"failure_fraction\":0.05,\"response_headers\":[\"Via\"]}', 'X-Powered-By': 'Express', 'X-Ratelimit-Limit': '1000', 'X-Ratelimit-Remaining': '999', 'X-Ratelimit-Reset': '1710353822', 'Vary': 'Origin, Accept-Encoding', 'Access-Control-Allow-Credentials': 'true', 'Cache-Control': 'max-age=43200', 'Pragma': 'no-cache', 'Expires': '-1', 'X-Content-Type-Options': 'nosniff', 'Etag': 'W/\"e1-IivojO0CtPZmcMK0iydTbsfG7Wc\"', 'Via': '1.1 vegur', 'CF-Cache-Status': 'HIT', 'Age': '3649', 'Server': 'cloudflare', 'CF-RAY': '8676e31d6ddb383a-FRA', 'Content-Encoding': 'gzip', 'alt-svc': 'h3=\":443\"; ma=86400'}\n",
      "Media Type: application/json; charset=utf-8\n"
     ]
    }
   ],
   "source": [
    "try:\n",
    "    #resp = requests.get(url, attributes)\n",
    "    resp = requests.get(url+\"/\"+str(id))\n",
    "    if resp.status_code == 200:\n",
    "        #print(\"Response in raw format:\", resp.text)\n",
    "        print(\"Response in JSON format:\", resp.json())\n",
    "        print(\"Headers: \",resp.headers)\n",
    "        print(\"Media Type:\", resp.headers['Content-Type'])\n",
    "except Exception as e:\n",
    "    print(e)"
   ]
  },
  {
   "cell_type": "code",
   "execution_count": 9,
   "metadata": {},
   "outputs": [
    {
     "data": {
      "text/plain": [
       "{'userId': 1,\n",
       " 'id': 5,\n",
       " 'title': 'nesciunt quas odio',\n",
       " 'body': 'repudiandae veniam quaerat sunt sed\\nalias aut fugiat sit autem sed est\\nvoluptatem omnis possimus esse voluptatibus quis\\nest aut tenetur dolor neque'}"
      ]
     },
     "execution_count": 9,
     "metadata": {},
     "output_type": "execute_result"
    }
   ],
   "source": [
    "resp.json()"
   ]
  },
  {
   "cell_type": "markdown",
   "metadata": {},
   "source": [
    "#### CRUD Operations with REST API"
   ]
  },
  {
   "cell_type": "code",
   "execution_count": 12,
   "metadata": {},
   "outputs": [],
   "source": [
    "url = \"https://reqres.in/api/users/\""
   ]
  },
  {
   "cell_type": "markdown",
   "metadata": {},
   "source": [
    "#### Read (GET)"
   ]
  },
  {
   "cell_type": "code",
   "execution_count": 13,
   "metadata": {},
   "outputs": [],
   "source": [
    "id = 3"
   ]
  },
  {
   "cell_type": "code",
   "execution_count": 14,
   "metadata": {},
   "outputs": [],
   "source": [
    "try:\n",
    "    resp = requests.get(url + str(id))\n",
    "    if resp.status_code == 200:\n",
    "        resp_body = resp.json()\n",
    "except Exception as e:\n",
    "    print(e)"
   ]
  },
  {
   "cell_type": "code",
   "execution_count": 15,
   "metadata": {},
   "outputs": [
    {
     "data": {
      "text/plain": [
       "{'data': {'id': 3,\n",
       "  'email': 'emma.wong@reqres.in',\n",
       "  'first_name': 'Emma',\n",
       "  'last_name': 'Wong',\n",
       "  'avatar': 'https://reqres.in/img/faces/3-image.jpg'},\n",
       " 'support': {'url': 'https://reqres.in/#support-heading',\n",
       "  'text': 'To keep ReqRes free, contributions towards server costs are appreciated!'}}"
      ]
     },
     "execution_count": 15,
     "metadata": {},
     "output_type": "execute_result"
    }
   ],
   "source": [
    "resp_body"
   ]
  },
  {
   "cell_type": "markdown",
   "metadata": {},
   "source": [
    "#### Create (POST)"
   ]
  },
  {
   "cell_type": "code",
   "execution_count": 16,
   "metadata": {},
   "outputs": [],
   "source": [
    "req_body = {\n",
    "    \"name\": \"Paul Brandon\",\n",
    "    \"job\": \"Telecomm Operator\"\n",
    "}"
   ]
  },
  {
   "cell_type": "code",
   "execution_count": 17,
   "metadata": {},
   "outputs": [],
   "source": [
    "try:\n",
    "    resp = requests.post(url, req_body)\n",
    "    if resp.status_code == 201:\n",
    "        resp_body = resp.json()\n",
    "except Exception as e:\n",
    "    print(e)"
   ]
  },
  {
   "cell_type": "code",
   "execution_count": 18,
   "metadata": {},
   "outputs": [
    {
     "data": {
      "text/plain": [
       "{'name': 'Paul Brandon',\n",
       " 'job': 'Telecomm Operator',\n",
       " 'id': '511',\n",
       " 'createdAt': '2024-03-20T16:08:30.755Z'}"
      ]
     },
     "execution_count": 18,
     "metadata": {},
     "output_type": "execute_result"
    }
   ],
   "source": [
    "resp_body"
   ]
  },
  {
   "cell_type": "markdown",
   "metadata": {},
   "source": [
    "#### Update (PUT)"
   ]
  },
  {
   "cell_type": "code",
   "execution_count": 20,
   "metadata": {},
   "outputs": [],
   "source": [
    "req_body = {\n",
    "    \"name\": \"Paul Brandon\",\n",
    "    \"job\": \"Software Engineer\"\n",
    "}"
   ]
  },
  {
   "cell_type": "code",
   "execution_count": 23,
   "metadata": {},
   "outputs": [],
   "source": [
    "try:\n",
    "    resp = requests.put(url + str(id), req_body)\n",
    "    if resp.status_code == 200:\n",
    "        resp_body = resp.json()\n",
    "except Exception as e:\n",
    "    print(e)"
   ]
  },
  {
   "cell_type": "code",
   "execution_count": 24,
   "metadata": {},
   "outputs": [
    {
     "data": {
      "text/plain": [
       "{'name': 'Paul Brandon',\n",
       " 'job': 'Software Engineer',\n",
       " 'updatedAt': '2024-03-20T16:12:18.190Z'}"
      ]
     },
     "execution_count": 24,
     "metadata": {},
     "output_type": "execute_result"
    }
   ],
   "source": [
    "resp_body"
   ]
  },
  {
   "cell_type": "markdown",
   "metadata": {},
   "source": [
    "#### Delete (DELETE)"
   ]
  },
  {
   "cell_type": "code",
   "execution_count": 25,
   "metadata": {},
   "outputs": [
    {
     "name": "stdout",
     "output_type": "stream",
     "text": [
      "204\n"
     ]
    }
   ],
   "source": [
    "try:\n",
    "    resp = requests.delete(url + str(id))\n",
    "    print(resp.status_code)\n",
    "except Exception as e:\n",
    "    print(e)"
   ]
  },
  {
   "cell_type": "markdown",
   "metadata": {},
   "source": [
    "### Email (SMTP)"
   ]
  },
  {
   "cell_type": "code",
   "execution_count": 11,
   "metadata": {},
   "outputs": [],
   "source": [
    "import smtplib\n",
    "from email.mime.text import MIMEText"
   ]
  },
  {
   "cell_type": "code",
   "execution_count": 35,
   "metadata": {},
   "outputs": [],
   "source": [
    "subject = \"Python - Sample Email Subject\"\n",
    "body = \"Hi,\\n\\nThis is the sample body of the email sent from Python\\n\\nRegards,\\nPython SMTPLIB\"\n",
    "sender = \"<sender@gmail.com>\"\n",
    "password = \"<App Password (16 Character)>\" #Not regular Google User Password - Generate App Password In Google Account Page.\n",
    "recipients = [\"receiver1@gmail.com\", \"receiver2@gmail.com\"]"
   ]
  },
  {
   "cell_type": "code",
   "execution_count": 33,
   "metadata": {},
   "outputs": [],
   "source": [
    "def send_email(subject, body, sender, recipients, password):\n",
    "   msg = MIMEText(body)\n",
    "   msg['Subject'] = subject\n",
    "   msg['From'] = sender\n",
    "   msg['To'] = ', '.join(recipients)\n",
    "   with smtplib.SMTP_SSL(host='smtp.gmail.com', port=465) as smtp_server:\n",
    "      smtp_server.login(user=sender, password=password)\n",
    "      smtp_server.sendmail(from_addr=sender, to_addrs=recipients, msg=msg.as_string())\n",
    "   print(\"Mail sent!\")"
   ]
  },
  {
   "cell_type": "code",
   "execution_count": 34,
   "metadata": {},
   "outputs": [
    {
     "name": "stdout",
     "output_type": "stream",
     "text": [
      "Mail sent!\n"
     ]
    }
   ],
   "source": [
    "send_email(subject, body, sender, recipients, password)"
   ]
  },
  {
   "cell_type": "markdown",
   "metadata": {},
   "source": [
    "## Databases"
   ]
  },
  {
   "cell_type": "markdown",
   "metadata": {},
   "source": [
    "#### SQL -> MySQL"
   ]
  },
  {
   "cell_type": "code",
   "execution_count": 1,
   "metadata": {},
   "outputs": [],
   "source": [
    "import mysql.connector as db"
   ]
  },
  {
   "cell_type": "markdown",
   "metadata": {},
   "source": [
    "#### Reading properties from files"
   ]
  },
  {
   "cell_type": "code",
   "execution_count": 2,
   "metadata": {},
   "outputs": [],
   "source": [
    "from jproperties import Properties"
   ]
  },
  {
   "cell_type": "code",
   "execution_count": 3,
   "metadata": {},
   "outputs": [],
   "source": [
    "configs = Properties()\n",
    "with open('resources/properties/dev.properties', 'rb') as config_file:\n",
    "    configs.load(config_file)\n",
    "\n",
    "host = configs.get(\"HOST\").data\n",
    "port = configs.get(\"PORT\").data\n",
    "username = configs.get(\"USERNAME\").data\n",
    "password = configs.get(\"PASSWORD\").data"
   ]
  },
  {
   "cell_type": "markdown",
   "metadata": {},
   "source": [
    "#### Database connectivity"
   ]
  },
  {
   "cell_type": "code",
   "execution_count": 153,
   "metadata": {},
   "outputs": [],
   "source": [
    "dbConn = db.connect(host = host, port = port, user = username, passwd = password)"
   ]
  },
  {
   "cell_type": "markdown",
   "metadata": {},
   "source": [
    "#### Read -> SELECT"
   ]
  },
  {
   "cell_type": "code",
   "execution_count": 72,
   "metadata": {},
   "outputs": [],
   "source": [
    "myCursor = dbConn.cursor()\n",
    "\n",
    "selectQuery = \"SELECT * FROM python_de.employees;\"\n",
    "myCursor.execute(selectQuery)"
   ]
  },
  {
   "cell_type": "code",
   "execution_count": 73,
   "metadata": {},
   "outputs": [
    {
     "data": {
      "text/plain": [
       "[(1, 'Paul', 'Brandon', datetime.date(1978, 3, 12), 'Sales', '+41 456234'),\n",
       " (2, 'Tina', 'Nailor', datetime.date(1980, 11, 9), 'HR', '+41 987456'),\n",
       " (3, 'John', 'Doe', datetime.date(1995, 7, 14), 'IT', '+41 877245'),\n",
       " (5, 'Nick', 'Fury', datetime.date(1996, 8, 23), 'IT', '+41 985245')]"
      ]
     },
     "execution_count": 73,
     "metadata": {},
     "output_type": "execute_result"
    }
   ],
   "source": [
    "res = myCursor.fetchall()\n",
    "#res = myCursor.fetchmany(size = 2)\n",
    "#res = myCursor.fetchone()\n",
    "\n",
    "res"
   ]
  },
  {
   "cell_type": "code",
   "execution_count": 130,
   "metadata": {},
   "outputs": [
    {
     "data": {
      "text/plain": [
       "[(5, 'Nick', 'Fury', datetime.date(1996, 8, 23), 'IT', '+41 985245')]"
      ]
     },
     "execution_count": 130,
     "metadata": {},
     "output_type": "execute_result"
    }
   ],
   "source": [
    "myCursor = dbConn.cursor()\n",
    "\n",
    "selectQuery = \"SELECT * FROM python_de.employees WHERE department='IT';\"\n",
    "myCursor.execute(selectQuery)\n",
    "\n",
    "myCursor.fetchall()"
   ]
  },
  {
   "cell_type": "markdown",
   "metadata": {},
   "source": [
    "#### Execute Multiple SQL Statements using single execute method"
   ]
  },
  {
   "cell_type": "code",
   "execution_count": 154,
   "metadata": {},
   "outputs": [],
   "source": [
    "myCursor = dbConn.cursor()\n",
    "\n",
    "selectQuery = \"SELECT * FROM python_de.employees WHERE department='IT'; SELECT * FROM python_de.employees WHERE first_name like 'P%';\"\n",
    "results = myCursor.execute(selectQuery, multi=True)"
   ]
  },
  {
   "cell_type": "code",
   "execution_count": 155,
   "metadata": {},
   "outputs": [
    {
     "name": "stdout",
     "output_type": "stream",
     "text": [
      "Statment-1: SELECT * FROM python_de.employees WHERE department='IT'\n",
      "Rows Fetched: [(5, 'Nick', 'Fury', datetime.date(1996, 8, 23), 'IT', '+41 985245')]\n",
      "Statment-2: SELECT * FROM python_de.employees WHERE first_name like 'P%'\n",
      "Rows Fetched: [(1, 'Paul', 'Brandon', datetime.date(1978, 3, 12), 'Sales', '+41 456234')]\n"
     ]
    }
   ],
   "source": [
    "count = 1\n",
    "for res in results:\n",
    "    if res.with_rows:\n",
    "        print(f\"Statment-{count}: {res.statement}\")\n",
    "        print(f\"Rows Fetched: {res.fetchall()}\")\n",
    "    count += 1"
   ]
  },
  {
   "cell_type": "markdown",
   "metadata": {},
   "source": [
    "#### Write -> INSERT"
   ]
  },
  {
   "cell_type": "code",
   "execution_count": 75,
   "metadata": {},
   "outputs": [],
   "source": [
    "first_name = \"James\"\n",
    "last_name = \"Gos\"\n",
    "dob = \"1968-02-16\"\n",
    "department = \"FNC\"\n",
    "phone_numer = \"+34 874592\""
   ]
  },
  {
   "cell_type": "code",
   "execution_count": 76,
   "metadata": {},
   "outputs": [
    {
     "data": {
      "text/plain": [
       "\"INSERT INTO python_de.employees(first_name, last_name, dob, department, phone_number) VALUES ('James','Gos','1968-02-16','FNC','+34 874592');\""
      ]
     },
     "execution_count": 76,
     "metadata": {},
     "output_type": "execute_result"
    }
   ],
   "source": [
    "insertQuery = f\"INSERT INTO python_de.employees(first_name, last_name, dob, department, phone_number) VALUES ('{first_name}','{last_name}','{dob}','{department}','{phone_numer}');\"\n",
    "insertQuery"
   ]
  },
  {
   "cell_type": "code",
   "execution_count": 77,
   "metadata": {},
   "outputs": [],
   "source": [
    "myCursor = dbConn.cursor()\n",
    "myCursor.execute(insertQuery)"
   ]
  },
  {
   "cell_type": "code",
   "execution_count": 79,
   "metadata": {},
   "outputs": [],
   "source": [
    "dbConn.commit()"
   ]
  },
  {
   "cell_type": "code",
   "execution_count": 80,
   "metadata": {},
   "outputs": [
    {
     "name": "stdout",
     "output_type": "stream",
     "text": [
      "No.of.rows affected: 1\n",
      "Last Auto Generated Feild Value: 7\n"
     ]
    }
   ],
   "source": [
    "print(\"No.of.rows affected:\", myCursor.rowcount)\n",
    "print(\"Last Auto Generated Feild Value:\", myCursor.getlastrowid())"
   ]
  },
  {
   "cell_type": "markdown",
   "metadata": {},
   "source": [
    "#### Execute Many"
   ]
  },
  {
   "cell_type": "code",
   "execution_count": 119,
   "metadata": {},
   "outputs": [],
   "source": [
    "new_employees = [\n",
    "    (\"Shelby\",\"Tarrel\",\"145-10-26\",\"HR\",\"277 089678\"),\n",
    "    (\"Lori\",\"Todd\",\"1992-02-07\",\"Sales\",\"895 881432\")\n",
    "]"
   ]
  },
  {
   "cell_type": "code",
   "execution_count": 120,
   "metadata": {},
   "outputs": [
    {
     "data": {
      "text/plain": [
       "'INSERT INTO python_de.employees(first_name, last_name, dob, department, phone_number) VALUES (%s, %s, %s, %s, %s);'"
      ]
     },
     "execution_count": 120,
     "metadata": {},
     "output_type": "execute_result"
    }
   ],
   "source": [
    "insertQuery = f\"INSERT INTO python_de.employees(first_name, last_name, dob, department, phone_number) VALUES (%s, %s, %s, %s, %s);\"\n",
    "insertQuery"
   ]
  },
  {
   "cell_type": "code",
   "execution_count": 121,
   "metadata": {},
   "outputs": [],
   "source": [
    "myCursor = dbConn.cursor()\n",
    "myCursor.executemany(insertQuery, new_employees)"
   ]
  },
  {
   "cell_type": "code",
   "execution_count": 122,
   "metadata": {},
   "outputs": [],
   "source": [
    "dbConn.commit()"
   ]
  },
  {
   "cell_type": "code",
   "execution_count": 123,
   "metadata": {},
   "outputs": [
    {
     "name": "stdout",
     "output_type": "stream",
     "text": [
      "No.of.rows affected: 2\n",
      "Last Auto Generated Feild Value: 8\n"
     ]
    }
   ],
   "source": [
    "print(\"No.of.rows affected:\", myCursor.rowcount)\n",
    "print(\"Last Auto Generated Feild Value:\", myCursor.getlastrowid())"
   ]
  },
  {
   "cell_type": "markdown",
   "metadata": {},
   "source": [
    "#### Update -> UPDATE"
   ]
  },
  {
   "cell_type": "code",
   "execution_count": 82,
   "metadata": {},
   "outputs": [],
   "source": [
    "new_last_name = \"Rig\"\n",
    "first_name = \"Tina\""
   ]
  },
  {
   "cell_type": "code",
   "execution_count": 86,
   "metadata": {},
   "outputs": [
    {
     "data": {
      "text/plain": [
       "\"UPDATE python_de.employees SET last_name='Rig' where first_name='Tina';\""
      ]
     },
     "execution_count": 86,
     "metadata": {},
     "output_type": "execute_result"
    }
   ],
   "source": [
    "updateQuery = f\"UPDATE python_de.employees SET last_name='{new_last_name}' where first_name='{first_name}';\"\n",
    "updateQuery"
   ]
  },
  {
   "cell_type": "code",
   "execution_count": 87,
   "metadata": {},
   "outputs": [],
   "source": [
    "myCursor = dbConn.cursor()\n",
    "myCursor.execute(updateQuery)\n",
    "\n",
    "dbConn.commit()"
   ]
  },
  {
   "cell_type": "code",
   "execution_count": 89,
   "metadata": {},
   "outputs": [
    {
     "name": "stdout",
     "output_type": "stream",
     "text": [
      "No.of.rows affected: 1\n"
     ]
    }
   ],
   "source": [
    "print(\"No.of.rows affected:\", myCursor.rowcount)"
   ]
  },
  {
   "cell_type": "markdown",
   "metadata": {},
   "source": [
    "#### Delete -> DELETE"
   ]
  },
  {
   "cell_type": "code",
   "execution_count": 90,
   "metadata": {},
   "outputs": [],
   "source": [
    "id = 3"
   ]
  },
  {
   "cell_type": "code",
   "execution_count": 92,
   "metadata": {},
   "outputs": [
    {
     "data": {
      "text/plain": [
       "\"DELETE FROM python_de.employees where id='3';\""
      ]
     },
     "execution_count": 92,
     "metadata": {},
     "output_type": "execute_result"
    }
   ],
   "source": [
    "deleteQuery = f\"DELETE FROM python_de.employees where id='{id}';\"\n",
    "deleteQuery"
   ]
  },
  {
   "cell_type": "code",
   "execution_count": 93,
   "metadata": {},
   "outputs": [
    {
     "name": "stdout",
     "output_type": "stream",
     "text": [
      "No.of.rows affected: 1\n"
     ]
    }
   ],
   "source": [
    "myCursor = dbConn.cursor()\n",
    "myCursor.execute(deleteQuery)\n",
    "\n",
    "dbConn.commit()\n",
    "print(\"No.of.rows affected:\", myCursor.rowcount)"
   ]
  },
  {
   "cell_type": "code",
   "execution_count": 156,
   "metadata": {},
   "outputs": [],
   "source": [
    "dbConn.close()"
   ]
  },
  {
   "cell_type": "code",
   "execution_count": null,
   "metadata": {},
   "outputs": [],
   "source": []
  }
 ],
 "metadata": {
  "kernelspec": {
   "display_name": "Python 3",
   "language": "python",
   "name": "python3"
  },
  "language_info": {
   "codemirror_mode": {
    "name": "ipython",
    "version": 3
   },
   "file_extension": ".py",
   "mimetype": "text/x-python",
   "name": "python",
   "nbconvert_exporter": "python",
   "pygments_lexer": "ipython3",
   "version": "3.10.11"
  }
 },
 "nbformat": 4,
 "nbformat_minor": 2
}
