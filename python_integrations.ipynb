{
 "cells": [
  {
   "cell_type": "markdown",
   "metadata": {},
   "source": [
    "# System Integrations with Python\n",
    "\n",
    "1. File System\n",
    "2. REST APIs\n",
    "3. SMTP (Email)\n",
    "4. FTP and SFTP File Systems\n",
    "5. Databases - SQL and NoSQL\n",
    "6. Datawarehouse"
   ]
  },
  {
   "cell_type": "code",
   "execution_count": 27,
   "metadata": {},
   "outputs": [
    {
     "name": "stdout",
     "output_type": "stream",
     "text": [
      "id,name,age,active\n",
      "\n",
      "101,Paul Brandon,35,Yes\n",
      "\n",
      "102,Tina Nailor,33,No\n",
      "\n",
      "103,John Doe,26,Yes\n",
      "\n",
      "104,Jason Pine,45,Yes\n",
      "\n",
      "105,Rock Slyver,52,No\n",
      "\n"
     ]
    }
   ],
   "source": [
    "try:\n",
    "    fin = open(\"resources/customers.csv\", \"r\")\n",
    "    #print(fin.readlines())  #Read all lines at once\n",
    "    #print(fin.readline()) #Read line by line\n",
    "    while (currLine := fin.readline()):\n",
    "        print(currLine)\n",
    "    fin.close()\n",
    "except FileNotFoundError as fe:\n",
    "    print(fe)"
   ]
  },
  {
   "cell_type": "code",
   "execution_count": 28,
   "metadata": {},
   "outputs": [
    {
     "name": "stdout",
     "output_type": "stream",
     "text": [
      "['101,Paul Brandon,35,Yes\\n', '103,John Doe,26,Yes\\n', '104,Jason Pine,45,Yes\\n']\n"
     ]
    }
   ],
   "source": [
    "activeCustomers = []\n",
    "try:\n",
    "    fin = open(\"resources/customers.csv\", \"r\")\n",
    "    header = fin.readline()\n",
    "    while (currLine := fin.readline()):\n",
    "        if currLine.split(\",\")[-1].startswith(\"Yes\"):\n",
    "            activeCustomers.append(currLine)\n",
    "    fin.close()\n",
    "except FileNotFoundError as fe:\n",
    "    print(fe)\n",
    "\n",
    "print(activeCustomers)"
   ]
  },
  {
   "cell_type": "code",
   "execution_count": 29,
   "metadata": {},
   "outputs": [],
   "source": [
    "try:\n",
    "    fout = open(\"resources/activeCustomers.csv\", \"w\") #Write mode (will overwrite the existing content in the file)\n",
    "    #fout = open(\"resources/activeCustomers.csv\", \"a\") #Append mode (will append the new content without overwriting the existing content)\n",
    "    for customerLine in activeCustomers:\n",
    "        fout.write(customerLine)\n",
    "    #fout.write(\"\\n\")\n",
    "    fout.close()\n",
    "except Exception as e:\n",
    "    print(e)"
   ]
  },
  {
   "cell_type": "code",
   "execution_count": null,
   "metadata": {},
   "outputs": [],
   "source": []
  }
 ],
 "metadata": {
  "kernelspec": {
   "display_name": "Python 3",
   "language": "python",
   "name": "python3"
  },
  "language_info": {
   "codemirror_mode": {
    "name": "ipython",
    "version": 3
   },
   "file_extension": ".py",
   "mimetype": "text/x-python",
   "name": "python",
   "nbconvert_exporter": "python",
   "pygments_lexer": "ipython3",
   "version": "3.10.11"
  }
 },
 "nbformat": 4,
 "nbformat_minor": 2
}
