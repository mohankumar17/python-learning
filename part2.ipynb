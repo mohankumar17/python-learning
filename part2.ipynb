{
 "cells": [
  {
   "cell_type": "markdown",
   "metadata": {},
   "source": [
    "### Object Oriented Programming (OOPs)\n",
    "#### Class"
   ]
  },
  {
   "cell_type": "code",
   "execution_count": 32,
   "metadata": {},
   "outputs": [],
   "source": [
    "class Department:\n",
    "    def __init__(self, id, name):\n",
    "        self.id = id\n",
    "        self.name = name\n",
    "    def getId(self):\n",
    "        return self.id\n",
    "    def getName(self):\n",
    "        return self.name"
   ]
  },
  {
   "cell_type": "code",
   "execution_count": 52,
   "metadata": {},
   "outputs": [],
   "source": [
    "class Employee:\n",
    "    organizationName = \"Abies Pvt.Ltd.\" #Class Atribute \n",
    "\n",
    "    def __init__(self, empId, department):\n",
    "        #Instance or Object Attributes\n",
    "        self.empId = empId\n",
    "        self.empName = None\n",
    "        self.__empSalary = None  #private attribute\n",
    "        self.department = department\n",
    "\n",
    "    def getEmpName(self):\n",
    "        return self.empName\n",
    "\n",
    "    def setEmpName(self, empName):\n",
    "        self.empName = empName\n",
    "\n",
    "    def getId(self):\n",
    "        return self.empId\n",
    "\n",
    "    def getEmpSalary(self):\n",
    "        return self.__empSalary\n",
    "\n",
    "    def setEmpSalary(self, empSalary):\n",
    "        self.__empSalary = empSalary\n",
    "\n",
    "    @classmethod\n",
    "    def showOrganizationName(cls):\n",
    "        # Accessing the class attribute using classmethood's parameter (cls). It can't access instance attrs.\n",
    "        print(cls.organizationName)\n",
    "\n",
    "    @staticmethod\n",
    "    def showMessage():\n",
    "        # It can't access neither class attrs nor instance attrs.\n",
    "        print(\"Static Method\")\n",
    "\n",
    "    def getAddressDetails(self, addr):\n",
    "        return {\"Country\": addr.getCountry(),\n",
    "                \"State\": addr.getState()}\n",
    "\n",
    "    def getDepartmentDetails(self):\n",
    "        return {\"Dept ID\": self.department.getId(),\n",
    "                \"Dept Name\": self.department.getName()}\n",
    "\n",
    "    class Address:\n",
    "        def __init__(self, country, state):\n",
    "            self.country = country\n",
    "            self.state = state\n",
    "\n",
    "        def getCountry(self):\n",
    "            return self.country\n",
    "\n",
    "        def getState(self):\n",
    "            return self.state\n"
   ]
  },
  {
   "cell_type": "markdown",
   "metadata": {},
   "source": [
    "### Instance or Object"
   ]
  },
  {
   "cell_type": "code",
   "execution_count": 53,
   "metadata": {},
   "outputs": [],
   "source": [
    "dept = Department(301, \"IT\")\n",
    "theEmployee1 = Employee(101, dept)\n",
    "addr1 = theEmployee1.Address(\"India\", \"AP\")"
   ]
  },
  {
   "cell_type": "code",
   "execution_count": 54,
   "metadata": {},
   "outputs": [
    {
     "name": "stdout",
     "output_type": "stream",
     "text": [
      "101\n",
      "Paul Brandon\n",
      "85000\n",
      "{'Country': 'India', 'State': 'AP'}\n",
      "{'Dept ID': 301, 'Dept Name': 'IT'}\n"
     ]
    }
   ],
   "source": [
    "print(theEmployee1.getId())\n",
    "theEmployee1.setEmpName(\"Paul Brandon\")\n",
    "print(theEmployee1.getEmpName())\n",
    "theEmployee1.setEmpSalary(85000)\n",
    "print(theEmployee1.getEmpSalary())\n",
    "print(theEmployee1.getAddressDetails(addr1))\n",
    "print(theEmployee1.getDepartmentDetails())"
   ]
  },
  {
   "cell_type": "code",
   "execution_count": 55,
   "metadata": {},
   "outputs": [],
   "source": [
    "dept = Department(302, \"HR\")\n",
    "theEmployee2 = Employee(102, dept)\n",
    "addr2 = theEmployee1.Address(\"India\", \"TN\")"
   ]
  },
  {
   "cell_type": "code",
   "execution_count": 56,
   "metadata": {},
   "outputs": [
    {
     "name": "stdout",
     "output_type": "stream",
     "text": [
      "102\n",
      "Tina Nailor\n",
      "74000\n",
      "{'Country': 'India', 'State': 'TN'}\n",
      "{'Dept ID': 302, 'Dept Name': 'HR'}\n"
     ]
    }
   ],
   "source": [
    "print(theEmployee2.getId())\n",
    "theEmployee2.setEmpName(\"Tina Nailor\")\n",
    "print(theEmployee2.getEmpName())\n",
    "theEmployee2.setEmpSalary(74000)\n",
    "print(theEmployee2.getEmpSalary())\n",
    "print(theEmployee2.getAddressDetails(addr2))\n",
    "print(theEmployee2.getDepartmentDetails())"
   ]
  },
  {
   "cell_type": "code",
   "execution_count": 43,
   "metadata": {},
   "outputs": [
    {
     "name": "stdout",
     "output_type": "stream",
     "text": [
      "Abies Pvt.Ltd.\n",
      "Abies Pvt.Ltd.\n",
      "Abies Pvt.Ltd.\n",
      "Static Method\n",
      "Static Method\n"
     ]
    }
   ],
   "source": [
    "print(Employee.organizationName)\n",
    "\n",
    "# Calling class method\n",
    "Employee.showOrganizationName()  #using class name\n",
    "theEmployee1.showOrganizationName() #using object\n",
    "\n",
    "# Calling static methoid\n",
    "Employee.showMessage() #using class name\n",
    "theEmployee1.showMessage() #using object"
   ]
  },
  {
   "cell_type": "markdown",
   "metadata": {},
   "source": [
    "### Inheritance and Polymorphism (Method Overriding)"
   ]
  },
  {
   "cell_type": "code",
   "execution_count": 8,
   "metadata": {},
   "outputs": [
    {
     "name": "stdout",
     "output_type": "stream",
     "text": [
      "ParentA Constructor\n",
      "ChildA Constructor\n",
      "ChildA: showMsgA override\n",
      "ChildB: showMsgA override\n"
     ]
    }
   ],
   "source": [
    "class ParentA:\n",
    "    def __init__(self):\n",
    "        print(\"ParentA Constructor\")\n",
    "    def showMsgA(self):\n",
    "        print(\"ParentA\")\n",
    "\n",
    "class ParentB:\n",
    "    def __init__(self):\n",
    "        print(\"ParentB Constructor\")\n",
    "    def showMsgB(self):\n",
    "        print(\"ParentB\")\n",
    "        \n",
    "class ChildA(ParentA, ParentB):\n",
    "    def __init__(self):\n",
    "        super().__init__()\n",
    "        print(\"ChildA Constructor\")\n",
    "    def healthCheck(self):\n",
    "        return True\n",
    "    def showMsgA(self):\n",
    "        print(\"ChildA: showMsgA override\")\n",
    "    def showMsgB(self):\n",
    "        print(\"ChildB: showMsgA override\")\n",
    "\n",
    "#prOb = ParentA()\n",
    "chOb = ChildA()\n",
    "\n",
    "#prOb.showMsgA()\n",
    "chOb.showMsgA()\n",
    "chOb.showMsgB()"
   ]
  },
  {
   "cell_type": "markdown",
   "metadata": {},
   "source": [
    "### Abstraction"
   ]
  },
  {
   "cell_type": "code",
   "execution_count": 9,
   "metadata": {},
   "outputs": [],
   "source": [
    "from abc import ABC, abstractmethod\n",
    "class Department(ABC):\n",
    "    @abstractmethod\n",
    "    def process(self):\n",
    "        pass\n",
    "    \n",
    "    # Abstract class can contain non-abstract-methods but can't be called with object or instance\n",
    "    def nonAbstractMethod():\n",
    "        return True\n",
    "\n",
    "class Employee(Department):\n",
    "    def __init__(self, id, name):\n",
    "        self.id = id\n",
    "        self.name = name\n",
    "\n",
    "    def getEmpId(self):\n",
    "        return self.id\n",
    "\n",
    "    def getEmpName(self):\n",
    "        return self.name\n",
    "\n",
    "    def process(self):\n",
    "        print(\"Abstract method implementation.\")"
   ]
  },
  {
   "cell_type": "code",
   "execution_count": 10,
   "metadata": {},
   "outputs": [
    {
     "name": "stdout",
     "output_type": "stream",
     "text": [
      "1 Paul\n",
      "Abstract method implementation.\n",
      "True\n"
     ]
    }
   ],
   "source": [
    "#dept = Department() #throws error as Department is abstract class\n",
    "\n",
    "emp = Employee(1, \"Paul\")\n",
    "print(emp.getEmpId(), emp.getEmpName())\n",
    "emp.process()\n",
    "\n",
    "print(Department.nonAbstractMethod())"
   ]
  },
  {
   "cell_type": "markdown",
   "metadata": {},
   "source": [
    "### Dunder or Magic Methods\n",
    "1. Methods having double underscores as prefix and suffix. E.g. __init__()\n",
    "2. Special methods which has are invoked internally by Python Classes.\n",
    "3. They are not meant for calling directly by the user. However, they can be used to overload the operqtors/specific behaviour"
   ]
  },
  {
   "cell_type": "code",
   "execution_count": 11,
   "metadata": {},
   "outputs": [
    {
     "name": "stdout",
     "output_type": "stream",
     "text": [
      "['__abs__', '__add__', '__and__', '__bool__', '__ceil__', '__class__', '__delattr__', '__dir__', '__divmod__', '__doc__', '__eq__', '__float__', '__floor__', '__floordiv__', '__format__', '__ge__', '__getattribute__', '__getnewargs__', '__gt__', '__hash__', '__index__', '__init__', '__init_subclass__', '__int__', '__invert__', '__le__', '__lshift__', '__lt__', '__mod__', '__mul__', '__ne__', '__neg__', '__new__', '__or__', '__pos__', '__pow__', '__radd__', '__rand__', '__rdivmod__', '__reduce__', '__reduce_ex__', '__repr__', '__rfloordiv__', '__rlshift__', '__rmod__', '__rmul__', '__ror__', '__round__', '__rpow__', '__rrshift__', '__rshift__', '__rsub__', '__rtruediv__', '__rxor__', '__setattr__', '__sizeof__', '__str__', '__sub__', '__subclasshook__', '__truediv__', '__trunc__', '__xor__', 'as_integer_ratio', 'bit_count', 'bit_length', 'conjugate', 'denominator', 'from_bytes', 'imag', 'numerator', 'real', 'to_bytes']\n"
     ]
    }
   ],
   "source": [
    "print(dir(int)) #lists the methods invoked by the classs <int>"
   ]
  },
  {
   "cell_type": "markdown",
   "metadata": {},
   "source": [
    "#### The + operator internally used __add__ magic/dunder method to add the results"
   ]
  },
  {
   "cell_type": "code",
   "execution_count": 12,
   "metadata": {},
   "outputs": [
    {
     "name": "stdout",
     "output_type": "stream",
     "text": [
      "15\n",
      "15\n"
     ]
    }
   ],
   "source": [
    "num = 5\n",
    "print(num + 10)\n",
    "print(num.__add__(10))"
   ]
  },
  {
   "cell_type": "markdown",
   "metadata": {},
   "source": [
    "#### Magic method to return string representation of the object"
   ]
  },
  {
   "cell_type": "code",
   "execution_count": 16,
   "metadata": {},
   "outputs": [],
   "source": [
    "class Order:\n",
    "    def __init__(self, orderId, quantity) -> None:\n",
    "        self.orderId = orderId\n",
    "        self.quantity = quantity\n",
    "    \n",
    "    def __str__(self) -> str:\n",
    "        return f\"Order Id: {str(self.orderId)}, Quanity: {str(self.quantity)}\""
   ]
  },
  {
   "cell_type": "code",
   "execution_count": 18,
   "metadata": {},
   "outputs": [
    {
     "name": "stdout",
     "output_type": "stream",
     "text": [
      "Order Id: 1001, Quanity: 15\n"
     ]
    }
   ],
   "source": [
    "order = Order(1001, 15)\n",
    "print(order)"
   ]
  },
  {
   "cell_type": "markdown",
   "metadata": {},
   "source": [
    "### Iterators\n",
    "1. Iterators are methods which are used to iterate or traverse through each element in the collection (list, tuple etc)\n",
    "2. Methods: iter() and next()\n",
    "3. Iterators throw StopIteration Exception after reaching end of iteration"
   ]
  },
  {
   "cell_type": "code",
   "execution_count": null,
   "metadata": {},
   "outputs": [],
   "source": [
    "myList = [9, 5, 3, 8, 1]\n",
    "iterator = iter(myList)"
   ]
  },
  {
   "cell_type": "code",
   "execution_count": null,
   "metadata": {},
   "outputs": [
    {
     "name": "stdout",
     "output_type": "stream",
     "text": [
      "9\n",
      "5\n",
      "3\n"
     ]
    }
   ],
   "source": [
    "print(next(iterator))\n",
    "print(next(iterator))\n",
    "print(next(iterator))"
   ]
  },
  {
   "cell_type": "code",
   "execution_count": null,
   "metadata": {},
   "outputs": [
    {
     "name": "stdout",
     "output_type": "stream",
     "text": [
      "9 5 3 8 1 "
     ]
    }
   ],
   "source": [
    "for item in iterator:\n",
    "    print(item, end=\" \")"
   ]
  },
  {
   "cell_type": "markdown",
   "metadata": {},
   "source": [
    "#### Infinite Interator - Doesn't End"
   ]
  },
  {
   "cell_type": "code",
   "execution_count": null,
   "metadata": {},
   "outputs": [
    {
     "name": "stdout",
     "output_type": "stream",
     "text": [
      "100\n",
      "101\n",
      "102\n"
     ]
    }
   ],
   "source": [
    "from itertools import count\n",
    "inf_iterator = count(100)\n",
    "\n",
    "print(next(inf_iterator))\n",
    "print(next(inf_iterator))\n",
    "print(next(inf_iterator))"
   ]
  },
  {
   "cell_type": "markdown",
   "metadata": {},
   "source": [
    "#### Custom Iterator\n",
    "Custom iterator is a class that defines the iterator. It contains __iter__() and __next__()"
   ]
  },
  {
   "cell_type": "code",
   "execution_count": 41,
   "metadata": {},
   "outputs": [],
   "source": [
    "class Squares:\n",
    "    def __init__(self, length):\n",
    "        self.length = length\n",
    "        self.current = 1\n",
    "\n",
    "    def __iter__(self):\n",
    "        return self\n",
    "\n",
    "    def __next__(self):\n",
    "        if self.current > self.length:\n",
    "            raise StopIteration\n",
    "        \n",
    "        result = self.current ** 2\n",
    "        self.current += 1\n",
    "\n",
    "        return result"
   ]
  },
  {
   "cell_type": "code",
   "execution_count": 50,
   "metadata": {},
   "outputs": [
    {
     "name": "stdout",
     "output_type": "stream",
     "text": [
      "1\n",
      "4\n"
     ]
    },
    {
     "ename": "StopIteration",
     "evalue": "",
     "output_type": "error",
     "traceback": [
      "\u001b[1;31m---------------------------------------------------------------------------\u001b[0m",
      "\u001b[1;31mStopIteration\u001b[0m                             Traceback (most recent call last)",
      "Cell \u001b[1;32mIn[50], line 4\u001b[0m\n\u001b[0;32m      2\u001b[0m \u001b[38;5;28mprint\u001b[39m(\u001b[38;5;28mnext\u001b[39m(itr))\n\u001b[0;32m      3\u001b[0m \u001b[38;5;28mprint\u001b[39m(\u001b[38;5;28mnext\u001b[39m(itr))\n\u001b[1;32m----> 4\u001b[0m \u001b[38;5;28mprint\u001b[39m(\u001b[38;5;28;43mnext\u001b[39;49m\u001b[43m(\u001b[49m\u001b[43mitr\u001b[49m\u001b[43m)\u001b[49m)\n",
      "Cell \u001b[1;32mIn[41], line 11\u001b[0m, in \u001b[0;36mSquares.__next__\u001b[1;34m(self)\u001b[0m\n\u001b[0;32m      9\u001b[0m \u001b[38;5;28;01mdef\u001b[39;00m \u001b[38;5;21m__next__\u001b[39m(\u001b[38;5;28mself\u001b[39m):\n\u001b[0;32m     10\u001b[0m     \u001b[38;5;28;01mif\u001b[39;00m \u001b[38;5;28mself\u001b[39m\u001b[38;5;241m.\u001b[39mcurrent \u001b[38;5;241m>\u001b[39m \u001b[38;5;28mself\u001b[39m\u001b[38;5;241m.\u001b[39mlength:\n\u001b[1;32m---> 11\u001b[0m         \u001b[38;5;28;01mraise\u001b[39;00m \u001b[38;5;167;01mStopIteration\u001b[39;00m\n\u001b[0;32m     13\u001b[0m     result \u001b[38;5;241m=\u001b[39m \u001b[38;5;28mself\u001b[39m\u001b[38;5;241m.\u001b[39mcurrent \u001b[38;5;241m*\u001b[39m\u001b[38;5;241m*\u001b[39m \u001b[38;5;241m2\u001b[39m\n\u001b[0;32m     14\u001b[0m     \u001b[38;5;28mself\u001b[39m\u001b[38;5;241m.\u001b[39mcurrent \u001b[38;5;241m+\u001b[39m\u001b[38;5;241m=\u001b[39m \u001b[38;5;241m1\u001b[39m\n",
      "\u001b[1;31mStopIteration\u001b[0m: "
     ]
    }
   ],
   "source": [
    "itr = Squares(2)\n",
    "print(next(itr))\n",
    "print(next(itr))\n",
    "print(next(itr))"
   ]
  },
  {
   "cell_type": "code",
   "execution_count": 43,
   "metadata": {},
   "outputs": [
    {
     "name": "stdout",
     "output_type": "stream",
     "text": [
      "1 4 9 16 25 "
     ]
    }
   ],
   "source": [
    "sq = Squares(5)\n",
    "for num in sq:\n",
    "    print(num, end=\" \")"
   ]
  },
  {
   "cell_type": "markdown",
   "metadata": {},
   "source": [
    "### Generators\n",
    "1. Generators are used to pause/resume the execution of a program or function.\n",
    "2. A generator function contains atleast one \"__yeild__\" statement and it returns a generator object which is an iterator.\n",
    "3. next() can be used resume until next point (yeild statement)."
   ]
  },
  {
   "cell_type": "code",
   "execution_count": 28,
   "metadata": {},
   "outputs": [],
   "source": [
    "def greeting():\n",
    "    print(\"Hi\")\n",
    "    yield 1\n",
    "    print(\"How are you?\")\n",
    "    yield 2\n",
    "    print(\"Thank you!!\")\n",
    "    yield 3"
   ]
  },
  {
   "cell_type": "code",
   "execution_count": 36,
   "metadata": {},
   "outputs": [],
   "source": [
    "res = greeting()"
   ]
  },
  {
   "cell_type": "code",
   "execution_count": 37,
   "metadata": {},
   "outputs": [
    {
     "name": "stdout",
     "output_type": "stream",
     "text": [
      "Hi\n"
     ]
    },
    {
     "data": {
      "text/plain": [
       "1"
      ]
     },
     "execution_count": 37,
     "metadata": {},
     "output_type": "execute_result"
    }
   ],
   "source": [
    "next(res)"
   ]
  },
  {
   "cell_type": "code",
   "execution_count": 38,
   "metadata": {},
   "outputs": [
    {
     "name": "stdout",
     "output_type": "stream",
     "text": [
      "How are you?\n",
      "Thank you!!\n"
     ]
    },
    {
     "data": {
      "text/plain": [
       "3"
      ]
     },
     "execution_count": 38,
     "metadata": {},
     "output_type": "execute_result"
    }
   ],
   "source": [
    "next(res)\n",
    "next(res)"
   ]
  },
  {
   "cell_type": "code",
   "execution_count": 39,
   "metadata": {},
   "outputs": [
    {
     "ename": "StopIteration",
     "evalue": "",
     "output_type": "error",
     "traceback": [
      "\u001b[1;31m---------------------------------------------------------------------------\u001b[0m",
      "\u001b[1;31mStopIteration\u001b[0m                             Traceback (most recent call last)",
      "Cell \u001b[1;32mIn[39], line 1\u001b[0m\n\u001b[1;32m----> 1\u001b[0m \u001b[38;5;28;43mnext\u001b[39;49m\u001b[43m(\u001b[49m\u001b[43mres\u001b[49m\u001b[43m)\u001b[49m\n",
      "\u001b[1;31mStopIteration\u001b[0m: "
     ]
    }
   ],
   "source": [
    "next(res)"
   ]
  },
  {
   "cell_type": "markdown",
   "metadata": {},
   "source": [
    "#### Custom iterators using generators"
   ]
  },
  {
   "cell_type": "code",
   "execution_count": 53,
   "metadata": {},
   "outputs": [],
   "source": [
    "def Squares(length):\n",
    "    for curr in range(1, length+1):\n",
    "        yield curr ** 2"
   ]
  },
  {
   "cell_type": "code",
   "execution_count": 55,
   "metadata": {},
   "outputs": [
    {
     "name": "stdout",
     "output_type": "stream",
     "text": [
      "1\n",
      "4\n"
     ]
    },
    {
     "ename": "StopIteration",
     "evalue": "",
     "output_type": "error",
     "traceback": [
      "\u001b[1;31m---------------------------------------------------------------------------\u001b[0m",
      "\u001b[1;31mStopIteration\u001b[0m                             Traceback (most recent call last)",
      "Cell \u001b[1;32mIn[55], line 4\u001b[0m\n\u001b[0;32m      2\u001b[0m \u001b[38;5;28mprint\u001b[39m(\u001b[38;5;28mnext\u001b[39m(itr))\n\u001b[0;32m      3\u001b[0m \u001b[38;5;28mprint\u001b[39m(\u001b[38;5;28mnext\u001b[39m(itr))\n\u001b[1;32m----> 4\u001b[0m \u001b[38;5;28mprint\u001b[39m(\u001b[38;5;28;43mnext\u001b[39;49m\u001b[43m(\u001b[49m\u001b[43mitr\u001b[49m\u001b[43m)\u001b[49m)\n",
      "\u001b[1;31mStopIteration\u001b[0m: "
     ]
    }
   ],
   "source": [
    "itr = Squares(2)\n",
    "print(next(itr))\n",
    "print(next(itr))\n",
    "print(next(itr))"
   ]
  },
  {
   "cell_type": "code",
   "execution_count": 54,
   "metadata": {},
   "outputs": [
    {
     "name": "stdout",
     "output_type": "stream",
     "text": [
      "1 4 9 16 25 "
     ]
    }
   ],
   "source": [
    "sq = Squares(5)\n",
    "for num in sq:\n",
    "    print(num, end=\" \")"
   ]
  },
  {
   "cell_type": "markdown",
   "metadata": {},
   "source": [
    "### Generator Expressions\n",
    "A expression that return a generator object. It is enclosed by () instead of []"
   ]
  },
  {
   "cell_type": "code",
   "execution_count": 57,
   "metadata": {},
   "outputs": [],
   "source": [
    "squares = (i*i for i in range(5))"
   ]
  },
  {
   "cell_type": "code",
   "execution_count": 58,
   "metadata": {},
   "outputs": [
    {
     "name": "stdout",
     "output_type": "stream",
     "text": [
      "0 1 4 9 16 "
     ]
    }
   ],
   "source": [
    "for num in squares:\n",
    "    print(num, end = \" \")"
   ]
  },
  {
   "cell_type": "markdown",
   "metadata": {},
   "source": [
    "#### List Comprehension vs Generator Expression\n",
    "1. List comprehension uses square branckets [] while Generator expression uses paranthesis ().\n",
    "2. List comprehension return the entire list and loads in the memory while Generator expression return single element at first.\n",
    "3. List comprehension return __iterable__ while Generator expression return __iterator__."
   ]
  },
  {
   "cell_type": "markdown",
   "metadata": {},
   "source": [
    "### Exception Handling"
   ]
  },
  {
   "cell_type": "code",
   "execution_count": null,
   "metadata": {},
   "outputs": [
    {
     "name": "stdout",
     "output_type": "stream",
     "text": [
      "Can't be divided by Zero, Msg: division by zero\n",
      "Process Completed\n"
     ]
    }
   ],
   "source": [
    "a, b = map(int, input(\"Enter two nums: \").split())\n",
    "items = [12, 13, 14, 15]\n",
    "\n",
    "try:\n",
    "    print(\"a/b: \", (a / b))\n",
    "    #print(items[21])\n",
    "except(IndexError):\n",
    "    print(\"Index out of bounds\")\n",
    "except ZeroDivisionError as e:\n",
    "    print(\"Can't be divided by Zero, Msg:\", e)\n",
    "except Exception as e:\n",
    "    print(\"Global Exception Handler, Msg:\", e)\n",
    "finally:\n",
    "    print(\"Process Completed\")\n"
   ]
  },
  {
   "cell_type": "markdown",
   "metadata": {},
   "source": [
    "#### Raise Exception"
   ]
  },
  {
   "cell_type": "code",
   "execution_count": null,
   "metadata": {},
   "outputs": [
    {
     "name": "stdout",
     "output_type": "stream",
     "text": [
      "You're not eligible to vote\n"
     ]
    }
   ],
   "source": [
    "def isEligibleToVote(age):\n",
    "    if age < 18:\n",
    "        raise ValueError(\"You're not eligible to vote\")\n",
    "    else:\n",
    "        return True\n",
    "\n",
    "try:\n",
    "    age = int(input(\"Enter your age in years: \"))\n",
    "    if isEligibleToVote(age):\n",
    "        print(\"You're eligible to vote\")\n",
    "except ValueError as ve:\n",
    "    print(ve)"
   ]
  },
  {
   "cell_type": "markdown",
   "metadata": {},
   "source": [
    "#### Custom Exception"
   ]
  },
  {
   "cell_type": "code",
   "execution_count": 19,
   "metadata": {},
   "outputs": [],
   "source": [
    "class INVALID_INPUT_EX(Exception):\n",
    "    def __init__(self, msg) -> None:\n",
    "        super().__init__(msg)\n",
    "        self.msg = msg"
   ]
  },
  {
   "cell_type": "code",
   "execution_count": 21,
   "metadata": {},
   "outputs": [
    {
     "ename": "INVALID_INPUT_EX",
     "evalue": "The input is invalid",
     "output_type": "error",
     "traceback": [
      "\u001b[1;31m---------------------------------------------------------------------------\u001b[0m",
      "\u001b[1;31mINVALID_INPUT_EX\u001b[0m                          Traceback (most recent call last)",
      "Cell \u001b[1;32mIn[21], line 4\u001b[0m\n\u001b[0;32m      1\u001b[0m num \u001b[38;5;241m=\u001b[39m \u001b[38;5;28mint\u001b[39m(\u001b[38;5;28minput\u001b[39m(\u001b[38;5;124m\"\u001b[39m\u001b[38;5;124mEnter a number greater than 0\u001b[39m\u001b[38;5;124m\"\u001b[39m))\n\u001b[0;32m      3\u001b[0m \u001b[38;5;28;01mif\u001b[39;00m num \u001b[38;5;241m<\u001b[39m\u001b[38;5;241m=\u001b[39m \u001b[38;5;241m0\u001b[39m:\n\u001b[1;32m----> 4\u001b[0m     \u001b[38;5;28;01mraise\u001b[39;00m INVALID_INPUT_EX(\u001b[38;5;124m\"\u001b[39m\u001b[38;5;124mThe input is invalid\u001b[39m\u001b[38;5;124m\"\u001b[39m)\n\u001b[0;32m      5\u001b[0m \u001b[38;5;28mprint\u001b[39m(num)\n",
      "\u001b[1;31mINVALID_INPUT_EX\u001b[0m: The input is invalid"
     ]
    }
   ],
   "source": [
    "num = int(input(\"Enter a number greater than 0\"))\n",
    "\n",
    "if num <= 0:\n",
    "    raise INVALID_INPUT_EX(\"The input is invalid\")\n",
    "print(num)"
   ]
  },
  {
   "cell_type": "markdown",
   "metadata": {},
   "source": [
    "### Concurrent Programming"
   ]
  },
  {
   "cell_type": "markdown",
   "metadata": {},
   "source": [
    "#### Multithreading"
   ]
  },
  {
   "cell_type": "code",
   "execution_count": 1,
   "metadata": {},
   "outputs": [],
   "source": [
    "import time\n",
    "import threading\n",
    "import os"
   ]
  },
  {
   "cell_type": "code",
   "execution_count": 2,
   "metadata": {},
   "outputs": [],
   "source": [
    "def task1(msg):\n",
    "    time.sleep(3)\n",
    "    print(msg)\n",
    "    print(\"Thread - Name: \", threading.current_thread().name)\n",
    "    print(\"Thread - Process Id: \", os.getpid())\n",
    "\n",
    "def task2(msg):\n",
    "    time.sleep(1)\n",
    "    print(msg)\n",
    "    print(\"Thread - Name: \", threading.current_thread().name)\n",
    "    print(\"Thread - Process Id: \", os.getpid())"
   ]
  },
  {
   "cell_type": "code",
   "execution_count": 3,
   "metadata": {},
   "outputs": [
    {
     "name": "stdout",
     "output_type": "stream",
     "text": [
      "Task 2\n",
      "Thread - Name:  T2\n",
      "Thread - Process Id:  20368\n",
      "Task 1\n",
      "Thread - Name:  T1\n",
      "Thread - Process Id:  20368\n",
      "Main Thread - Name:  MainThread\n",
      "Main Thread - Process Id:  20368\n"
     ]
    }
   ],
   "source": [
    "t1 = threading.Thread(target=task1, args=((\"Task 1\",)), name=\"T1\")\n",
    "t2 = threading.Thread(target=task2, args=((\"Task 2\",)), name=\"T2\")\n",
    "\n",
    "t1.start()\n",
    "t2.start()\n",
    "\n",
    "t1.join()\n",
    "t2.join()\n",
    "\n",
    "print(\"Main Thread - Name: \", threading.main_thread().name)\n",
    "print(\"Main Thread - Process Id: \", os.getpid())"
   ]
  },
  {
   "cell_type": "markdown",
   "metadata": {},
   "source": [
    "#### Importing Thread Class"
   ]
  },
  {
   "cell_type": "code",
   "execution_count": null,
   "metadata": {},
   "outputs": [],
   "source": [
    "class A(threading.Thread):\n",
    "    def run(self):\n",
    "        for i in range(0, 5):\n",
    "            print(\"ThreadA\" + str(i + 1))\n",
    "            time.sleep(1)\n",
    "\n",
    "class B(threading.Thread):\n",
    "    def run(self):\n",
    "        for i in range(0, 5):\n",
    "            print(\"ThreadB\" + str(i + 1))\n",
    "            time.sleep(0.5)"
   ]
  },
  {
   "cell_type": "code",
   "execution_count": null,
   "metadata": {},
   "outputs": [
    {
     "name": "stdout",
     "output_type": "stream",
     "text": [
      "ThreadA1\n",
      "ThreadB1\n",
      "ThreadA2\n",
      "ThreadB2\n",
      "ThreadB3\n",
      "ThreadA3\n",
      "ThreadB4\n",
      "ThreadB5\n",
      "ThreadA4\n",
      "ThreadA5\n",
      "Main Thread: Threads A and B completed\n"
     ]
    }
   ],
   "source": [
    "obA = A()\n",
    "obB = B()\n",
    "\n",
    "obA.start()\n",
    "time.sleep(0.5)\n",
    "obB.start()\n",
    "\n",
    "obA.join()\n",
    "obB.join()\n",
    "\n",
    "print(\"Main Thread: Threads A and B completed\")"
   ]
  },
  {
   "cell_type": "code",
   "execution_count": null,
   "metadata": {},
   "outputs": [],
   "source": []
  }
 ],
 "metadata": {
  "kernelspec": {
   "display_name": "Python 3",
   "language": "python",
   "name": "python3"
  },
  "language_info": {
   "codemirror_mode": {
    "name": "ipython",
    "version": 3
   },
   "file_extension": ".py",
   "mimetype": "text/x-python",
   "name": "python",
   "nbconvert_exporter": "python",
   "pygments_lexer": "ipython3",
   "version": "3.10.11"
  }
 },
 "nbformat": 4,
 "nbformat_minor": 2
}
