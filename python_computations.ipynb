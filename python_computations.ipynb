{
 "cells": [
  {
   "cell_type": "markdown",
   "metadata": {},
   "source": [
    "# Scientific Computations and Data Transformations with Python"
   ]
  },
  {
   "cell_type": "markdown",
   "metadata": {},
   "source": [
    "### Math"
   ]
  },
  {
   "cell_type": "code",
   "execution_count": 10,
   "metadata": {},
   "outputs": [],
   "source": [
    "import math"
   ]
  },
  {
   "cell_type": "code",
   "execution_count": 11,
   "metadata": {},
   "outputs": [
    {
     "name": "stdout",
     "output_type": "stream",
     "text": [
      "49.0\n",
      "49\n",
      "8.0\n"
     ]
    }
   ],
   "source": [
    "print(math.pow(7, 2))\n",
    "print(7 ** 2)\n",
    "\n",
    "print(math.sqrt(64))"
   ]
  },
  {
   "cell_type": "code",
   "execution_count": 12,
   "metadata": {},
   "outputs": [
    {
     "name": "stdout",
     "output_type": "stream",
     "text": [
      "25\n",
      "24\n",
      "28\n",
      "29\n"
     ]
    }
   ],
   "source": [
    "print(round(24.63))\n",
    "print(round(24.47))\n",
    "\n",
    "print(math.floor(28.73))\n",
    "print(math.ceil(28.36))"
   ]
  },
  {
   "cell_type": "code",
   "execution_count": 13,
   "metadata": {},
   "outputs": [
    {
     "name": "stdout",
     "output_type": "stream",
     "text": [
      "7.38905609893065\n",
      "3.141592653589793\n"
     ]
    }
   ],
   "source": [
    "print(math.exp(2))\n",
    "print(math.pi)"
   ]
  },
  {
   "cell_type": "code",
   "execution_count": 15,
   "metadata": {},
   "outputs": [
    {
     "name": "stdout",
     "output_type": "stream",
     "text": [
      "120\n"
     ]
    }
   ],
   "source": [
    "print(math.factorial(5))"
   ]
  },
  {
   "cell_type": "markdown",
   "metadata": {},
   "source": [
    "### Time"
   ]
  },
  {
   "cell_type": "code",
   "execution_count": 19,
   "metadata": {},
   "outputs": [],
   "source": [
    "import time"
   ]
  },
  {
   "cell_type": "code",
   "execution_count": 23,
   "metadata": {},
   "outputs": [
    {
     "name": "stdout",
     "output_type": "stream",
     "text": [
      "Mon Mar 11 09:49:05 2024\n"
     ]
    }
   ],
   "source": [
    "curr_date_time = time.ctime()\n",
    "print(curr_date_time)"
   ]
  },
  {
   "cell_type": "code",
   "execution_count": 36,
   "metadata": {},
   "outputs": [
    {
     "name": "stdout",
     "output_type": "stream",
     "text": [
      "time.struct_time(tm_year=2024, tm_mon=3, tm_mday=11, tm_hour=4, tm_min=25, tm_sec=24, tm_wday=0, tm_yday=71, tm_isdst=0)\n",
      "2024\n",
      "UTC\n"
     ]
    }
   ],
   "source": [
    "print(time.gmtime()) #GMT Time\n",
    "\n",
    "print(time.gmtime().tm_year)\n",
    "print(time.gmtime().tm_zone)"
   ]
  },
  {
   "cell_type": "code",
   "execution_count": 32,
   "metadata": {},
   "outputs": [
    {
     "name": "stdout",
     "output_type": "stream",
     "text": [
      "Count: 1\n",
      "Count: 2\n",
      "Count: 3\n"
     ]
    }
   ],
   "source": [
    "for count in range(3):\n",
    "    print(f\"Count: {count + 1}\")\n",
    "    time.sleep(2)"
   ]
  },
  {
   "cell_type": "code",
   "execution_count": 38,
   "metadata": {},
   "outputs": [
    {
     "name": "stdout",
     "output_type": "stream",
     "text": [
      "3\n",
      "11\n",
      "9\n",
      "57\n"
     ]
    }
   ],
   "source": [
    "curr_local_time = time.localtime()\n",
    "\n",
    "print(curr_local_time.tm_mon)\n",
    "print(curr_local_time.tm_mday)\n",
    "\n",
    "print(curr_local_time.tm_hour)\n",
    "print(curr_local_time.tm_min)\n"
   ]
  },
  {
   "cell_type": "code",
   "execution_count": 42,
   "metadata": {},
   "outputs": [
    {
     "name": "stdout",
     "output_type": "stream",
     "text": [
      "<class 'str'>\n"
     ]
    }
   ],
   "source": [
    "print(type(curr_date_time))"
   ]
  },
  {
   "cell_type": "markdown",
   "metadata": {},
   "source": [
    "#### strftime -> Converts Time Struct to String"
   ]
  },
  {
   "cell_type": "code",
   "execution_count": 54,
   "metadata": {},
   "outputs": [
    {
     "name": "stdout",
     "output_type": "stream",
     "text": [
      "2024-03-11 10:19:49\n"
     ]
    }
   ],
   "source": [
    "date_time = time.localtime()\n",
    "date_time_str = time.strftime(\"%Y-%m-%d %H:%M:%S\", date_time)\n",
    "\n",
    "print(date_time_str)"
   ]
  },
  {
   "cell_type": "markdown",
   "metadata": {},
   "source": [
    "#### strptime -> Converts String to Time Struct"
   ]
  },
  {
   "cell_type": "code",
   "execution_count": 57,
   "metadata": {},
   "outputs": [
    {
     "name": "stdout",
     "output_type": "stream",
     "text": [
      "time.struct_time(tm_year=2024, tm_mon=3, tm_mday=11, tm_hour=11, tm_min=30, tm_sec=0, tm_wday=0, tm_yday=71, tm_isdst=-1)\n"
     ]
    }
   ],
   "source": [
    "date_time_str = \"2024-03-11 11:30:00\"\n",
    "date_time = time.strptime(date_time_str, \"%Y-%m-%d %H:%M:%S\")\n",
    "print(date_time)"
   ]
  },
  {
   "cell_type": "markdown",
   "metadata": {},
   "source": [
    "### Regular Expression Matching (Regex)"
   ]
  },
  {
   "cell_type": "code",
   "execution_count": 1,
   "metadata": {},
   "outputs": [],
   "source": [
    "import re"
   ]
  },
  {
   "cell_type": "code",
   "execution_count": 2,
   "metadata": {},
   "outputs": [
    {
     "data": {
      "text/plain": [
       "<re.Match object; span=(7, 11), match='Warm'>"
      ]
     },
     "execution_count": 2,
     "metadata": {},
     "output_type": "execute_result"
    }
   ],
   "source": [
    "pattern = re.compile(\"Warm\")\n",
    "pattern.search(\"Global Warming\")"
   ]
  },
  {
   "cell_type": "code",
   "execution_count": 77,
   "metadata": {},
   "outputs": [
    {
     "name": "stdout",
     "output_type": "stream",
     "text": [
      "<re.Match object; span=(4, 6), match='al'>\n",
      "al\n"
     ]
    }
   ],
   "source": [
    "ob = re.search(\"al\", \"Global Warming\")\n",
    "print(ob)\n",
    "print(ob.group())"
   ]
  },
  {
   "cell_type": "code",
   "execution_count": 6,
   "metadata": {},
   "outputs": [
    {
     "data": {
      "text/plain": [
       "['ing', 'ing']"
      ]
     },
     "execution_count": 6,
     "metadata": {},
     "output_type": "execute_result"
    }
   ],
   "source": [
    "re.findall(\"ing\", \"Global Warming is a concerning issue\")"
   ]
  },
  {
   "cell_type": "code",
   "execution_count": 87,
   "metadata": {},
   "outputs": [
    {
     "name": "stdout",
     "output_type": "stream",
     "text": [
      "True\n",
      "True\n",
      "True\n",
      "False\n"
     ]
    }
   ],
   "source": [
    "print(re.search(\".*\", \"Digital @ 79 Era\") is not None)\n",
    "print(re.search(\".+\", \"Digital @ 79 Era\") is not None)\n",
    "\n",
    "print(re.search(\"Z*\", \"Digital @ 79 Era\") is not None)\n",
    "print(re.search(\"Z+\", \"Digital @ 79 Era\") is not None)"
   ]
  },
  {
   "cell_type": "code",
   "execution_count": 82,
   "metadata": {},
   "outputs": [
    {
     "name": "stdout",
     "output_type": "stream",
     "text": [
      "True\n",
      "True\n",
      "False\n",
      "True\n",
      "False\n"
     ]
    }
   ],
   "source": [
    "print(re.search(\"^D\", \"Digital @ 79 Era\") is not None)\n",
    "print(re.search(\"^[A-Za-z]\", \"Digital @ 79 Era\") is not None)\n",
    "print(re.search(\"^[A-C]\", \"Digital @ 79 Era\") is not None)\n",
    "\n",
    "print(re.search(\"a$\", \"Digital @ 79 Era\") is not None)\n",
    "print(re.search(\"[b-e]$\", \"Digital @ 79 Era\") is not None)"
   ]
  },
  {
   "cell_type": "code",
   "execution_count": 213,
   "metadata": {},
   "outputs": [
    {
     "name": "stdout",
     "output_type": "stream",
     "text": [
      "True\n",
      "False\n"
     ]
    }
   ],
   "source": [
    "print(re.search(\"[0-9]\", \"Digital @ 79 Era\") is not None)\n",
    "print(re.search(\"[0-5]\", \"Digital @ 79 Era\") is not None)"
   ]
  },
  {
   "cell_type": "code",
   "execution_count": 214,
   "metadata": {},
   "outputs": [
    {
     "name": "stdout",
     "output_type": "stream",
     "text": [
      "True\n",
      "True\n",
      "True\n",
      "True\n",
      "False\n"
     ]
    }
   ],
   "source": [
    "print(re.search(\"@+\", \"Digital @ 79 Era\") is not None)\n",
    "\n",
    "print(re.search(\"\\$+\", \"Digital $ 79 Era\") is not None)\n",
    "print(re.search(\"\\^+\", \"Digital ^ 79 Era\") is not None)\n",
    "print(re.search(rf\"\\\\+\", \"Digital \\ 79 Era\") is not None)\n",
    "\n",
    "print(re.search(\"\\ +\", \"Digital79Era\") is not None)\n"
   ]
  },
  {
   "cell_type": "code",
   "execution_count": 146,
   "metadata": {},
   "outputs": [
    {
     "name": "stdout",
     "output_type": "stream",
     "text": [
      "['A']\n",
      "['I', 'N', 'D', 'I']\n",
      "[]\n"
     ]
    }
   ],
   "source": [
    "print(re.findall(\"[ABC]\", \"INDIA\"))\n",
    "print(re.findall(\"[^ABC]\", \"INDIA\"))\n",
    "print(re.findall(\"[XYZ]\", \"INDIA\"))"
   ]
  },
  {
   "cell_type": "code",
   "execution_count": 219,
   "metadata": {},
   "outputs": [
    {
     "name": "stdout",
     "output_type": "stream",
     "text": [
      "False\n",
      "True\n",
      "True\n",
      "False\n",
      "True\n",
      "False\n",
      "True\n"
     ]
    }
   ],
   "source": [
    "print(re.search(\"\\d\", \"ABCDE\") is not None)\n",
    "print(re.search(\"\\d\", \"ABCDE457\") is not None)\n",
    "\n",
    "print(re.search(\"\\D\", \"ABCDE\") is not None)\n",
    "print(re.search(\"\\D\", \"457\") is not None)\n",
    "\n",
    "print(re.search(\"\\w\", \"ABCDE457\") is not None)\n",
    "print(re.search(\"\\w\", \"#@ *^$\") is not None)\n",
    "\n",
    "print(re.search(\"\\W\", \"#@ *^$\") is not None)"
   ]
  },
  {
   "cell_type": "code",
   "execution_count": 179,
   "metadata": {},
   "outputs": [
    {
     "name": "stdout",
     "output_type": "stream",
     "text": [
      "True\n",
      "False\n",
      "True\n",
      "False\n",
      "True\n",
      "True\n",
      "False\n"
     ]
    }
   ],
   "source": [
    "print(re.search(\"A{1}\", \"AAABCD\") is not None)\n",
    "print(re.search(\"A{4}\", \"AAABCD\") is not None)\n",
    "print(re.search(\"A{1,3}\", \"AAABCD\") is not None)\n",
    "print(re.search(\"A{4,10}\", \"AAABCD\") is not None)\n",
    "print(re.search(\"A{3,}\", \"AAABCD\") is not None)\n",
    "\n",
    "print(re.search(\"[ABC]{1}\", \"INDIA\") is not None)\n",
    "print(re.search(\"[ABC]{1}\", \"EGYPT\") is not None)"
   ]
  },
  {
   "cell_type": "markdown",
   "metadata": {},
   "source": [
    "### JSON Data Manipulation"
   ]
  },
  {
   "cell_type": "code",
   "execution_count": 224,
   "metadata": {},
   "outputs": [],
   "source": [
    "import json"
   ]
  },
  {
   "cell_type": "code",
   "execution_count": 238,
   "metadata": {},
   "outputs": [],
   "source": [
    "customers_str = '{\"id\": \"101\",\"name\": \"Paul Brandon\",\"age\": \"35\",\"active\": \"Yes\"}'"
   ]
  },
  {
   "cell_type": "code",
   "execution_count": 242,
   "metadata": {},
   "outputs": [
    {
     "name": "stdout",
     "output_type": "stream",
     "text": [
      "{'id': '101', 'name': 'Paul Brandon', 'age': '35', 'active': 'Yes'}\n",
      "<class 'dict'>\n"
     ]
    }
   ],
   "source": [
    "customers_json_ob = json.loads(customers_str)\n",
    "print(customers_json_ob)\n",
    "print(type(customers_json_ob))"
   ]
  },
  {
   "cell_type": "code",
   "execution_count": 243,
   "metadata": {},
   "outputs": [
    {
     "data": {
      "text/plain": [
       "'Paul Brandon'"
      ]
     },
     "execution_count": 243,
     "metadata": {},
     "output_type": "execute_result"
    }
   ],
   "source": [
    "customers_json_ob[\"name\"]"
   ]
  },
  {
   "cell_type": "code",
   "execution_count": 244,
   "metadata": {},
   "outputs": [
    {
     "data": {
      "text/plain": [
       "'{\"id\": \"101\", \"name\": \"Paul Brandon\", \"age\": \"35\", \"active\": \"Yes\"}'"
      ]
     },
     "execution_count": 244,
     "metadata": {},
     "output_type": "execute_result"
    }
   ],
   "source": [
    "customer_res_str = json.dumps(customers_json_ob)\n",
    "customer_res_str"
   ]
  },
  {
   "cell_type": "code",
   "execution_count": 245,
   "metadata": {},
   "outputs": [],
   "source": [
    "cust_dict = {\n",
    "  \"name\": \"John\",\n",
    "  \"age\": 30,\n",
    "  \"married\": True,\n",
    "  \"divorced\": False,\n",
    "  \"children\": (\"Ann\",\"Billy\"),\n",
    "  \"pets\": None,\n",
    "  \"cars\": [\n",
    "    {\"model\": \"BMW 230\", \"mpg\": 27.5},\n",
    "    {\"model\": \"Ford Edge\", \"mpg\": 24.1}\n",
    "  ]\n",
    "}\n",
    "\n",
    "cust_str = json.dumps(cust_dict)"
   ]
  },
  {
   "cell_type": "code",
   "execution_count": 246,
   "metadata": {},
   "outputs": [
    {
     "data": {
      "text/plain": [
       "'{\"name\": \"John\", \"age\": 30, \"married\": true, \"divorced\": false, \"children\": [\"Ann\", \"Billy\"], \"pets\": null, \"cars\": [{\"model\": \"BMW 230\", \"mpg\": 27.5}, {\"model\": \"Ford Edge\", \"mpg\": 24.1}]}'"
      ]
     },
     "execution_count": 246,
     "metadata": {},
     "output_type": "execute_result"
    }
   ],
   "source": [
    "cust_str"
   ]
  },
  {
   "cell_type": "markdown",
   "metadata": {},
   "source": [
    "### Numpy\n",
    "\n",
    "1. Numpy is core library used for scientific and numerical computing.\n",
    "2. It provided high performance multi-dimensional arrays.\n",
    "3. It is fast, conventional(lot of functions) and consumes less memory.\n"
   ]
  },
  {
   "cell_type": "code",
   "execution_count": 109,
   "metadata": {},
   "outputs": [],
   "source": [
    "import numpy as np"
   ]
  },
  {
   "cell_type": "code",
   "execution_count": 110,
   "metadata": {},
   "outputs": [
    {
     "name": "stdout",
     "output_type": "stream",
     "text": [
      "[[1 2 3]\n",
      " [4 5 6]\n",
      " [1 4 6]\n",
      " [7 3 6]]\n"
     ]
    }
   ],
   "source": [
    "items = np.array([(1,2,3),(4,5,6),(1,4,6),(7,3,6)], dtype=int)\n",
    "print(items)"
   ]
  },
  {
   "cell_type": "code",
   "execution_count": 111,
   "metadata": {},
   "outputs": [
    {
     "name": "stdout",
     "output_type": "stream",
     "text": [
      "[[0 0 0 0]\n",
      " [0 0 0 0]\n",
      " [0 0 0 0]]\n",
      "[[1. 1. 1. 1.]\n",
      " [1. 1. 1. 1.]\n",
      " [1. 1. 1. 1.]]\n"
     ]
    }
   ],
   "source": [
    "zeros = np.zeros((3,4), dtype=int)\n",
    "print(zeros)\n",
    "\n",
    "ones = np.ones((3,4), dtype=float)\n",
    "print(ones)"
   ]
  },
  {
   "cell_type": "code",
   "execution_count": 112,
   "metadata": {},
   "outputs": [
    {
     "name": "stdout",
     "output_type": "stream",
     "text": [
      "[ 5  7  9 11]\n",
      "[0.   0.25 0.5  0.75 1.   1.25 1.5  1.75 2.  ]\n"
     ]
    }
   ],
   "source": [
    "ar_range = np.arange(5,12,2)\n",
    "print(ar_range)\n",
    "\n",
    "ar_lin = np.linspace(0,2,9)\n",
    "print(ar_lin)"
   ]
  },
  {
   "cell_type": "code",
   "execution_count": 113,
   "metadata": {},
   "outputs": [
    {
     "name": "stdout",
     "output_type": "stream",
     "text": [
      "[[7 7 7]\n",
      " [7 7 7]]\n",
      "[[1. 0. 0.]\n",
      " [0. 1. 0.]\n",
      " [0. 0. 1.]]\n"
     ]
    }
   ],
   "source": [
    "ar_full = np.full((2,3), 7)\n",
    "print(ar_full)\n",
    "\n",
    "idMat = np.eye(3)\n",
    "print(idMat)"
   ]
  },
  {
   "cell_type": "code",
   "execution_count": 114,
   "metadata": {},
   "outputs": [
    {
     "name": "stdout",
     "output_type": "stream",
     "text": [
      "[[0.55391756 0.76598401 0.82256334 0.56374045]\n",
      " [0.64061322 0.60980195 0.42191012 0.80122747]\n",
      " [0.25741793 0.4955135  0.90357482 0.94895124]]\n",
      "[[2 1 0]\n",
      " [1 3 0]\n",
      " [0 2 1]\n",
      " [1 0 0]\n",
      " [1 3 1]]\n"
     ]
    }
   ],
   "source": [
    "ar_rand = np.random.rand(3,4)\n",
    "print(ar_rand)\n",
    "\n",
    "ar_randint = np.random.randint(4, size=(5,3))\n",
    "print(ar_randint)"
   ]
  },
  {
   "cell_type": "code",
   "execution_count": 118,
   "metadata": {},
   "outputs": [
    {
     "data": {
      "text/plain": [
       "array([[1, 2, 3],\n",
       "       [4, 5, 6],\n",
       "       [1, 4, 6],\n",
       "       [7, 3, 6]])"
      ]
     },
     "execution_count": 118,
     "metadata": {},
     "output_type": "execute_result"
    }
   ],
   "source": [
    "items = np.array([(1,2,3),(4,5,6),(1,4,6),(7,3,6)], dtype=int)\n",
    "items"
   ]
  },
  {
   "cell_type": "code",
   "execution_count": 119,
   "metadata": {},
   "outputs": [
    {
     "name": "stdout",
     "output_type": "stream",
     "text": [
      "1 2 3 4 5 6 1 4 6 7 3 6 \n",
      "1 4 1 7 2 5 4 3 3 6 6 6 \n"
     ]
    }
   ],
   "source": [
    "#Across Row\n",
    "for itr in np.nditer(items, order='C'):\n",
    "    print(itr, end=' ')\n",
    "print()\n",
    "\n",
    "#Across Col\n",
    "for itr in np.nditer(items, order='F'):\n",
    "    print(itr, end=' ')\n",
    "print()"
   ]
  },
  {
   "cell_type": "code",
   "execution_count": 120,
   "metadata": {},
   "outputs": [
    {
     "name": "stdout",
     "output_type": "stream",
     "text": [
      "(4, 3)\n",
      "4\n",
      "2\n",
      "12\n",
      "int32\n",
      "[[1. 2. 3.]\n",
      " [4. 5. 6.]\n",
      " [1. 4. 6.]\n",
      " [7. 3. 6.]]\n"
     ]
    }
   ],
   "source": [
    "print(items.shape) #dimensions (rows,columns)\n",
    "print(len(items)) #No.of.rows\n",
    "print(items.ndim) #dimensions (1D or 2D or any)\n",
    "print(items.size) #tot elements\n",
    "print(items.dtype) #datatype of elements\n",
    "print(items.astype(float))"
   ]
  },
  {
   "cell_type": "markdown",
   "metadata": {},
   "source": [
    "#### Custom Data Types"
   ]
  },
  {
   "cell_type": "code",
   "execution_count": 121,
   "metadata": {},
   "outputs": [
    {
     "data": {
      "text/plain": [
       "array([(b'Paul', 36,  True), (b'Tina', 32,  True), (b'John', 45, False),\n",
       "       (b'Ken', 23,  True)],\n",
       "      dtype=[('Name', 'S10'), ('Age', '<i4'), ('isActive', '?')])"
      ]
     },
     "execution_count": 121,
     "metadata": {},
     "output_type": "execute_result"
    }
   ],
   "source": [
    "customer_dtype = [(\"Name\", \"S10\"), (\"Age\", int), (\"isActive\", bool)]\n",
    "customer_values = [(\"Paul\", 36, True), (\"Tina\", 32, True), (\"John\", 45, False), (\"Ken\", 23, True)]\n",
    "\n",
    "customers_array = np.array(customer_values, dtype=customer_dtype)\n",
    "customers_array"
   ]
  },
  {
   "cell_type": "code",
   "execution_count": 122,
   "metadata": {},
   "outputs": [
    {
     "data": {
      "text/plain": [
       "array([b'Paul', b'Tina', b'John', b'Ken'], dtype='|S10')"
      ]
     },
     "execution_count": 122,
     "metadata": {},
     "output_type": "execute_result"
    }
   ],
   "source": [
    "customers_array[\"Name\"]"
   ]
  },
  {
   "cell_type": "markdown",
   "metadata": {},
   "source": [
    "#### Arthithmetic Operations"
   ]
  },
  {
   "cell_type": "code",
   "execution_count": 123,
   "metadata": {},
   "outputs": [],
   "source": [
    "ar = np.array([(2, 3, 4), (1, 2, 6), (5, 1, 3)], dtype = int)"
   ]
  },
  {
   "cell_type": "code",
   "execution_count": 124,
   "metadata": {},
   "outputs": [
    {
     "name": "stdout",
     "output_type": "stream",
     "text": [
      "[[12 23 34]\n",
      " [11 22 36]\n",
      " [15 21 33]]\n",
      "[[ 1  1  1]\n",
      " [ 0  0  3]\n",
      " [ 4 -1  0]]\n",
      "[[ 2  6 12]\n",
      " [ 1  4 18]\n",
      " [ 5  2  9]]\n",
      "[[1.         1.         1.        ]\n",
      " [0.5        0.66666667 1.5       ]\n",
      " [2.5        0.33333333 0.75      ]]\n"
     ]
    }
   ],
   "source": [
    "print(np.add(ar, [10, 20, 30]))\n",
    "print(np.subtract(ar, [1, 2, 3]))\n",
    "print(np.multiply(ar, [1, 2, 3]))\n",
    "print(np.divide(ar, [2, 3, 4]))"
   ]
  },
  {
   "cell_type": "code",
   "execution_count": 125,
   "metadata": {},
   "outputs": [
    {
     "name": "stdout",
     "output_type": "stream",
     "text": [
      "[[ 5  6 11]\n",
      " [ 9  3  4]]\n",
      "[[ 1  2 -1]\n",
      " [-5 -1  2]]\n",
      "[[ 6  8 30]\n",
      " [14  2  3]]\n",
      "[[1.5        2.         0.83333333]\n",
      " [0.28571429 0.5        3.        ]]\n"
     ]
    }
   ],
   "source": [
    "ar1 = np.array([(3, 4, 5), (2, 1, 3)])\n",
    "ar2 = np.array([(2, 2, 6), (7, 2, 1)])\n",
    "\n",
    "print(ar1 + ar2)\n",
    "print(ar1 - ar2)\n",
    "print(ar1 * ar2)\n",
    "print(ar1 / ar2)\n"
   ]
  },
  {
   "cell_type": "markdown",
   "metadata": {},
   "source": [
    "#### Comparision"
   ]
  },
  {
   "cell_type": "code",
   "execution_count": 126,
   "metadata": {},
   "outputs": [
    {
     "name": "stdout",
     "output_type": "stream",
     "text": [
      "[[False  True]\n",
      " [ True  True]]\n",
      "[[ True  True]\n",
      " [ True  True]]\n",
      "True\n"
     ]
    }
   ],
   "source": [
    "ar1 = np.array([[1,2],[3,4]])\n",
    "ar2 = np.array([[1,2],[3,4]])\n",
    "\n",
    "print(ar1 > 1)\n",
    "print(ar1 == ar2)\n",
    "print(np.array_equal(ar1, ar2))"
   ]
  },
  {
   "cell_type": "markdown",
   "metadata": {},
   "source": [
    "#### Aggregate Functions"
   ]
  },
  {
   "cell_type": "code",
   "execution_count": 127,
   "metadata": {},
   "outputs": [],
   "source": [
    "ar = np.array([(1,2,3),(3,4,5)])"
   ]
  },
  {
   "cell_type": "code",
   "execution_count": 128,
   "metadata": {},
   "outputs": [
    {
     "name": "stdout",
     "output_type": "stream",
     "text": [
      "18\n",
      "[ 6 12]\n",
      "[4 6 8]\n",
      "1 5\n",
      "3.0\n"
     ]
    }
   ],
   "source": [
    "print(ar.sum()) #sum(all elements)\n",
    "print(ar.sum(axis=1)) #sum(each row)\n",
    "print(ar.sum(axis=0)) #sum(each column)\n",
    "print(ar.min(), ar.max())\n",
    "print(ar.mean())"
   ]
  },
  {
   "cell_type": "markdown",
   "metadata": {},
   "source": [
    "#### Array Copying/Cloning"
   ]
  },
  {
   "cell_type": "code",
   "execution_count": 129,
   "metadata": {},
   "outputs": [
    {
     "data": {
      "text/plain": [
       "array([[1, 2, 3],\n",
       "       [3, 4, 5]])"
      ]
     },
     "execution_count": 129,
     "metadata": {},
     "output_type": "execute_result"
    }
   ],
   "source": [
    "ar_view = ar.view()\n",
    "ar_view"
   ]
  },
  {
   "cell_type": "code",
   "execution_count": 130,
   "metadata": {},
   "outputs": [
    {
     "data": {
      "text/plain": [
       "array([[1, 2, 3],\n",
       "       [3, 4, 5]])"
      ]
     },
     "execution_count": 130,
     "metadata": {},
     "output_type": "execute_result"
    }
   ],
   "source": [
    "ar_clone = ar.copy()\n",
    "ar_clone"
   ]
  },
  {
   "cell_type": "markdown",
   "metadata": {},
   "source": [
    "#### Sorting"
   ]
  },
  {
   "cell_type": "code",
   "execution_count": 131,
   "metadata": {},
   "outputs": [
    {
     "name": "stdout",
     "output_type": "stream",
     "text": [
      "[1 2 3 5 6]\n"
     ]
    }
   ],
   "source": [
    "ar = np.array([3,6,2,5,1])\n",
    "\n",
    "print(np.sort(ar))"
   ]
  },
  {
   "cell_type": "code",
   "execution_count": 132,
   "metadata": {},
   "outputs": [
    {
     "name": "stdout",
     "output_type": "stream",
     "text": [
      "Original Array:\n",
      "[[7 6 5]\n",
      " [4 9 8]]\n",
      "Row wise Sorted Array:\n",
      "[[5 6 7]\n",
      " [4 8 9]]\n",
      "Column wise Sorted Array:\n",
      "[[4 6 5]\n",
      " [7 9 8]]\n",
      "Flatened Sorted Array:\n",
      "[4 5 6 7 8 9]\n"
     ]
    }
   ],
   "source": [
    "unordered = np.array([[7,6,5],[4,9,8]])\n",
    "print(\"Original Array:\")\n",
    "print(unordered)\n",
    "\n",
    "print(\"Row wise Sorted Array:\")\n",
    "print(np.sort(unordered, axis=1)) #Across the row\n",
    "\n",
    "print(\"Column wise Sorted Array:\")\n",
    "print(np.sort(unordered, axis=0)) #Across the col\n",
    "\n",
    "print(\"Flatened Sorted Array:\")\n",
    "print(np.sort(unordered, axis=None))"
   ]
  },
  {
   "cell_type": "code",
   "execution_count": 133,
   "metadata": {},
   "outputs": [
    {
     "data": {
      "text/plain": [
       "array([(b'Paul', 36,  True), (b'Tina', 32,  True), (b'John', 45, False),\n",
       "       (b'Ken', 23,  True)],\n",
       "      dtype=[('Name', 'S10'), ('Age', '<i4'), ('isActive', '?')])"
      ]
     },
     "execution_count": 133,
     "metadata": {},
     "output_type": "execute_result"
    }
   ],
   "source": [
    "customers_array"
   ]
  },
  {
   "cell_type": "code",
   "execution_count": 134,
   "metadata": {},
   "outputs": [
    {
     "name": "stdout",
     "output_type": "stream",
     "text": [
      "[(b'Ken', 23,  True) (b'Tina', 32,  True) (b'Paul', 36,  True)\n",
      " (b'John', 45, False)]\n"
     ]
    }
   ],
   "source": [
    "print(np.sort(customers_array, order=\"Age\"))"
   ]
  },
  {
   "cell_type": "markdown",
   "metadata": {},
   "source": [
    "#### Subsetting and Slicing"
   ]
  },
  {
   "cell_type": "code",
   "execution_count": 135,
   "metadata": {},
   "outputs": [
    {
     "name": "stdout",
     "output_type": "stream",
     "text": [
      "4\n"
     ]
    }
   ],
   "source": [
    "items = np.array([[3,4,2],[8,7,9],[4,3,5]])\n",
    "print(items[2][0])"
   ]
  },
  {
   "cell_type": "code",
   "execution_count": 136,
   "metadata": {},
   "outputs": [
    {
     "data": {
      "text/plain": [
       "array([ 4,  6,  8, 10, 12, 14, 16, 18, 20, 22, 24])"
      ]
     },
     "execution_count": 136,
     "metadata": {},
     "output_type": "execute_result"
    }
   ],
   "source": [
    "items = np.arange(4,25,2)\n",
    "items"
   ]
  },
  {
   "cell_type": "code",
   "execution_count": 137,
   "metadata": {},
   "outputs": [
    {
     "name": "stdout",
     "output_type": "stream",
     "text": [
      "[ 4 10 16 22]\n",
      "[ 8 10 12 14 16]\n",
      "[10 14 18]\n",
      "[24 22 20 18 16 14 12 10  8  6  4]\n",
      "[12 14 16 18 20 22 24]\n"
     ]
    }
   ],
   "source": [
    "print(items[::3])\n",
    "print(items[2:7])\n",
    "print(items[3:8:2]) #start, end, steps\n",
    "print(items[::-1])\n",
    "print(items[items>10])"
   ]
  },
  {
   "cell_type": "code",
   "execution_count": 138,
   "metadata": {},
   "outputs": [
    {
     "name": "stdout",
     "output_type": "stream",
     "text": [
      "[[1 1 1 1]\n",
      " [1 1 1 1]\n",
      " [1 1 1 1]\n",
      " [1 1 1 1]]\n",
      "[[1 0 1 0]\n",
      " [1 1 1 1]\n",
      " [1 0 1 0]\n",
      " [1 1 1 1]]\n"
     ]
    }
   ],
   "source": [
    "ar_ones = np.ones((4,4), dtype=int)\n",
    "print(ar_ones)\n",
    "\n",
    "ar_ones[0::2, 1::2] = 0\n",
    "print(ar_ones)"
   ]
  },
  {
   "cell_type": "markdown",
   "metadata": {},
   "source": [
    "### Array Manipulation"
   ]
  },
  {
   "cell_type": "markdown",
   "metadata": {},
   "source": [
    "#### Append, Insert and Delete"
   ]
  },
  {
   "cell_type": "code",
   "execution_count": 152,
   "metadata": {},
   "outputs": [
    {
     "data": {
      "text/plain": [
       "array(['a', 'b', 'c', 'd', 'e', 'f'], dtype='<U1')"
      ]
     },
     "execution_count": 152,
     "metadata": {},
     "output_type": "execute_result"
    }
   ],
   "source": [
    "ar = np.array(['a','b','c','d','e','f'])\n",
    "ar"
   ]
  },
  {
   "cell_type": "code",
   "execution_count": 153,
   "metadata": {},
   "outputs": [
    {
     "name": "stdout",
     "output_type": "stream",
     "text": [
      "['a' 'b' 'c' 'd' 'e' 'f' 'm' 'n']\n",
      "['a' 'b' 'k' 'j' 'c' 'd' 'e' 'f']\n",
      "['a' 'c' 'd' 'f']\n"
     ]
    }
   ],
   "source": [
    "print(np.append(ar, values = ['m', 'n']))\n",
    "\n",
    "print(np.insert(ar, obj = 2, values = ['k', 'j']))\n",
    "\n",
    "print(np.delete(ar, obj = [1, 4]))"
   ]
  },
  {
   "cell_type": "markdown",
   "metadata": {},
   "source": [
    "#### Reshaping, Resizing and Transposing"
   ]
  },
  {
   "cell_type": "code",
   "execution_count": 154,
   "metadata": {},
   "outputs": [
    {
     "name": "stdout",
     "output_type": "stream",
     "text": [
      "[[ 1  2  3  4]\n",
      " [ 5  6  7  8]\n",
      " [ 9 10 11 12]]\n",
      "[[ 1  2  3]\n",
      " [ 4  5  6]\n",
      " [ 7  8  9]\n",
      " [10 11 12]]\n"
     ]
    }
   ],
   "source": [
    "ar_1X12 = np.arange(1,13)\n",
    "\n",
    "ar_3X4 = ar_1X12.reshape(3,4)\n",
    "print(ar_3X4)\n",
    "\n",
    "ar_4X3 = ar_3X4.reshape(4,3)\n",
    "print(ar_4X3)"
   ]
  },
  {
   "cell_type": "code",
   "execution_count": 161,
   "metadata": {},
   "outputs": [
    {
     "data": {
      "text/plain": [
       "array([['a', 'b'],\n",
       "       ['c', 'd'],\n",
       "       ['e', 'f']], dtype='<U1')"
      ]
     },
     "execution_count": 161,
     "metadata": {},
     "output_type": "execute_result"
    }
   ],
   "source": [
    "ar = np.array([['a','b'],['c','d'],['e','f']])\n",
    "ar"
   ]
  },
  {
   "cell_type": "code",
   "execution_count": 162,
   "metadata": {},
   "outputs": [
    {
     "name": "stdout",
     "output_type": "stream",
     "text": [
      "[['a' 'b' 'c']\n",
      " ['d' 'e' 'f']]\n"
     ]
    },
    {
     "ename": "ValueError",
     "evalue": "cannot reshape array of size 6 into shape (2,4)",
     "output_type": "error",
     "traceback": [
      "\u001b[1;31m---------------------------------------------------------------------------\u001b[0m",
      "\u001b[1;31mValueError\u001b[0m                                Traceback (most recent call last)",
      "Cell \u001b[1;32mIn[162], line 2\u001b[0m\n\u001b[0;32m      1\u001b[0m \u001b[38;5;28mprint\u001b[39m(ar\u001b[38;5;241m.\u001b[39mreshape(\u001b[38;5;241m2\u001b[39m,\u001b[38;5;241m3\u001b[39m))\n\u001b[1;32m----> 2\u001b[0m \u001b[38;5;28mprint\u001b[39m(\u001b[43mar\u001b[49m\u001b[38;5;241;43m.\u001b[39;49m\u001b[43mreshape\u001b[49m\u001b[43m(\u001b[49m\u001b[38;5;241;43m2\u001b[39;49m\u001b[43m,\u001b[49m\u001b[38;5;241;43m4\u001b[39;49m\u001b[43m)\u001b[49m) \u001b[38;5;66;03m#Throws Error\u001b[39;00m\n",
      "\u001b[1;31mValueError\u001b[0m: cannot reshape array of size 6 into shape (2,4)"
     ]
    }
   ],
   "source": [
    "print(ar.reshape(2,3))\n",
    "print(ar.reshape(2,4)) #Throws Error"
   ]
  },
  {
   "cell_type": "code",
   "execution_count": 163,
   "metadata": {},
   "outputs": [
    {
     "name": "stdout",
     "output_type": "stream",
     "text": [
      "[['a' 'b' 'c' 'd']\n",
      " ['e' 'f' 'a' 'b']]\n"
     ]
    }
   ],
   "source": [
    "print(np.resize(ar, (2,4))) #Doesn't throw error, the sequence of elements will be repeated"
   ]
  },
  {
   "cell_type": "code",
   "execution_count": 164,
   "metadata": {},
   "outputs": [
    {
     "name": "stdout",
     "output_type": "stream",
     "text": [
      "[['a' 'c' 'e']\n",
      " ['b' 'd' 'f']]\n"
     ]
    }
   ],
   "source": [
    "print(np.transpose(ar)) #Converts Rows to Cols and Vice-Versa"
   ]
  },
  {
   "cell_type": "markdown",
   "metadata": {},
   "source": [
    "#### Flattening"
   ]
  },
  {
   "cell_type": "code",
   "execution_count": 167,
   "metadata": {},
   "outputs": [
    {
     "data": {
      "text/plain": [
       "array([['a', 'b'],\n",
       "       ['c', 'd'],\n",
       "       ['e', 'f']], dtype='<U1')"
      ]
     },
     "execution_count": 167,
     "metadata": {},
     "output_type": "execute_result"
    }
   ],
   "source": [
    "ar"
   ]
  },
  {
   "cell_type": "code",
   "execution_count": 168,
   "metadata": {},
   "outputs": [
    {
     "name": "stdout",
     "output_type": "stream",
     "text": [
      "['a' 'b' 'c' 'd' 'e' 'f']\n",
      "['a' 'c' 'e' 'b' 'd' 'f']\n"
     ]
    }
   ],
   "source": [
    "print(ar.flatten()) #default order='C' i.e across row\n",
    "print(ar.flatten(order='F')) #across col"
   ]
  },
  {
   "cell_type": "markdown",
   "metadata": {},
   "source": [
    "#### Concatenating"
   ]
  },
  {
   "cell_type": "code",
   "execution_count": 169,
   "metadata": {},
   "outputs": [
    {
     "name": "stdout",
     "output_type": "stream",
     "text": [
      "[[1 2]\n",
      " [3 4]\n",
      " [5 6]\n",
      " [7 8]]\n",
      "[[1 2 5 6]\n",
      " [3 4 7 8]]\n"
     ]
    }
   ],
   "source": [
    "ar1 = np.array([[1,2],[3,4]])\n",
    "ar2 = np.array([[5,6],[7,8]])\n",
    "\n",
    "print(np.concatenate((ar1, ar2), axis=0)) #col-wise\n",
    "print(np.concatenate((ar1, ar2), axis=1)) #row-wise"
   ]
  },
  {
   "cell_type": "markdown",
   "metadata": {},
   "source": [
    "#### Splitting"
   ]
  },
  {
   "cell_type": "code",
   "execution_count": 170,
   "metadata": {},
   "outputs": [
    {
     "data": {
      "text/plain": [
       "array([0, 1, 2, 3, 4, 5, 6, 7, 8])"
      ]
     },
     "execution_count": 170,
     "metadata": {},
     "output_type": "execute_result"
    }
   ],
   "source": [
    "ar = np.arange(9)\n",
    "ar"
   ]
  },
  {
   "cell_type": "code",
   "execution_count": 171,
   "metadata": {},
   "outputs": [
    {
     "name": "stdout",
     "output_type": "stream",
     "text": [
      "[array([0, 1, 2]), array([3, 4, 5]), array([6, 7, 8])]\n",
      "[array([0, 1, 2, 3]), array([4]), array([5, 6, 7, 8])]\n",
      "[array([0, 1]), array([2, 3]), array([4, 5]), array([6, 7, 8])]\n"
     ]
    }
   ],
   "source": [
    "print(np.split(ar, 3))\n",
    "print(np.split(ar, [4,5]))\n",
    "print(np.split(ar, [2,4,6]))"
   ]
  },
  {
   "cell_type": "markdown",
   "metadata": {},
   "source": [
    "### Others"
   ]
  },
  {
   "cell_type": "code",
   "execution_count": 178,
   "metadata": {},
   "outputs": [
    {
     "data": {
      "text/plain": [
       "array([[ 1.,  2., nan],\n",
       "       [nan,  2., nan],\n",
       "       [inf,  2., nan]])"
      ]
     },
     "execution_count": 178,
     "metadata": {},
     "output_type": "execute_result"
    }
   ],
   "source": [
    "ar = np.array([[1, 2, np.nan], [np.nan, 2, np.nan], [np.inf, 2, np.nan]])\n",
    "ar"
   ]
  },
  {
   "cell_type": "code",
   "execution_count": 179,
   "metadata": {},
   "outputs": [
    {
     "name": "stdout",
     "output_type": "stream",
     "text": [
      "[[False False  True]\n",
      " [ True False  True]\n",
      " [False False  True]]\n",
      "4\n"
     ]
    }
   ],
   "source": [
    "print(np.isnan(ar))\n",
    "print(np.isnan(ar).sum())"
   ]
  },
  {
   "cell_type": "code",
   "execution_count": 183,
   "metadata": {},
   "outputs": [
    {
     "name": "stdout",
     "output_type": "stream",
     "text": [
      "4\n",
      "[[False False False]\n",
      " [False False False]\n",
      " [ True False False]]\n"
     ]
    }
   ],
   "source": [
    "print(np.isfinite(ar).sum())\n",
    "print(np.isinf(ar))"
   ]
  },
  {
   "cell_type": "code",
   "execution_count": 184,
   "metadata": {},
   "outputs": [
    {
     "name": "stdout",
     "output_type": "stream",
     "text": [
      "['ac' 'bd']\n",
      "axion\n",
      "Numpy\n",
      "********Data********\n"
     ]
    }
   ],
   "source": [
    "print(np.char.add(['a','b'],['c','d']))\n",
    "print(np.char.lower(\"AXION\"))\n",
    "print(np.char.capitalize(\"numpy\"))\n",
    "print(np.char.center(\"Data\", 20, '*'))"
   ]
  },
  {
   "cell_type": "code",
   "execution_count": null,
   "metadata": {},
   "outputs": [],
   "source": []
  }
 ],
 "metadata": {
  "kernelspec": {
   "display_name": "Python 3",
   "language": "python",
   "name": "python3"
  },
  "language_info": {
   "codemirror_mode": {
    "name": "ipython",
    "version": 3
   },
   "file_extension": ".py",
   "mimetype": "text/x-python",
   "name": "python",
   "nbconvert_exporter": "python",
   "pygments_lexer": "ipython3",
   "version": "3.10.11"
  }
 },
 "nbformat": 4,
 "nbformat_minor": 2
}
