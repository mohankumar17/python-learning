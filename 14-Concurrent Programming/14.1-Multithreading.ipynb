{
 "cells": [
  {
   "cell_type": "markdown",
   "metadata": {},
   "source": [
    "## Concurrent Programming\n",
    "1. Concurrent programming is a process of executing multiple tasks simuntaneously or in parallel..\n",
    "2. It improves the throughput of the application or program.\n",
    "3. It is helpful when application has I/O bound operations."
   ]
  },
  {
   "cell_type": "markdown",
   "metadata": {},
   "source": [
    "### Process\n",
    "1. A process is an instance of program/application.\n",
    "2. Every process will have its own code, global memory space, heap, stack memory and registers.\n",
    "3. Each process is independent. So, a process can't be interrupted by another process.\n",
    "4. It requires more RAM and CPU for its execution.\n",
    "\n",
    "### Thread\n",
    "1. A thread is a unit of the process.\n",
    "2. Multiple threads can share the code, global memory space, heap but each thread will have its own stack memory and registers.\n",
    "3. A thread can be interrupted by another thread.\n",
    "4. It requires less RAM and CPU for its execution."
   ]
  },
  {
   "cell_type": "markdown",
   "metadata": {},
   "source": [
    "### Multithreading"
   ]
  },
  {
   "cell_type": "code",
   "execution_count": 1,
   "metadata": {},
   "outputs": [],
   "source": [
    "import time\n",
    "import threading\n",
    "import os"
   ]
  },
  {
   "cell_type": "code",
   "execution_count": 2,
   "metadata": {},
   "outputs": [],
   "source": [
    "def task1(msg):\n",
    "    time.sleep(3)\n",
    "    print(msg)\n",
    "    print(\"Thread - Name: \", threading.current_thread().name)\n",
    "    print(\"Thread - Process Id: \", os.getpid())\n",
    "\n",
    "def task2(msg):\n",
    "    time.sleep(1)\n",
    "    print(msg)\n",
    "    print(\"Thread - Name: \", threading.current_thread().name)\n",
    "    print(\"Thread - Process Id: \", os.getpid())"
   ]
  },
  {
   "cell_type": "code",
   "execution_count": 3,
   "metadata": {},
   "outputs": [],
   "source": [
    "t1 = threading.Thread(target=task1, args=((\"Task 1\",)), name=\"T1\")\n",
    "t2 = threading.Thread(target=task2, args=((\"Task 2\",)), name=\"T2\")"
   ]
  },
  {
   "cell_type": "code",
   "execution_count": 4,
   "metadata": {},
   "outputs": [
    {
     "name": "stdout",
     "output_type": "stream",
     "text": [
      "Task 2\n",
      "Thread - Name:  T2\n",
      "Thread - Process Id:  7232\n",
      "Task 1\n",
      "Thread - Name:  T1\n",
      "Thread - Process Id:  7232\n",
      "Main Thread - Name:  MainThread\n",
      "Main Thread - Process Id:  7232\n"
     ]
    }
   ],
   "source": [
    "t1.start()\n",
    "t2.start()\n",
    "\n",
    "t1.join()\n",
    "t2.join()\n",
    "\n",
    "print(\"Main Thread - Name: \", threading.main_thread().name)\n",
    "print(\"Main Thread - Process Id: \", os.getpid())"
   ]
  },
  {
   "cell_type": "markdown",
   "metadata": {},
   "source": [
    "### Importing Thread Class"
   ]
  },
  {
   "cell_type": "code",
   "execution_count": 5,
   "metadata": {},
   "outputs": [],
   "source": [
    "class A(threading.Thread):\n",
    "    def run(self):\n",
    "        for i in range(0, 5):\n",
    "            print(\"ThreadA\" + str(i + 1))\n",
    "            time.sleep(1)\n",
    "\n",
    "class B(threading.Thread):\n",
    "    def run(self):\n",
    "        for i in range(0, 5):\n",
    "            print(\"ThreadB\" + str(i + 1))\n",
    "            time.sleep(0.5)"
   ]
  },
  {
   "cell_type": "code",
   "execution_count": 6,
   "metadata": {},
   "outputs": [
    {
     "name": "stdout",
     "output_type": "stream",
     "text": [
      "ThreadA1\n",
      "ThreadB1\n",
      "ThreadA2\n",
      "ThreadB2\n",
      "ThreadB3\n",
      "ThreadA3\n",
      "ThreadB4\n",
      "ThreadB5\n",
      "ThreadA4\n",
      "ThreadA5\n",
      "Main Thread: Threads A and B completed\n"
     ]
    }
   ],
   "source": [
    "obA = A()\n",
    "obB = B()\n",
    "\n",
    "obA.start()\n",
    "time.sleep(0.5)\n",
    "obB.start()\n",
    "\n",
    "obA.join()\n",
    "obB.join()\n",
    "\n",
    "print(\"Main Thread: Threads A and B completed\")"
   ]
  },
  {
   "cell_type": "markdown",
   "metadata": {},
   "source": [
    "### Thread Pool Executor"
   ]
  },
  {
   "cell_type": "code",
   "execution_count": 7,
   "metadata": {},
   "outputs": [],
   "source": [
    "from concurrent.futures import ThreadPoolExecutor\n",
    "import time"
   ]
  },
  {
   "cell_type": "code",
   "execution_count": 20,
   "metadata": {},
   "outputs": [],
   "source": [
    "def square_number(number):\n",
    "    time.sleep(0.5)\n",
    "    return number**2"
   ]
  },
  {
   "cell_type": "code",
   "execution_count": 21,
   "metadata": {},
   "outputs": [],
   "source": [
    "numbers=[1,2,3,4,5,6,7,8,9]"
   ]
  },
  {
   "cell_type": "code",
   "execution_count": 38,
   "metadata": {},
   "outputs": [],
   "source": [
    "start_time = time.time()\n",
    "\n",
    "results = list(map(square_number, numbers))\n",
    "\n",
    "elapsed_time = time.time() - start_time"
   ]
  },
  {
   "cell_type": "code",
   "execution_count": 39,
   "metadata": {},
   "outputs": [
    {
     "name": "stdout",
     "output_type": "stream",
     "text": [
      "1 4 9 16 25 36 49 64 81 "
     ]
    }
   ],
   "source": [
    "for result in results:\n",
    "    print(result, end = \" \")"
   ]
  },
  {
   "cell_type": "code",
   "execution_count": 40,
   "metadata": {},
   "outputs": [
    {
     "name": "stdout",
     "output_type": "stream",
     "text": [
      "Elapsed Time (in Seconds): 4.592961549758911\n"
     ]
    }
   ],
   "source": [
    "print(f\"Elapsed Time (in Seconds): {elapsed_time}\")"
   ]
  },
  {
   "cell_type": "code",
   "execution_count": 41,
   "metadata": {},
   "outputs": [],
   "source": [
    "with ThreadPoolExecutor(max_workers=3) as executor:\n",
    "    start_time = time.time()\n",
    "    \n",
    "    results = list(executor.map(square_number,numbers))\n",
    "    \n",
    "    elapsed_time = time.time() - start_time"
   ]
  },
  {
   "cell_type": "code",
   "execution_count": 42,
   "metadata": {},
   "outputs": [
    {
     "name": "stdout",
     "output_type": "stream",
     "text": [
      "1 4 9 16 25 36 49 64 81 "
     ]
    }
   ],
   "source": [
    "for result in results:\n",
    "    print(result, end = \" \")"
   ]
  },
  {
   "cell_type": "code",
   "execution_count": 43,
   "metadata": {},
   "outputs": [
    {
     "name": "stdout",
     "output_type": "stream",
     "text": [
      "Elapsed Time (in Seconds): 1.5338244438171387\n"
     ]
    }
   ],
   "source": [
    "print(f\"Elapsed Time (in Seconds): {elapsed_time}\")"
   ]
  },
  {
   "cell_type": "code",
   "execution_count": null,
   "metadata": {},
   "outputs": [],
   "source": []
  }
 ],
 "metadata": {
  "kernelspec": {
   "display_name": ".venv",
   "language": "python",
   "name": "python3"
  },
  "language_info": {
   "codemirror_mode": {
    "name": "ipython",
    "version": 3
   },
   "file_extension": ".py",
   "mimetype": "text/x-python",
   "name": "python",
   "nbconvert_exporter": "python",
   "pygments_lexer": "ipython3",
   "version": "3.10.11"
  }
 },
 "nbformat": 4,
 "nbformat_minor": 2
}
