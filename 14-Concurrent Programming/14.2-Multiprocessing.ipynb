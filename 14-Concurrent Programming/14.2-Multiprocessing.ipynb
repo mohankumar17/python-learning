{
 "cells": [
  {
   "cell_type": "markdown",
   "metadata": {},
   "source": [
    "### Multiprocessing"
   ]
  },
  {
   "cell_type": "markdown",
   "metadata": {},
   "source": [
    "#### Run below code as python script"
   ]
  },
  {
   "cell_type": "code",
   "execution_count": 1,
   "metadata": {},
   "outputs": [],
   "source": [
    "import time\n",
    "import multiprocessing\n",
    "import os\n",
    "\n",
    "def task1(msg):\n",
    "    time.sleep(3)\n",
    "    print(msg)\n",
    "    print(\"Thread - Name: \", multiprocessing.current_process().name)\n",
    "    print(\"Thread - Process Id: \", os.getpid())\n",
    "\n",
    "def task2(msg):\n",
    "    time.sleep(1)\n",
    "    print(msg)\n",
    "    print(\"Thread - Name: \", multiprocessing.current_process().name)\n",
    "    print(\"Thread - Process Id: \", os.getpid())\n",
    "\n",
    "if __name__ == \"__main__\":\n",
    "    p1 = multiprocessing.Process(target=task1, args=((\"Task 1\",)), name=\"P1\")\n",
    "    p2 = multiprocessing.Process(target=task2, args=((\"Task 2\",)), name=\"P2\")\n",
    "\n",
    "    p1.start()\n",
    "    p2.start()\n",
    "\n",
    "    p1.join()\n",
    "    p2.join()\n",
    "\n",
    "    print(\"Main Process - Name: \", multiprocessing.current_process().name)\n",
    "    print(\"Main Process - Process Id: \", os.getpid())"
   ]
  },
  {
   "cell_type": "markdown",
   "metadata": {},
   "source": [
    "### Process Pool Executor"
   ]
  },
  {
   "cell_type": "code",
   "execution_count": 15,
   "metadata": {},
   "outputs": [],
   "source": [
    "def square_number(number):\n",
    "    time.sleep(0.5)\n",
    "    return number**2"
   ]
  },
  {
   "cell_type": "code",
   "execution_count": 16,
   "metadata": {},
   "outputs": [],
   "source": [
    "numbers=[1,2,3,4,5,6,7,8,9]"
   ]
  },
  {
   "cell_type": "code",
   "execution_count": 17,
   "metadata": {},
   "outputs": [],
   "source": [
    "start_time = time.time()\n",
    "\n",
    "results = list(map(square_number, numbers))\n",
    "\n",
    "elapsed_time = time.time() - start_time"
   ]
  },
  {
   "cell_type": "code",
   "execution_count": 18,
   "metadata": {},
   "outputs": [
    {
     "name": "stdout",
     "output_type": "stream",
     "text": [
      "1 4 9 16 25 36 49 64 81 "
     ]
    }
   ],
   "source": [
    "for result in results:\n",
    "    print(result, end = \" \")"
   ]
  },
  {
   "cell_type": "code",
   "execution_count": 19,
   "metadata": {},
   "outputs": [
    {
     "name": "stdout",
     "output_type": "stream",
     "text": [
      "Elapsed Time (in Seconds): 4.617254018783569\n"
     ]
    }
   ],
   "source": [
    "print(f\"Elapsed Time (in Seconds): {elapsed_time}\")"
   ]
  },
  {
   "cell_type": "markdown",
   "metadata": {},
   "source": [
    "#### Run below code as python script"
   ]
  },
  {
   "cell_type": "code",
   "execution_count": null,
   "metadata": {},
   "outputs": [],
   "source": [
    "from concurrent.futures import ProcessPoolExecutor\n",
    "import time\n",
    "\n",
    "def square_number(number):\n",
    "    time.sleep(0.5)\n",
    "    return number**2\n",
    "\n",
    "if __name__ == \"__main__\":\n",
    "    numbers=[1,2,3,4,5,6,7,8,9]\n",
    "    \n",
    "    with ProcessPoolExecutor(max_workers=3) as executor:\n",
    "        start_time = time.time()\n",
    "        \n",
    "        results = list(executor.map(square_number,numbers))\n",
    "        \n",
    "        elapsed_time = time.time() - start_time\n",
    "    \n",
    "    for result in results:\n",
    "        print(result, end = \" \")\n",
    "    \n",
    "    print(f\"Elapsed Time (in Seconds): {elapsed_time}\")"
   ]
  }
 ],
 "metadata": {
  "kernelspec": {
   "display_name": ".venv",
   "language": "python",
   "name": "python3"
  },
  "language_info": {
   "codemirror_mode": {
    "name": "ipython",
    "version": 3
   },
   "file_extension": ".py",
   "mimetype": "text/x-python",
   "name": "python",
   "nbconvert_exporter": "python",
   "pygments_lexer": "ipython3",
   "version": "3.10.11"
  }
 },
 "nbformat": 4,
 "nbformat_minor": 2
}
