{
 "cells": [
  {
   "cell_type": "markdown",
   "metadata": {},
   "source": [
    "## SQLAlchemy"
   ]
  },
  {
   "cell_type": "code",
   "execution_count": null,
   "metadata": {},
   "outputs": [],
   "source": [
    "#pip install sqlalchemy\n",
    "#pip install psycopg2"
   ]
  },
  {
   "cell_type": "code",
   "execution_count": 1,
   "metadata": {},
   "outputs": [],
   "source": [
    "username = \"postgres\"\n",
    "password = \"mohan\"\n",
    "host = \"localhost\"\n",
    "port = \"5432\"\n",
    "database_name = \"python_learning\""
   ]
  },
  {
   "cell_type": "code",
   "execution_count": 2,
   "metadata": {},
   "outputs": [],
   "source": [
    "from sqlalchemy import create_engine, Column, Integer, String\n",
    "from sqlalchemy.orm import declarative_base, sessionmaker\n",
    "\n",
    "# Create an engine connected to the MySQL database\n",
    "url = f\"postgresql+psycopg2://{username}:{password}@{host}:{port}/{database_name}\"\n",
    "engine = create_engine(url)\n",
    "\n",
    "# Base class for our classes definitions\n",
    "Base = declarative_base()\n",
    "\n",
    "# Define a User model\n",
    "class User(Base):\n",
    "    __tablename__ = 'users'\n",
    "    id = Column(Integer, primary_key=True)\n",
    "    name = Column(String(50))\n",
    "    age = Column(Integer)\n",
    "\n",
    "# Create the tables in the database\n",
    "Base.metadata.create_all(engine)"
   ]
  },
  {
   "cell_type": "code",
   "execution_count": 3,
   "metadata": {},
   "outputs": [],
   "source": [
    "# Create a configured \"Session\" class\n",
    "Session = sessionmaker(bind=engine)\n",
    "# Create a Session\n",
    "session = Session()"
   ]
  },
  {
   "cell_type": "markdown",
   "metadata": {},
   "source": [
    "### Create - INSERT"
   ]
  },
  {
   "cell_type": "code",
   "execution_count": 8,
   "metadata": {},
   "outputs": [],
   "source": [
    "# Create a new user\n",
    "new_user = User(name='John Doe', age=30)\n",
    "\n",
    "# Add the new user to the session\n",
    "session.add(new_user)\n",
    "\n",
    "# Commit the session to write the user to the database\n",
    "session.commit()"
   ]
  },
  {
   "cell_type": "code",
   "execution_count": 4,
   "metadata": {},
   "outputs": [],
   "source": [
    "new_users = [User(name='Glenn Maxwell', age=34), User(name='Mike Stark', age=28), User(name='Paul Brandon', age=42)]\n",
    "session.add_all(new_users)\n",
    "session.commit()"
   ]
  },
  {
   "cell_type": "markdown",
   "metadata": {},
   "source": [
    "### Read - SELECT"
   ]
  },
  {
   "cell_type": "code",
   "execution_count": 6,
   "metadata": {},
   "outputs": [
    {
     "name": "stdout",
     "output_type": "stream",
     "text": [
      "ID: 1, Name: John Doe, Age: 30\n",
      "ID: 2, Name: Glenn Maxwell, Age: 34\n",
      "ID: 3, Name: Mike Stark, Age: 28\n",
      "ID: 4, Name: Paul Brandon, Age: 42\n"
     ]
    }
   ],
   "source": [
    "# Query all users\n",
    "users = session.query(User).all()\n",
    "for user in users:\n",
    "    print(f\"ID: {user.id}, Name: {user.name}, Age: {user.age}\")"
   ]
  },
  {
   "cell_type": "code",
   "execution_count": 8,
   "metadata": {},
   "outputs": [
    {
     "name": "stdout",
     "output_type": "stream",
     "text": [
      "ID: 1, Name: John Doe, Age: 30\n"
     ]
    }
   ],
   "source": [
    "# Query a user by name\n",
    "user = session.query(User).filter_by(name='John Doe').first()\n",
    "print(f\"ID: {user.id}, Name: {user.name}, Age: {user.age}\")"
   ]
  },
  {
   "cell_type": "code",
   "execution_count": 11,
   "metadata": {},
   "outputs": [
    {
     "name": "stdout",
     "output_type": "stream",
     "text": [
      "ID: 1, Name: John Doe, Age: 30\n"
     ]
    }
   ],
   "source": [
    "#Query by age\n",
    "users = session.query(User).filter_by(age = 30).all()\n",
    "for user in users:\n",
    "    print(f\"ID: {user.id}, Name: {user.name}, Age: {user.age}\")"
   ]
  },
  {
   "cell_type": "markdown",
   "metadata": {},
   "source": [
    "### Update"
   ]
  },
  {
   "cell_type": "code",
   "execution_count": 13,
   "metadata": {},
   "outputs": [],
   "source": [
    "# Query the user we want to update\n",
    "user = session.query(User).filter_by(id = 3).first()\n",
    "\n",
    "# Update the user's age\n",
    "user.name = \"Mitchell Stark\"\n",
    "user.age = 31\n",
    "\n",
    "# Commit the session to write the changes to the database\n",
    "session.commit()"
   ]
  },
  {
   "cell_type": "markdown",
   "metadata": {},
   "source": [
    "### Delete"
   ]
  },
  {
   "cell_type": "code",
   "execution_count": 14,
   "metadata": {},
   "outputs": [],
   "source": [
    "# Query the user we want to delete\n",
    "user = session.query(User).filter_by(id = 4).first()\n",
    "\n",
    "# Delete the user\n",
    "session.delete(user)\n",
    "\n",
    "# Commit the session to delete the user from the database\n",
    "session.commit()"
   ]
  },
  {
   "cell_type": "markdown",
   "metadata": {},
   "source": [
    "### Multiple Tables"
   ]
  },
  {
   "cell_type": "code",
   "execution_count": 84,
   "metadata": {},
   "outputs": [],
   "source": [
    "from sqlalchemy import create_engine, Integer, String, DateTime, ForeignKey, Boolean\n",
    "from sqlalchemy.orm import declarative_base, relationship, mapped_column, Mapped, sessionmaker\n",
    "from typing import List\n",
    "from time import localtime, strftime\n",
    "\n",
    "# Create an engine connected to the MySQL database\n",
    "url = f\"postgresql+psycopg2://{username}:{password}@{host}:{port}/{database_name}\"\n",
    "engine = create_engine(url)\n",
    "\n",
    "# Base class for our classes definitions\n",
    "Base = declarative_base()"
   ]
  },
  {
   "cell_type": "code",
   "execution_count": 85,
   "metadata": {},
   "outputs": [],
   "source": [
    "class Customer(Base):\n",
    "    __tablename__ = \"customer\"\n",
    "    custId = mapped_column(name=\"cust_id\", type_=Integer, primary_key=True, autoincrement=\"auto\")\n",
    "    custName = mapped_column(name=\"cust_name\", type_=String(50), nullable=False)\n",
    "    custPhone = mapped_column(name=\"cust_phone\", type_=String(20))\n",
    "    orders: Mapped[List[\"Order\"]] = relationship(back_populates=\"customer\")\n",
    "\n",
    "class Order(Base):\n",
    "    __tablename__ = \"order\"\n",
    "    orderId = mapped_column(\"id\", Integer, primary_key = True, autoincrement = \"auto\")\n",
    "    orderDate = mapped_column(\"date\", DateTime, nullable = False)\n",
    "    orderItem = mapped_column(\"item\", String)\n",
    "    orderStatus = mapped_column(\"status\", Boolean, default = True)\n",
    "    custId: Mapped[int] = mapped_column(\"cust_id\", ForeignKey(\"customer.cust_id\"), nullable=False)\n",
    "    createdAt = mapped_column(\"created_at\", DateTime, default = strftime(\"%Y-%m-%d\", localtime()))\n",
    "    updatedAt = mapped_column(\"updated_at\", DateTime)\n",
    "    customer: Mapped[\"Customer\"] = relationship(back_populates=\"orders\")\n",
    "\n",
    "# Create the tables in the database\n",
    "Base.metadata.create_all(engine)"
   ]
  },
  {
   "cell_type": "code",
   "execution_count": null,
   "metadata": {},
   "outputs": [],
   "source": []
  }
 ],
 "metadata": {
  "kernelspec": {
   "display_name": "Python 3",
   "language": "python",
   "name": "python3"
  },
  "language_info": {
   "codemirror_mode": {
    "name": "ipython",
    "version": 3
   },
   "file_extension": ".py",
   "mimetype": "text/x-python",
   "name": "python",
   "nbconvert_exporter": "python",
   "pygments_lexer": "ipython3",
   "version": "3.10.11"
  }
 },
 "nbformat": 4,
 "nbformat_minor": 2
}
