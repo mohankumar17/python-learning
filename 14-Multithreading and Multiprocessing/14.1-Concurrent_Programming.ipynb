{
 "cells": [
  {
   "cell_type": "markdown",
   "metadata": {},
   "source": [
    "### Concurrent Programming"
   ]
  },
  {
   "cell_type": "markdown",
   "metadata": {},
   "source": [
    "#### Multithreading"
   ]
  },
  {
   "cell_type": "code",
   "execution_count": null,
   "metadata": {},
   "outputs": [],
   "source": [
    "import time\n",
    "import threading\n",
    "import os"
   ]
  },
  {
   "cell_type": "code",
   "execution_count": null,
   "metadata": {},
   "outputs": [],
   "source": [
    "def task1(msg):\n",
    "    time.sleep(3)\n",
    "    print(msg)\n",
    "    print(\"Thread - Name: \", threading.current_thread().name)\n",
    "    print(\"Thread - Process Id: \", os.getpid())\n",
    "\n",
    "def task2(msg):\n",
    "    time.sleep(1)\n",
    "    print(msg)\n",
    "    print(\"Thread - Name: \", threading.current_thread().name)\n",
    "    print(\"Thread - Process Id: \", os.getpid())"
   ]
  },
  {
   "cell_type": "code",
   "execution_count": null,
   "metadata": {},
   "outputs": [
    {
     "name": "stdout",
     "output_type": "stream",
     "text": [
      "Task 2\n",
      "Thread - Name:  T2\n",
      "Thread - Process Id:  20368\n",
      "Task 1\n",
      "Thread - Name:  T1\n",
      "Thread - Process Id:  20368\n",
      "Main Thread - Name:  MainThread\n",
      "Main Thread - Process Id:  20368\n"
     ]
    }
   ],
   "source": [
    "t1 = threading.Thread(target=task1, args=((\"Task 1\",)), name=\"T1\")\n",
    "t2 = threading.Thread(target=task2, args=((\"Task 2\",)), name=\"T2\")\n",
    "\n",
    "t1.start()\n",
    "t2.start()\n",
    "\n",
    "t1.join()\n",
    "t2.join()\n",
    "\n",
    "print(\"Main Thread - Name: \", threading.main_thread().name)\n",
    "print(\"Main Thread - Process Id: \", os.getpid())"
   ]
  },
  {
   "cell_type": "markdown",
   "metadata": {},
   "source": [
    "#### Importing Thread Class"
   ]
  },
  {
   "cell_type": "code",
   "execution_count": null,
   "metadata": {},
   "outputs": [],
   "source": [
    "class A(threading.Thread):\n",
    "    def run(self):\n",
    "        for i in range(0, 5):\n",
    "            print(\"ThreadA\" + str(i + 1))\n",
    "            time.sleep(1)\n",
    "\n",
    "class B(threading.Thread):\n",
    "    def run(self):\n",
    "        for i in range(0, 5):\n",
    "            print(\"ThreadB\" + str(i + 1))\n",
    "            time.sleep(0.5)"
   ]
  },
  {
   "cell_type": "code",
   "execution_count": null,
   "metadata": {},
   "outputs": [
    {
     "name": "stdout",
     "output_type": "stream",
     "text": [
      "ThreadA1\n",
      "ThreadB1\n",
      "ThreadA2\n",
      "ThreadB2\n",
      "ThreadB3\n",
      "ThreadA3\n",
      "ThreadB4\n",
      "ThreadB5\n",
      "ThreadA4\n",
      "ThreadA5\n",
      "Main Thread: Threads A and B completed\n"
     ]
    }
   ],
   "source": [
    "obA = A()\n",
    "obB = B()\n",
    "\n",
    "obA.start()\n",
    "time.sleep(0.5)\n",
    "obB.start()\n",
    "\n",
    "obA.join()\n",
    "obB.join()\n",
    "\n",
    "print(\"Main Thread: Threads A and B completed\")"
   ]
  }
 ],
 "metadata": {
  "language_info": {
   "name": "python"
  }
 },
 "nbformat": 4,
 "nbformat_minor": 2
}
