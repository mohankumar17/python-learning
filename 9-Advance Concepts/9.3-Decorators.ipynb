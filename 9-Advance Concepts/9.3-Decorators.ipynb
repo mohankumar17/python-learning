{
 "cells": [
  {
   "cell_type": "markdown",
   "metadata": {},
   "source": [
    "## Decorators\n",
    "1. Decorators are functions which extend the functionality/behaviour of a specific function witout modifying it. \n",
    "    E.g. @staticmethod, @abstractmethod, @app.route() etc.\n",
    "2. Decorator function returns the function as output  "
   ]
  },
  {
   "cell_type": "code",
   "execution_count": null,
   "metadata": {},
   "outputs": [
    {
     "name": "stdout",
     "output_type": "stream",
     "text": [
      "Welcome to Python Decorators\n"
     ]
    }
   ],
   "source": [
    "# Original Function\n",
    "def greet():\n",
    "    print(\"Welcome to Python Decorators\")\n",
    "\n",
    "greet()"
   ]
  },
  {
   "cell_type": "code",
   "execution_count": null,
   "metadata": {},
   "outputs": [],
   "source": [
    "def myDecorator(fn):\n",
    "    def message():\n",
    "        print(\"Hello\")\n",
    "        fn()\n",
    "        print(\"Thank you\")\n",
    "    return message"
   ]
  },
  {
   "cell_type": "code",
   "execution_count": null,
   "metadata": {},
   "outputs": [
    {
     "name": "stdout",
     "output_type": "stream",
     "text": [
      "Hello\n",
      "Welcome to Python Decorators\n",
      "Thank you\n"
     ]
    }
   ],
   "source": [
    "@myDecorator\n",
    "def greet():\n",
    "    print(\"Welcome to Python Decorators\")\n",
    "\n",
    "greet()"
   ]
  }
 ],
 "metadata": {
  "kernelspec": {
   "display_name": "Python 3",
   "language": "python",
   "name": "python3"
  },
  "language_info": {
   "codemirror_mode": {
    "name": "ipython",
    "version": 3
   },
   "file_extension": ".py",
   "mimetype": "text/x-python",
   "name": "python",
   "nbconvert_exporter": "python",
   "pygments_lexer": "ipython3",
   "version": "3.12.0"
  }
 },
 "nbformat": 4,
 "nbformat_minor": 2
}
