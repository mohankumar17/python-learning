{
 "cells": [
  {
   "cell_type": "markdown",
   "metadata": {},
   "source": [
    "## Lists"
   ]
  },
  {
   "cell_type": "code",
   "execution_count": 1,
   "metadata": {},
   "outputs": [
    {
     "name": "stdout",
     "output_type": "stream",
     "text": [
      "[23, 45, 'Nailor', 67.412, False, 'Python', 'Paul', [3, 4, 5], True]\n",
      "List: <class 'list'>\n"
     ]
    }
   ],
   "source": [
    "myList = [23, 45, \"Nailor\", 67.412, False, \"Python\", \"Paul\", [3, 4, 5], True]\n",
    "print(myList)\n",
    "print(\"List:\",type(myList))"
   ]
  },
  {
   "cell_type": "code",
   "execution_count": 2,
   "metadata": {},
   "outputs": [
    {
     "name": "stdout",
     "output_type": "stream",
     "text": [
      "9\n"
     ]
    }
   ],
   "source": [
    "print(len(myList))"
   ]
  },
  {
   "cell_type": "markdown",
   "metadata": {},
   "source": [
    "### List Traversal"
   ]
  },
  {
   "cell_type": "code",
   "execution_count": 4,
   "metadata": {},
   "outputs": [
    {
     "name": "stdout",
     "output_type": "stream",
     "text": [
      "[23, 45, 'Nailor', 67.412, False, 'Python', 'Paul', [3, 4, 5], True]\n"
     ]
    }
   ],
   "source": [
    "print(myList)"
   ]
  },
  {
   "cell_type": "code",
   "execution_count": 5,
   "metadata": {},
   "outputs": [
    {
     "name": "stdout",
     "output_type": "stream",
     "text": [
      "23 45 Nailor 67.412 False Python Paul [3, 4, 5] True \n"
     ]
    }
   ],
   "source": [
    "for item in myList:\n",
    "    print(item, end=\" \")\n",
    "print()"
   ]
  },
  {
   "cell_type": "code",
   "execution_count": 6,
   "metadata": {},
   "outputs": [
    {
     "name": "stdout",
     "output_type": "stream",
     "text": [
      "0 23\n",
      "1 45\n",
      "2 Nailor\n",
      "3 67.412\n",
      "4 False\n",
      "5 Python\n",
      "6 Paul\n",
      "7 [3, 4, 5]\n",
      "8 True\n",
      "\n"
     ]
    }
   ],
   "source": [
    "for index in range(len(myList)):\n",
    "    print(index, myList[index])\n",
    "print()"
   ]
  },
  {
   "cell_type": "markdown",
   "metadata": {},
   "source": [
    "### List Indexing and Slicing"
   ]
  },
  {
   "cell_type": "code",
   "execution_count": 2,
   "metadata": {},
   "outputs": [],
   "source": [
    "myList = [23, 45, \"Nailor\", 67.412, False, \"Python\", \"Paul\", [3, 4, 5], True]"
   ]
  },
  {
   "cell_type": "code",
   "execution_count": 3,
   "metadata": {},
   "outputs": [
    {
     "name": "stdout",
     "output_type": "stream",
     "text": [
      "Nailor\n",
      "['Python', 'Paul', [3, 4, 5], True]\n",
      "['Python', 'Paul']\n",
      "[23, 67.412, 'Paul']\n",
      "[True, [3, 4, 5], 'Paul', 'Python', False, 67.412, 'Nailor', 45, 23]\n",
      "4\n"
     ]
    }
   ],
   "source": [
    "print(myList[2])\n",
    "print(myList[5:])\n",
    "print(myList[5:7])\n",
    "print(myList[::3])\n",
    "print(myList[::-1])\n",
    "print(myList[7][1])"
   ]
  },
  {
   "cell_type": "markdown",
   "metadata": {},
   "source": [
    "### Modify Item"
   ]
  },
  {
   "cell_type": "code",
   "execution_count": 4,
   "metadata": {},
   "outputs": [
    {
     "data": {
      "text/plain": [
       "[100, 45, 'Nailor', 67.412, False, 'Python', 'Paul', [3, 4, 5], True]"
      ]
     },
     "execution_count": 4,
     "metadata": {},
     "output_type": "execute_result"
    }
   ],
   "source": [
    "myList[0] = 100\n",
    "myList"
   ]
  },
  {
   "cell_type": "markdown",
   "metadata": {},
   "source": [
    "### List Comprehension"
   ]
  },
  {
   "cell_type": "code",
   "execution_count": 13,
   "metadata": {},
   "outputs": [
    {
     "name": "stdout",
     "output_type": "stream",
     "text": [
      "[1, 2, 3, 4, 5, 6, 7, 8, 9, 10]\n"
     ]
    }
   ],
   "source": [
    "myList = [i for i in range(1,11)]\n",
    "print(myList)"
   ]
  },
  {
   "cell_type": "code",
   "execution_count": 14,
   "metadata": {},
   "outputs": [
    {
     "name": "stdout",
     "output_type": "stream",
     "text": [
      "[2, 4, 6, 8, 10, 12, 14, 16, 18, 20]\n"
     ]
    }
   ],
   "source": [
    "myList = [i for i in range(1,21) if i%2 == 0]\n",
    "print(myList)"
   ]
  },
  {
   "cell_type": "markdown",
   "metadata": {},
   "source": [
    "#### Shallow Copy"
   ]
  },
  {
   "cell_type": "code",
   "execution_count": 18,
   "metadata": {},
   "outputs": [
    {
     "name": "stdout",
     "output_type": "stream",
     "text": [
      "['A', 2, 3, 4, 5]\n",
      "['A', 2, 3, 4, 5]\n"
     ]
    }
   ],
   "source": [
    "myList1 = [1,2,3,4,5]\n",
    "myList2 = myList1\n",
    "\n",
    "myList2[0] = \"A\"\n",
    "\n",
    "print(myList1)\n",
    "print(myList2)\n"
   ]
  },
  {
   "cell_type": "markdown",
   "metadata": {},
   "source": [
    "#### Deep Copy"
   ]
  },
  {
   "cell_type": "code",
   "execution_count": 19,
   "metadata": {},
   "outputs": [
    {
     "name": "stdout",
     "output_type": "stream",
     "text": [
      "[1, 2, 3, 4, 5]\n",
      "['Z', 2, 3, 4, 5]\n"
     ]
    }
   ],
   "source": [
    "myList3 = [1,2,3,4,5]\n",
    "myList4 = myList3.copy()\n",
    "\n",
    "myList4[0] = \"Z\"\n",
    "\n",
    "print(myList3)\n",
    "print(myList4)"
   ]
  },
  {
   "cell_type": "markdown",
   "metadata": {},
   "source": [
    "### List Methods"
   ]
  },
  {
   "cell_type": "code",
   "execution_count": 22,
   "metadata": {},
   "outputs": [
    {
     "name": "stdout",
     "output_type": "stream",
     "text": [
      "[23, 45.671, 'Remote', 'Laptop', False]\n"
     ]
    }
   ],
   "source": [
    "myList = [23, 45.671, \"Remote\", \"Laptop\", False]\n",
    "print(myList)"
   ]
  },
  {
   "cell_type": "code",
   "execution_count": 23,
   "metadata": {},
   "outputs": [
    {
     "name": "stdout",
     "output_type": "stream",
     "text": [
      "[23, 45.671, 'Remote', 'Laptop', False, 'Smartphone']\n"
     ]
    }
   ],
   "source": [
    "myList.append(\"Smartphone\")\n",
    "print(myList)"
   ]
  },
  {
   "cell_type": "code",
   "execution_count": 24,
   "metadata": {},
   "outputs": [
    {
     "name": "stdout",
     "output_type": "stream",
     "text": [
      "[23, 45.671, 'Remote', 'Laptop', False, 'Smartphone', 'F', 'K', 34]\n"
     ]
    }
   ],
   "source": [
    "myList.extend([\"F\", \"K\", 34])\n",
    "print(myList)"
   ]
  },
  {
   "cell_type": "code",
   "execution_count": 25,
   "metadata": {},
   "outputs": [
    {
     "name": "stdout",
     "output_type": "stream",
     "text": [
      "[23, 'Keyboard', 45.671, 'Remote', 'Laptop', False, 'Smartphone', 'F', 'K', 34]\n"
     ]
    }
   ],
   "source": [
    "myList.insert(1, \"Keyboard\")\n",
    "print(myList)"
   ]
  },
  {
   "cell_type": "code",
   "execution_count": 26,
   "metadata": {},
   "outputs": [
    {
     "name": "stdout",
     "output_type": "stream",
     "text": [
      "[23, 'Keyboard', 45.671, 'Remote', 'Laptop', False, 'Smartphone', 'F', 'K']\n"
     ]
    }
   ],
   "source": [
    "myList.pop()\n",
    "print(myList)"
   ]
  },
  {
   "cell_type": "code",
   "execution_count": 27,
   "metadata": {},
   "outputs": [
    {
     "name": "stdout",
     "output_type": "stream",
     "text": [
      "['Keyboard', 45.671, 'Remote', 'Laptop', False, 'Smartphone', 'F', 'K']\n"
     ]
    }
   ],
   "source": [
    "myList.pop(0)\n",
    "print(myList)"
   ]
  },
  {
   "cell_type": "code",
   "execution_count": 28,
   "metadata": {},
   "outputs": [
    {
     "name": "stdout",
     "output_type": "stream",
     "text": [
      "['Keyboard', 45.671, 'Laptop', False, 'Smartphone', 'F', 'K']\n"
     ]
    }
   ],
   "source": [
    "myList.remove(\"Remote\") # Remove the first occurrence of the item in the list\n",
    "print(myList)"
   ]
  },
  {
   "cell_type": "code",
   "execution_count": 29,
   "metadata": {},
   "outputs": [
    {
     "name": "stdout",
     "output_type": "stream",
     "text": [
      "4\n"
     ]
    }
   ],
   "source": [
    "print(myList.index(\"Smartphone\"))"
   ]
  },
  {
   "cell_type": "code",
   "execution_count": 30,
   "metadata": {},
   "outputs": [
    {
     "name": "stdout",
     "output_type": "stream",
     "text": [
      "['K', 'F', 'Smartphone', False, 'Laptop', 45.671, 'Keyboard']\n"
     ]
    }
   ],
   "source": [
    "myList.reverse()\n",
    "print(myList)"
   ]
  },
  {
   "cell_type": "code",
   "execution_count": 31,
   "metadata": {},
   "outputs": [
    {
     "name": "stdout",
     "output_type": "stream",
     "text": [
      "3\n"
     ]
    }
   ],
   "source": [
    "myList = ['A', 'B', 'C', 'C', 'E', 'A', 'A']\n",
    "print(myList.count('A'))"
   ]
  },
  {
   "cell_type": "code",
   "execution_count": 32,
   "metadata": {},
   "outputs": [
    {
     "name": "stdout",
     "output_type": "stream",
     "text": [
      "[1, 2, 3, 4, 6]\n",
      "[6, 4, 3, 2, 1]\n"
     ]
    }
   ],
   "source": [
    "myList2 = [6, 4, 1, 3, 2]\n",
    "myList2.sort()\n",
    "print(myList2)\n",
    "\n",
    "myList3 = [6, 4, 1, 3, 2]\n",
    "myList3.sort(reverse=True)\n",
    "print(myList3)"
   ]
  },
  {
   "cell_type": "code",
   "execution_count": 33,
   "metadata": {},
   "outputs": [
    {
     "name": "stdout",
     "output_type": "stream",
     "text": [
      "[]\n"
     ]
    }
   ],
   "source": [
    "myList.clear()\n",
    "print(myList)"
   ]
  },
  {
   "cell_type": "code",
   "execution_count": null,
   "metadata": {},
   "outputs": [],
   "source": []
  }
 ],
 "metadata": {
  "kernelspec": {
   "display_name": "Python 3",
   "language": "python",
   "name": "python3"
  },
  "language_info": {
   "codemirror_mode": {
    "name": "ipython",
    "version": 3
   },
   "file_extension": ".py",
   "mimetype": "text/x-python",
   "name": "python",
   "nbconvert_exporter": "python",
   "pygments_lexer": "ipython3",
   "version": "3.10.11"
  }
 },
 "nbformat": 4,
 "nbformat_minor": 2
}
