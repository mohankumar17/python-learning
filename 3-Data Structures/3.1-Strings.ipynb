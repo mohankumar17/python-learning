{
 "cells": [
  {
   "cell_type": "markdown",
   "metadata": {},
   "source": [
    "## String"
   ]
  },
  {
   "cell_type": "code",
   "execution_count": 1,
   "metadata": {},
   "outputs": [
    {
     "name": "stdout",
     "output_type": "stream",
     "text": [
      "this is Python Notebook\n"
     ]
    }
   ],
   "source": [
    "myStr1 = \"this is Python Notebook\"\n",
    "print(myStr1)"
   ]
  },
  {
   "cell_type": "code",
   "execution_count": 17,
   "metadata": {},
   "outputs": [
    {
     "name": "stdout",
     "output_type": "stream",
     "text": [
      "t h i s   i s   P y t h o n   N o t e b o o k "
     ]
    }
   ],
   "source": [
    "for char in myStr1:\n",
    "    print(char, end=\" \")"
   ]
  },
  {
   "cell_type": "code",
   "execution_count": 2,
   "metadata": {},
   "outputs": [
    {
     "name": "stdout",
     "output_type": "stream",
     "text": [
      "23\n"
     ]
    }
   ],
   "source": [
    "print(len(myStr1))"
   ]
  },
  {
   "cell_type": "markdown",
   "metadata": {},
   "source": [
    "### String Slicing"
   ]
  },
  {
   "cell_type": "code",
   "execution_count": 4,
   "metadata": {},
   "outputs": [
    {
     "name": "stdout",
     "output_type": "stream",
     "text": [
      "h\n",
      "k\n",
      "Python Notebook\n",
      "koobetoN nohtyP si siht\n",
      "ti sPto oeok\n"
     ]
    }
   ],
   "source": [
    "print(myStr1[1])\n",
    "print(myStr1[-1])\n",
    "print(myStr1[8:])\n",
    "print(myStr1[::-1])\n",
    "print(myStr1[::2])"
   ]
  },
  {
   "cell_type": "markdown",
   "metadata": {},
   "source": [
    "### String Methods"
   ]
  },
  {
   "cell_type": "code",
   "execution_count": 8,
   "metadata": {},
   "outputs": [
    {
     "name": "stdout",
     "output_type": "stream",
     "text": [
      "This is python notebook\n",
      "THIS IS PYTHON NOTEBOOK\n",
      "this is python notebook\n",
      "8\n",
      "15\n",
      "['this', 'is', 'Python', 'Notebook']\n"
     ]
    }
   ],
   "source": [
    "print(myStr1.capitalize())\n",
    "print(myStr1.upper())\n",
    "print(myStr1.lower())\n",
    "print(myStr1.index(\"P\"))\n",
    "print(myStr1.find(\"No\")) #index of first occurence of the character\n",
    "print(myStr1.split(\" \"))"
   ]
  },
  {
   "cell_type": "code",
   "execution_count": 9,
   "metadata": {},
   "outputs": [
    {
     "name": "stdout",
     "output_type": "stream",
     "text": [
      "True\n",
      "True\n",
      "-------------this is Python Notebook--------------\n"
     ]
    }
   ],
   "source": [
    "print(myStr1.startswith(\"t\"))\n",
    "print(myStr1.endswith(\"k\"))\n",
    "print(myStr1.center(50, \"-\"))"
   ]
  },
  {
   "cell_type": "code",
   "execution_count": 12,
   "metadata": {},
   "outputs": [],
   "source": [
    "myStr2 = \"   Laptop         \""
   ]
  },
  {
   "cell_type": "code",
   "execution_count": 13,
   "metadata": {},
   "outputs": [
    {
     "name": "stdout",
     "output_type": "stream",
     "text": [
      "Laptop         \n",
      "   Laptop\n",
      "Laptop\n"
     ]
    }
   ],
   "source": [
    "print(myStr2.lstrip(\" \"))\n",
    "print(myStr2.rstrip(\" \"))\n",
    "print(myStr2.strip(\" \"))"
   ]
  },
  {
   "cell_type": "code",
   "execution_count": 14,
   "metadata": {},
   "outputs": [],
   "source": [
    "myStr3 = \"Smartphone\"\n",
    "myStr4 = \"3456\"\n",
    "myStr5 = \"bluetooth123\""
   ]
  },
  {
   "cell_type": "code",
   "execution_count": 15,
   "metadata": {},
   "outputs": [
    {
     "name": "stdout",
     "output_type": "stream",
     "text": [
      "Smartphone**********\n",
      "^^^^^^^^^^Smartphone\n"
     ]
    }
   ],
   "source": [
    "print(myStr3.ljust(20, \"*\"))\n",
    "print(myStr3.rjust(20, \"^\"))"
   ]
  },
  {
   "cell_type": "code",
   "execution_count": 16,
   "metadata": {},
   "outputs": [
    {
     "name": "stdout",
     "output_type": "stream",
     "text": [
      "4\n",
      "False\n",
      "True\n",
      "True\n",
      "True\n",
      "True\n"
     ]
    }
   ],
   "source": [
    "print(myStr1.count(\"o\"))\n",
    "print(myStr5.isupper())\n",
    "print(myStr5.islower())\n",
    "print(myStr3.isalpha())\n",
    "print(myStr4.isdigit())\n",
    "print(myStr5.isalnum())"
   ]
  },
  {
   "cell_type": "code",
   "execution_count": null,
   "metadata": {},
   "outputs": [],
   "source": []
  }
 ],
 "metadata": {
  "kernelspec": {
   "display_name": ".venv",
   "language": "python",
   "name": "python3"
  },
  "language_info": {
   "codemirror_mode": {
    "name": "ipython",
    "version": 3
   },
   "file_extension": ".py",
   "mimetype": "text/x-python",
   "name": "python",
   "nbconvert_exporter": "python",
   "pygments_lexer": "ipython3",
   "version": "3.10.11"
  }
 },
 "nbformat": 4,
 "nbformat_minor": 2
}
