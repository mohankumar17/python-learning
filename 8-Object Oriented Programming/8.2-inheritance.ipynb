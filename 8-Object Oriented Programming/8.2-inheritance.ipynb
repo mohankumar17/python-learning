{
 "cells": [
  {
   "cell_type": "markdown",
   "metadata": {},
   "source": [
    "## Inheritance\n",
    "Inheritance is a fundamental concept in Object-Oriented Programming (OOP) that allows a class to inherit attributes and methods from another class."
   ]
  },
  {
   "cell_type": "markdown",
   "metadata": {},
   "source": [
    "### Single Inheritance"
   ]
  },
  {
   "cell_type": "code",
   "execution_count": 16,
   "metadata": {},
   "outputs": [],
   "source": [
    "class Parent:\n",
    "    def __init__(self, msg) -> None:\n",
    "        self.msg = msg\n",
    "    def parentMethod(self):\n",
    "        print(f\"Parent class method: {self.msg}\")"
   ]
  },
  {
   "cell_type": "code",
   "execution_count": 17,
   "metadata": {},
   "outputs": [],
   "source": [
    "class Child(Parent):\n",
    "    def __init__(self, msg) -> None:\n",
    "        self.msg = msg\n",
    "\n",
    "    def childMethod(self):\n",
    "        print(f\"Child class method: {self.msg}\")"
   ]
  },
  {
   "cell_type": "code",
   "execution_count": 18,
   "metadata": {},
   "outputs": [
    {
     "name": "stdout",
     "output_type": "stream",
     "text": [
      "Parent class method: Parent Message\n"
     ]
    }
   ],
   "source": [
    "parent = Parent(\"Parent Message\")\n",
    "parent.parentMethod()"
   ]
  },
  {
   "cell_type": "code",
   "execution_count": 19,
   "metadata": {},
   "outputs": [
    {
     "name": "stdout",
     "output_type": "stream",
     "text": [
      "Child class method: Child Message\n",
      "Parent class method: Child Message\n"
     ]
    }
   ],
   "source": [
    "child = Child(\"Child Message\")\n",
    "\n",
    "child.childMethod()\n",
    "\n",
    "child.parentMethod()"
   ]
  },
  {
   "cell_type": "markdown",
   "metadata": {},
   "source": [
    "### Multiple Inheritance"
   ]
  },
  {
   "cell_type": "code",
   "execution_count": 25,
   "metadata": {},
   "outputs": [],
   "source": [
    "class ParentA:    \n",
    "    def parentMethod_A(self):\n",
    "        print(\"Parent Class A Method\")\n",
    "\n",
    "class ParentB:\n",
    "    def parnetMethod_B(self):\n",
    "        print(\"Parent Class B Method\")\n",
    "\n",
    "class Child(ParentA, ParentB):\n",
    "    def childMethod(self):\n",
    "        print(\"Child Class Method\")"
   ]
  },
  {
   "cell_type": "code",
   "execution_count": 26,
   "metadata": {},
   "outputs": [
    {
     "name": "stdout",
     "output_type": "stream",
     "text": [
      "Child Class Method\n",
      "Parent Class A Method\n",
      "Parent Class B Method\n"
     ]
    }
   ],
   "source": [
    "child = Child()\n",
    "child.childMethod()\n",
    "\n",
    "child.parentMethod_A()\n",
    "child.parnetMethod_B()"
   ]
  },
  {
   "cell_type": "markdown",
   "metadata": {},
   "source": [
    "### Hierarchical Inheritance"
   ]
  },
  {
   "cell_type": "code",
   "execution_count": 27,
   "metadata": {},
   "outputs": [],
   "source": [
    "class ParentA:    \n",
    "    def parentMethod(self):\n",
    "        print(\"Parent Class Method\")\n",
    "\n",
    "class ChildA(ParentA):\n",
    "    def childMethod_A(self):\n",
    "        print(\"Child Class A Method\")\n",
    "\n",
    "class ChildB(ParentA):\n",
    "    def childMethod_B(self):\n",
    "        print(\"Child Class B Method\")"
   ]
  },
  {
   "cell_type": "code",
   "execution_count": 28,
   "metadata": {},
   "outputs": [
    {
     "name": "stdout",
     "output_type": "stream",
     "text": [
      "Child Class A Method\n",
      "Parent Class Method\n",
      "Child Class B Method\n",
      "Parent Class Method\n"
     ]
    }
   ],
   "source": [
    "childA = ChildA()\n",
    "childA.childMethod_A()\n",
    "childA.parentMethod()\n",
    "\n",
    "childB = ChildB()\n",
    "childB.childMethod_B()\n",
    "childB.parentMethod()"
   ]
  },
  {
   "cell_type": "markdown",
   "metadata": {},
   "source": [
    "### Multilevel Inheritance"
   ]
  },
  {
   "cell_type": "code",
   "execution_count": 29,
   "metadata": {},
   "outputs": [],
   "source": [
    "class A:    \n",
    "    def methodA(self):\n",
    "        print(\"Class A Method\")\n",
    "\n",
    "class B(A):\n",
    "    def methodB(self):\n",
    "        print(\"Class B Method\")\n",
    "\n",
    "class C(B):\n",
    "    def methodC(self):\n",
    "        print(\"Class C Method\")"
   ]
  },
  {
   "cell_type": "code",
   "execution_count": 30,
   "metadata": {},
   "outputs": [
    {
     "name": "stdout",
     "output_type": "stream",
     "text": [
      "Class A Method\n"
     ]
    }
   ],
   "source": [
    "a = A()\n",
    "a.methodA()"
   ]
  },
  {
   "cell_type": "code",
   "execution_count": 31,
   "metadata": {},
   "outputs": [
    {
     "name": "stdout",
     "output_type": "stream",
     "text": [
      "Class B Method\n",
      "Class A Method\n"
     ]
    }
   ],
   "source": [
    "b = B()\n",
    "b.methodB()\n",
    "b.methodA()"
   ]
  },
  {
   "cell_type": "code",
   "execution_count": 32,
   "metadata": {},
   "outputs": [
    {
     "name": "stdout",
     "output_type": "stream",
     "text": [
      "Class C Method\n",
      "Class A Method\n",
      "Class B Method\n"
     ]
    }
   ],
   "source": [
    "c = C()\n",
    "c.methodC()\n",
    "c.methodA()\n",
    "c.methodB()"
   ]
  },
  {
   "cell_type": "code",
   "execution_count": null,
   "metadata": {},
   "outputs": [],
   "source": []
  }
 ],
 "metadata": {
  "kernelspec": {
   "display_name": "Python 3",
   "language": "python",
   "name": "python3"
  },
  "language_info": {
   "codemirror_mode": {
    "name": "ipython",
    "version": 3
   },
   "file_extension": ".py",
   "mimetype": "text/x-python",
   "name": "python",
   "nbconvert_exporter": "python",
   "pygments_lexer": "ipython3",
   "version": "3.10.11"
  }
 },
 "nbformat": 4,
 "nbformat_minor": 2
}
