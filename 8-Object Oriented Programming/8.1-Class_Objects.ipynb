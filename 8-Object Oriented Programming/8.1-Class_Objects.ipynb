{
 "cells": [
  {
   "cell_type": "markdown",
   "metadata": {},
   "source": [
    "##  Object Oreinted Programming\n",
    "Object-Oriented Programming (OOP) is a programming paradigm that uses \"objects\" to design applications and computer programs. OOP allows for modeling real-world scenarios using classes and objects."
   ]
  },
  {
   "cell_type": "markdown",
   "metadata": {},
   "source": [
    "### Class"
   ]
  },
  {
   "cell_type": "code",
   "execution_count": 35,
   "metadata": {},
   "outputs": [],
   "source": [
    "class User:\n",
    "\n",
    "    #Constructor\n",
    "    def __init__(self, id, name, age) -> None:\n",
    "        #Instance Attributes\n",
    "        self.id = id\n",
    "        self.name = name\n",
    "        self.age = age\n",
    "    \n",
    "    #Instance Method\n",
    "    def showUserDetails(self):\n",
    "        print(f\"Id: {self.id}, Name: {self.name}, Age: {self.age}\")"
   ]
  },
  {
   "cell_type": "markdown",
   "metadata": {},
   "source": [
    "### Object"
   ]
  },
  {
   "cell_type": "code",
   "execution_count": 36,
   "metadata": {},
   "outputs": [],
   "source": [
    "user = User(1, \"Paul Brandon\", 32)"
   ]
  },
  {
   "cell_type": "code",
   "execution_count": 37,
   "metadata": {},
   "outputs": [
    {
     "name": "stdout",
     "output_type": "stream",
     "text": [
      "1\n",
      "Paul Brandon\n",
      "32\n"
     ]
    }
   ],
   "source": [
    "print(user.id)\n",
    "print(user.name)\n",
    "print(user.age)"
   ]
  },
  {
   "cell_type": "code",
   "execution_count": 38,
   "metadata": {},
   "outputs": [
    {
     "name": "stdout",
     "output_type": "stream",
     "text": [
      "Id: 1, Name: Paul Brandon, Age: 32\n"
     ]
    }
   ],
   "source": [
    "user.showUserDetails()"
   ]
  },
  {
   "cell_type": "markdown",
   "metadata": {},
   "source": [
    "### Static or Class Members "
   ]
  },
  {
   "cell_type": "code",
   "execution_count": 40,
   "metadata": {},
   "outputs": [],
   "source": [
    "class User:\n",
    "\n",
    "    #Static Attributes\n",
    "    country = \"India\"\n",
    "    state = \"Andhra Pradesh\"\n",
    "\n",
    "    def __init__(self, id, name, age) -> None:\n",
    "        self.id = id\n",
    "        self.name = name\n",
    "        self.age = age\n",
    "    \n",
    "    def showUserDetails(self):\n",
    "        print(f\"Id: {self.id}, Name: {self.name}, Age: {self.age}\")\n",
    "\n",
    "    @classmethod\n",
    "    def showCountry(cls):\n",
    "        print(f\"Country: {cls.country}\")\n",
    "\n",
    "    @staticmethod\n",
    "    def showState():\n",
    "        print(f\"State: {User.state}\")"
   ]
  },
  {
   "cell_type": "code",
   "execution_count": 41,
   "metadata": {},
   "outputs": [],
   "source": [
    "user = User(1, \"Paul Brandon\", 32)"
   ]
  },
  {
   "cell_type": "code",
   "execution_count": 42,
   "metadata": {},
   "outputs": [
    {
     "name": "stdout",
     "output_type": "stream",
     "text": [
      "Id: 1, Name: Paul Brandon, Age: 32\n"
     ]
    }
   ],
   "source": [
    "user.showUserDetails()"
   ]
  },
  {
   "cell_type": "code",
   "execution_count": 43,
   "metadata": {},
   "outputs": [
    {
     "name": "stdout",
     "output_type": "stream",
     "text": [
      "India\n",
      "Andhra Pradesh\n"
     ]
    }
   ],
   "source": [
    "print(User.country)\n",
    "print(User.state)"
   ]
  },
  {
   "cell_type": "code",
   "execution_count": 44,
   "metadata": {},
   "outputs": [
    {
     "name": "stdout",
     "output_type": "stream",
     "text": [
      "Country: India\n"
     ]
    }
   ],
   "source": [
    "User.showCountry()"
   ]
  },
  {
   "cell_type": "code",
   "execution_count": 45,
   "metadata": {},
   "outputs": [
    {
     "name": "stdout",
     "output_type": "stream",
     "text": [
      "State: Andhra Pradesh\n"
     ]
    }
   ],
   "source": [
    "User.showState()"
   ]
  },
  {
   "cell_type": "markdown",
   "metadata": {},
   "source": [
    "### Nested Classes"
   ]
  },
  {
   "cell_type": "code",
   "execution_count": 58,
   "metadata": {},
   "outputs": [],
   "source": [
    "class Employee:\n",
    "\n",
    "    def __init__(self, empId, empName=None, department=None):\n",
    "        self.empId = empId\n",
    "        self.empName = empName\n",
    "        self.department = department\n",
    "\n",
    "    def getAddressDetails(self, addr):\n",
    "        return {\"Country\": addr.getCountry(),\n",
    "                \"State\": addr.getState()}\n",
    "\n",
    "    def getDepartmentDetails(self):\n",
    "        return {\"Dept ID\": self.department.getId(),\n",
    "                \"Dept Name\": self.department.getName()}\n",
    "\n",
    "    # Nested Class\n",
    "    class Address:\n",
    "        def __init__(self, country, state):\n",
    "            self.country = country\n",
    "            self.state = state\n",
    "\n",
    "        def getCountry(self):\n",
    "            return self.country\n",
    "\n",
    "        def getState(self):\n",
    "            return self.state\n"
   ]
  },
  {
   "cell_type": "code",
   "execution_count": 59,
   "metadata": {},
   "outputs": [],
   "source": [
    "class Department:\n",
    "    def __init__(self, id, name):\n",
    "        self.id = id\n",
    "        self.name = name\n",
    "    def getId(self):\n",
    "        return self.id\n",
    "    def getName(self):\n",
    "        return self.name"
   ]
  },
  {
   "cell_type": "code",
   "execution_count": 60,
   "metadata": {},
   "outputs": [],
   "source": [
    "dept = Department(301, \"IT\")\n",
    "theEmployee1 = Employee(101, \"Paul Brandon\", dept)\n",
    "addr1 = theEmployee1.Address(\"India\", \"AP\")"
   ]
  },
  {
   "cell_type": "code",
   "execution_count": 61,
   "metadata": {},
   "outputs": [
    {
     "name": "stdout",
     "output_type": "stream",
     "text": [
      "{'Country': 'India', 'State': 'AP'}\n",
      "{'Dept ID': 301, 'Dept Name': 'IT'}\n"
     ]
    }
   ],
   "source": [
    "print(theEmployee1.getAddressDetails(addr1))\n",
    "print(theEmployee1.getDepartmentDetails())"
   ]
  },
  {
   "cell_type": "code",
   "execution_count": 62,
   "metadata": {},
   "outputs": [],
   "source": [
    "dept = Department(302, \"HR\")\n",
    "theEmployee2 = Employee(102, \"Tina Nailor\", dept)\n",
    "addr2 = theEmployee1.Address(\"India\", \"TN\")"
   ]
  },
  {
   "cell_type": "code",
   "execution_count": 63,
   "metadata": {},
   "outputs": [
    {
     "name": "stdout",
     "output_type": "stream",
     "text": [
      "{'Country': 'India', 'State': 'TN'}\n",
      "{'Dept ID': 302, 'Dept Name': 'HR'}\n"
     ]
    }
   ],
   "source": [
    "print(theEmployee2.getAddressDetails(addr2))\n",
    "print(theEmployee2.getDepartmentDetails())"
   ]
  },
  {
   "cell_type": "code",
   "execution_count": null,
   "metadata": {},
   "outputs": [],
   "source": []
  }
 ],
 "metadata": {
  "kernelspec": {
   "display_name": "Python 3",
   "language": "python",
   "name": "python3"
  },
  "language_info": {
   "codemirror_mode": {
    "name": "ipython",
    "version": 3
   },
   "file_extension": ".py",
   "mimetype": "text/x-python",
   "name": "python",
   "nbconvert_exporter": "python",
   "pygments_lexer": "ipython3",
   "version": "3.10.11"
  }
 },
 "nbformat": 4,
 "nbformat_minor": 2
}
