{
 "cells": [
  {
   "cell_type": "markdown",
   "metadata": {},
   "source": [
    "## File System"
   ]
  },
  {
   "cell_type": "markdown",
   "metadata": {},
   "source": [
    "### Reading from the file"
   ]
  },
  {
   "cell_type": "code",
   "execution_count": 20,
   "metadata": {},
   "outputs": [
    {
     "name": "stdout",
     "output_type": "stream",
     "text": [
      "This is a sample text file\n",
      "File handling using Python programming language\n",
      "Methods: open, close, read, readline, readlines, write, writelines etc.\n"
     ]
    }
   ],
   "source": [
    "fin = open(\"resources/sample.txt\", \"r\")\n",
    "file_content = fin.read() #Read entire file content\n",
    "print(file_content)"
   ]
  },
  {
   "cell_type": "code",
   "execution_count": 21,
   "metadata": {},
   "outputs": [],
   "source": [
    "fin.close()"
   ]
  },
  {
   "cell_type": "markdown",
   "metadata": {},
   "source": [
    "### Read all lines"
   ]
  },
  {
   "cell_type": "code",
   "execution_count": 22,
   "metadata": {},
   "outputs": [
    {
     "name": "stdout",
     "output_type": "stream",
     "text": [
      "['id,name,age,active\\n', '101,Paul Brandon,35,Yes\\n', '102,Tina Nailor,33,No\\n', '103,John Doe,26,Yes\\n', '104,Jason Pine,45,Yes\\n', '105,Rock Slyver,52,No\\n']\n"
     ]
    }
   ],
   "source": [
    "try:\n",
    "    fin = open(\"resources/customers.csv\", \"r\")\n",
    "    print(fin.readlines())  #Read all lines at once and store in a list\n",
    "except FileNotFoundError as ex:\n",
    "    print(ex)"
   ]
  },
  {
   "cell_type": "code",
   "execution_count": 23,
   "metadata": {},
   "outputs": [
    {
     "name": "stdout",
     "output_type": "stream",
     "text": [
      "['id,name,age,active\\n', '101,Paul Brandon,35,Yes\\n', '102,Tina Nailor,33,No\\n', '103,John Doe,26,Yes\\n', '104,Jason Pine,45,Yes\\n', '105,Rock Slyver,52,No\\n']\n"
     ]
    }
   ],
   "source": [
    "with open(\"resources/customers.csv\", \"r\") as fin:\n",
    "    print(fin.readlines())"
   ]
  },
  {
   "cell_type": "markdown",
   "metadata": {},
   "source": [
    "### Read line by line"
   ]
  },
  {
   "cell_type": "code",
   "execution_count": 24,
   "metadata": {},
   "outputs": [
    {
     "name": "stdout",
     "output_type": "stream",
     "text": [
      "id,name,age,active\n",
      "\n",
      "101,Paul Brandon,35,Yes\n",
      "\n",
      "102,Tina Nailor,33,No\n",
      "\n"
     ]
    }
   ],
   "source": [
    "with open(\"resources/customers.csv\", \"r\") as fin:\n",
    "    print(fin.readline()) #Read line by line\n",
    "    print(fin.readline())\n",
    "    print(fin.readline())"
   ]
  },
  {
   "cell_type": "code",
   "execution_count": 25,
   "metadata": {},
   "outputs": [
    {
     "name": "stdout",
     "output_type": "stream",
     "text": [
      "id,name,age,active\n",
      "\n",
      "101,Paul Brandon,35,Yes\n",
      "\n",
      "102,Tina Nailor,33,No\n",
      "\n",
      "103,John Doe,26,Yes\n",
      "\n",
      "104,Jason Pine,45,Yes\n",
      "\n",
      "105,Rock Slyver,52,No\n",
      "\n"
     ]
    }
   ],
   "source": [
    "with open(\"resources/customers.csv\", \"r\") as fin:\n",
    "    while (currLine := fin.readline()):\n",
    "        print(currLine)"
   ]
  },
  {
   "cell_type": "markdown",
   "metadata": {},
   "source": [
    "### Writing to the file"
   ]
  },
  {
   "cell_type": "code",
   "execution_count": 41,
   "metadata": {},
   "outputs": [],
   "source": [
    "data = \"Python\""
   ]
  },
  {
   "cell_type": "markdown",
   "metadata": {},
   "source": [
    "#### Overwrite the data - w"
   ]
  },
  {
   "cell_type": "code",
   "execution_count": 42,
   "metadata": {},
   "outputs": [],
   "source": [
    "with open(\"resources/data.txt\", \"w\") as fout:\n",
    "    fout.write(data)"
   ]
  },
  {
   "cell_type": "markdown",
   "metadata": {},
   "source": [
    "#### Append the data - a"
   ]
  },
  {
   "cell_type": "code",
   "execution_count": 43,
   "metadata": {},
   "outputs": [],
   "source": [
    "with open(\"resources/data.txt\", \"a\") as fout:\n",
    "    fout.write(\"\\nJava\")\n",
    "    fout.write(\"\\nC++\")"
   ]
  },
  {
   "cell_type": "markdown",
   "metadata": {},
   "source": [
    "### Write Lines"
   ]
  },
  {
   "cell_type": "code",
   "execution_count": 46,
   "metadata": {},
   "outputs": [],
   "source": [
    "datalines = [\"Python\\n\", \"Java\\n\", \"C++\\n\", \"JavaScript\\n\"]\n",
    "\n",
    "with open(\"resources/data.txt\", \"w\") as fout:\n",
    "    fout.writelines(datalines)"
   ]
  },
  {
   "cell_type": "markdown",
   "metadata": {},
   "source": [
    "### Read from one file and writing to different file"
   ]
  },
  {
   "cell_type": "code",
   "execution_count": 3,
   "metadata": {},
   "outputs": [
    {
     "name": "stdout",
     "output_type": "stream",
     "text": [
      "['101,Paul Brandon,35,Yes\\n', '103,John Doe,26,Yes\\n', '104,Jason Pine,45,Yes\\n', '105,Rock Slyver,52,Yes\\n']\n"
     ]
    }
   ],
   "source": [
    "activeCustomers = []\n",
    "try:\n",
    "    fin = open(\"resources/customers.csv\", \"r\")\n",
    "    header = fin.readline()\n",
    "    while (currLine := fin.readline()):\n",
    "        if currLine.split(\",\")[-1].startswith(\"Yes\"):\n",
    "            activeCustomers.append(currLine)\n",
    "    fin.close()\n",
    "except FileNotFoundError as fe:\n",
    "    print(fe)\n",
    "\n",
    "print(activeCustomers)"
   ]
  },
  {
   "cell_type": "code",
   "execution_count": 4,
   "metadata": {},
   "outputs": [],
   "source": [
    "try:\n",
    "    fout = open(\"resources/activeCustomers.csv\", \"w\") #Write mode (will overwrite the existing content in the file)\n",
    "    #fout = open(\"resources/activeCustomers.csv\", \"a\") #Append mode (will append the new content without overwriting the existing content)\n",
    "    for customerLine in activeCustomers:\n",
    "        fout.write(customerLine)\n",
    "    #fout.write(\"\\n\")\n",
    "    fout.close()\n",
    "except Exception as e:\n",
    "    print(e)"
   ]
  },
  {
   "cell_type": "markdown",
   "metadata": {},
   "source": [
    "### Working With File Paths\n",
    "When working with files in Python, handling file paths correctly is crucial to ensure your code works across different operating systems and environments. Python provides several modules and functions for working with file paths effectively."
   ]
  },
  {
   "cell_type": "code",
   "execution_count": 47,
   "metadata": {},
   "outputs": [],
   "source": [
    "import os"
   ]
  },
  {
   "cell_type": "code",
   "execution_count": 50,
   "metadata": {},
   "outputs": [
    {
     "data": {
      "text/plain": [
       "True"
      ]
     },
     "execution_count": 50,
     "metadata": {},
     "output_type": "execute_result"
    }
   ],
   "source": [
    "os.path.exists(\"resources/\")\n",
    "os.path.exists(\"resources/data.txt\")"
   ]
  },
  {
   "cell_type": "code",
   "execution_count": 51,
   "metadata": {},
   "outputs": [
    {
     "data": {
      "text/plain": [
       "False"
      ]
     },
     "execution_count": 51,
     "metadata": {},
     "output_type": "execute_result"
    }
   ],
   "source": [
    "os.path.exists(\"resources/zzz.txt\")"
   ]
  },
  {
   "cell_type": "code",
   "execution_count": 52,
   "metadata": {},
   "outputs": [],
   "source": [
    "#Checking if a Path is a File or Directory\n",
    "\n",
    "def isFileOrDirecotry(path):\n",
    "    if os.path.isfile(path):\n",
    "        print(f\"The path '{path}' is a file.\")\n",
    "    elif os.path.isdir(path):\n",
    "        print(f\"The path '{path}' is a directory.\")\n",
    "    else:\n",
    "        print(f\"The path '{path}' is neither a file nor a directory.\")"
   ]
  },
  {
   "cell_type": "code",
   "execution_count": 53,
   "metadata": {},
   "outputs": [
    {
     "name": "stdout",
     "output_type": "stream",
     "text": [
      "The path 'resources/' is a directory.\n"
     ]
    }
   ],
   "source": [
    "isFileOrDirecotry(\"resources/\")"
   ]
  },
  {
   "cell_type": "code",
   "execution_count": 54,
   "metadata": {},
   "outputs": [
    {
     "name": "stdout",
     "output_type": "stream",
     "text": [
      "The path 'resources/data.txt' is a file.\n"
     ]
    }
   ],
   "source": [
    "isFileOrDirecotry(\"resources/data.txt\")"
   ]
  },
  {
   "cell_type": "code",
   "execution_count": 55,
   "metadata": {},
   "outputs": [
    {
     "data": {
      "text/plain": [
       "'c:\\\\AAA\\\\Personal\\\\SkillUp\\\\Python\\\\python-learning\\\\6-File Handling\\\\resources\\\\data.txt'"
      ]
     },
     "execution_count": 55,
     "metadata": {},
     "output_type": "execute_result"
    }
   ],
   "source": [
    "## Getting the absolute path\n",
    "relative_path = 'resources/data.txt'\n",
    "\n",
    "os.path.abspath(relative_path)"
   ]
  },
  {
   "cell_type": "code",
   "execution_count": 59,
   "metadata": {},
   "outputs": [
    {
     "data": {
      "text/plain": [
       "'c:\\\\AAA\\\\Personal\\\\SkillUp\\\\Python\\\\python-learning\\\\6-File Handling\\\\resources\\\\data.txt'"
      ]
     },
     "execution_count": 59,
     "metadata": {},
     "output_type": "execute_result"
    }
   ],
   "source": [
    "file_path = os.path.join(os.getcwd(), \"resources\\data.txt\")\n",
    "file_path"
   ]
  },
  {
   "cell_type": "code",
   "execution_count": null,
   "metadata": {},
   "outputs": [],
   "source": []
  }
 ],
 "metadata": {
  "kernelspec": {
   "display_name": "Python 3",
   "language": "python",
   "name": "python3"
  },
  "language_info": {
   "codemirror_mode": {
    "name": "ipython",
    "version": 3
   },
   "file_extension": ".py",
   "mimetype": "text/x-python",
   "name": "python",
   "nbconvert_exporter": "python",
   "pygments_lexer": "ipython3",
   "version": "3.10.11"
  }
 },
 "nbformat": 4,
 "nbformat_minor": 2
}
