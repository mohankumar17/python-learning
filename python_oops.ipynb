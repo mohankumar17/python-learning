{
 "cells": [
  {
   "cell_type": "markdown",
   "metadata": {},
   "source": [
    "# Python Object Oriented Programming (OOPs)"
   ]
  },
  {
   "cell_type": "markdown",
   "metadata": {},
   "source": [
    "### Class"
   ]
  },
  {
   "cell_type": "code",
   "execution_count": 2,
   "metadata": {},
   "outputs": [],
   "source": [
    "class Department:\n",
    "    def __init__(self, id, name):\n",
    "        self.id = id\n",
    "        self.name = name\n",
    "    def getId(self):\n",
    "        return self.id\n",
    "    def getName(self):\n",
    "        return self.name"
   ]
  },
  {
   "cell_type": "code",
   "execution_count": 3,
   "metadata": {},
   "outputs": [],
   "source": [
    "class Employee:\n",
    "    organizationName = \"Abies Pvt.Ltd.\"\n",
    "\n",
    "    def __init__(self, empId, department):\n",
    "        self.empId = empId\n",
    "        self.empName = None\n",
    "        self.empSalary = None\n",
    "        self.department = department\n",
    "\n",
    "    def getEmpName(self):\n",
    "        return self.empName\n",
    "\n",
    "    def setEmpName(self, empName):\n",
    "        self.empName = empName\n",
    "\n",
    "    def getId(self):\n",
    "        return self.empId\n",
    "\n",
    "    def getEmpSalary(self):\n",
    "        return self.empSalary\n",
    "\n",
    "    def setEmpSalary(self, empSalary):\n",
    "        self.empSalary = empSalary\n",
    "\n",
    "    @classmethod\n",
    "    def showOrganizationName(cls):\n",
    "        print(cls.organizationName)\n",
    "\n",
    "    @staticmethod\n",
    "    def showMessage():\n",
    "        print(\"Static Method\")\n",
    "\n",
    "    def getAddressDetails(self, addr):\n",
    "        return {\"Country\": addr.getCountry(),\n",
    "                \"State\": addr.getState()}\n",
    "\n",
    "    def getDepartmentDetails(self):\n",
    "        return {\"Dept ID\": self.department.getId(),\n",
    "                \"Dept Name\": self.department.getName()}\n",
    "\n",
    "    class Address:\n",
    "        def __init__(self, country, state):\n",
    "            self.country = country\n",
    "            self.state = state\n",
    "\n",
    "        def getCountry(self):\n",
    "            return self.country\n",
    "\n",
    "        def getState(self):\n",
    "            return self.state\n"
   ]
  },
  {
   "cell_type": "markdown",
   "metadata": {},
   "source": [
    "### Instance or Object"
   ]
  },
  {
   "cell_type": "code",
   "execution_count": 4,
   "metadata": {},
   "outputs": [],
   "source": [
    "dept = Department(301, \"IT\")\n",
    "theEmployee1 = Employee(101, dept)\n",
    "addr1 = theEmployee1.Address(\"India\", \"AP\")"
   ]
  },
  {
   "cell_type": "code",
   "execution_count": 5,
   "metadata": {},
   "outputs": [
    {
     "name": "stdout",
     "output_type": "stream",
     "text": [
      "101\n",
      "Paul Brandon\n",
      "85000\n",
      "{'Country': 'India', 'State': 'AP'}\n",
      "{'Dept ID': 301, 'Dept Name': 'IT'}\n"
     ]
    }
   ],
   "source": [
    "print(theEmployee1.getId())\n",
    "theEmployee1.setEmpName(\"Paul Brandon\")\n",
    "print(theEmployee1.getEmpName())\n",
    "theEmployee1.setEmpSalary(85000)\n",
    "print(theEmployee1.getEmpSalary())\n",
    "print(theEmployee1.getAddressDetails(addr1))\n",
    "print(theEmployee1.getDepartmentDetails())"
   ]
  },
  {
   "cell_type": "code",
   "execution_count": 6,
   "metadata": {},
   "outputs": [],
   "source": [
    "dept = Department(302, \"HR\")\n",
    "theEmployee2 = Employee(102, dept)\n",
    "addr2 = theEmployee1.Address(\"India\", \"TN\")"
   ]
  },
  {
   "cell_type": "code",
   "execution_count": 7,
   "metadata": {},
   "outputs": [
    {
     "name": "stdout",
     "output_type": "stream",
     "text": [
      "102\n",
      "Tina Nailor\n",
      "74000\n",
      "{'Country': 'India', 'State': 'TN'}\n",
      "{'Dept ID': 302, 'Dept Name': 'HR'}\n"
     ]
    }
   ],
   "source": [
    "print(theEmployee2.getId())\n",
    "theEmployee2.setEmpName(\"Tina Nailor\")\n",
    "print(theEmployee2.getEmpName())\n",
    "theEmployee2.setEmpSalary(74000)\n",
    "print(theEmployee2.getEmpSalary())\n",
    "print(theEmployee2.getAddressDetails(addr2))\n",
    "print(theEmployee2.getDepartmentDetails())"
   ]
  },
  {
   "cell_type": "code",
   "execution_count": 14,
   "metadata": {},
   "outputs": [
    {
     "name": "stdout",
     "output_type": "stream",
     "text": [
      "Abies Pvt.Ltd.\n",
      "Abies Pvt.Ltd.\n",
      "Static Method\n"
     ]
    }
   ],
   "source": [
    "print(Employee.organizationName)\n",
    "Employee.showOrganizationName()\n",
    "Employee.showMessage()"
   ]
  },
  {
   "cell_type": "markdown",
   "metadata": {},
   "source": [
    "### Inheritance and Polymorphism (Method Overriding)"
   ]
  },
  {
   "cell_type": "code",
   "execution_count": 27,
   "metadata": {},
   "outputs": [
    {
     "name": "stdout",
     "output_type": "stream",
     "text": [
      "ParentA Constructor\n",
      "ChildA Constructor\n",
      "ChildA: showMsgA override\n",
      "ChildB: showMsgA override\n"
     ]
    }
   ],
   "source": [
    "class ParentA:\n",
    "    def __init__(self):\n",
    "        print(\"ParentA Constructor\")\n",
    "    def showMsgA(self):\n",
    "        print(\"ParentA\")\n",
    "\n",
    "class ParentB:\n",
    "    def __init__(self):\n",
    "        print(\"ParentB Constructor\")\n",
    "    def showMsgB(self):\n",
    "        print(\"ParentB\")\n",
    "        \n",
    "class ChildA(ParentA, ParentB):\n",
    "    def __init__(self):\n",
    "        super().__init__()\n",
    "        print(\"ChildA Constructor\")\n",
    "    def healthCheck(self):\n",
    "        return True\n",
    "    def showMsgA(self):\n",
    "        print(\"ChildA: showMsgA override\")\n",
    "    def showMsgB(self):\n",
    "        print(\"ChildB: showMsgA override\")\n",
    "\n",
    "#prOb = ParentA()\n",
    "chOb = ChildA()\n",
    "\n",
    "#prOb.showMsgA()\n",
    "chOb.showMsgA()\n",
    "chOb.showMsgB()"
   ]
  },
  {
   "cell_type": "markdown",
   "metadata": {},
   "source": [
    "### Abstraction"
   ]
  },
  {
   "cell_type": "code",
   "execution_count": 41,
   "metadata": {},
   "outputs": [],
   "source": [
    "from abc import ABC, abstractmethod\n",
    "class Department(ABC):\n",
    "    @abstractmethod\n",
    "    def process(self):\n",
    "        pass\n",
    "    \n",
    "    # Abstract class can contain non-abstract-methods but can't be called with object or instance\n",
    "    def nonAbstractMethod():\n",
    "        return True\n",
    "\n",
    "class Employee(Department):\n",
    "    def __init__(self, id, name):\n",
    "        self.id = id\n",
    "        self.name = name\n",
    "\n",
    "    def getEmpId(self):\n",
    "        return self.id\n",
    "\n",
    "    def getEmpName(self):\n",
    "        return self.name\n",
    "\n",
    "    def process(self):\n",
    "        print(\"Abstract method implementation.\")"
   ]
  },
  {
   "cell_type": "code",
   "execution_count": 43,
   "metadata": {},
   "outputs": [
    {
     "name": "stdout",
     "output_type": "stream",
     "text": [
      "1 Paul\n",
      "Abstract method implementation.\n",
      "True\n"
     ]
    }
   ],
   "source": [
    "#dept = Department() #throws error as Department is abstract class\n",
    "\n",
    "emp = Employee(1, \"Paul\")\n",
    "print(emp.getEmpId(), emp.getEmpName())\n",
    "emp.process()\n",
    "\n",
    "print(Department.nonAbstractMethod())"
   ]
  },
  {
   "cell_type": "markdown",
   "metadata": {},
   "source": [
    "### Exception Handling"
   ]
  },
  {
   "cell_type": "code",
   "execution_count": 49,
   "metadata": {},
   "outputs": [
    {
     "name": "stdout",
     "output_type": "stream",
     "text": [
      "Can't be divided by Zero, Msg: division by zero\n",
      "Process Completed\n"
     ]
    }
   ],
   "source": [
    "a, b = map(int, input(\"Enter two nums: \").split())\n",
    "items = [12, 13, 14, 15]\n",
    "\n",
    "try:\n",
    "    print(\"a/b: \", (a / b))\n",
    "    #print(items[21])\n",
    "except(IndexError):\n",
    "    print(\"Index out of bounds\")\n",
    "except ZeroDivisionError as e:\n",
    "    print(\"Can't be divided by Zero, Msg:\", e)\n",
    "except Exception as e:\n",
    "    print(\"Global Exception Handler, Msg:\", e)\n",
    "finally:\n",
    "    print(\"Process Completed\")\n"
   ]
  }
 ],
 "metadata": {
  "kernelspec": {
   "display_name": "Python 3",
   "language": "python",
   "name": "python3"
  },
  "language_info": {
   "codemirror_mode": {
    "name": "ipython",
    "version": 3
   },
   "file_extension": ".py",
   "mimetype": "text/x-python",
   "name": "python",
   "nbconvert_exporter": "python",
   "pygments_lexer": "ipython3",
   "version": "3.10.11"
  }
 },
 "nbformat": 4,
 "nbformat_minor": 2
}
