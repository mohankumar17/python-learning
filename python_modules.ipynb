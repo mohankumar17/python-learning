{
 "cells": [
  {
   "cell_type": "markdown",
   "metadata": {},
   "source": [
    "# Python Modules"
   ]
  },
  {
   "cell_type": "markdown",
   "metadata": {},
   "source": [
    "### Math"
   ]
  },
  {
   "cell_type": "code",
   "execution_count": 10,
   "metadata": {},
   "outputs": [],
   "source": [
    "import math"
   ]
  },
  {
   "cell_type": "code",
   "execution_count": 11,
   "metadata": {},
   "outputs": [
    {
     "name": "stdout",
     "output_type": "stream",
     "text": [
      "49.0\n",
      "49\n",
      "8.0\n"
     ]
    }
   ],
   "source": [
    "print(math.pow(7, 2))\n",
    "print(7 ** 2)\n",
    "\n",
    "print(math.sqrt(64))"
   ]
  },
  {
   "cell_type": "code",
   "execution_count": 12,
   "metadata": {},
   "outputs": [
    {
     "name": "stdout",
     "output_type": "stream",
     "text": [
      "25\n",
      "24\n",
      "28\n",
      "29\n"
     ]
    }
   ],
   "source": [
    "print(round(24.63))\n",
    "print(round(24.47))\n",
    "\n",
    "print(math.floor(28.73))\n",
    "print(math.ceil(28.36))"
   ]
  },
  {
   "cell_type": "code",
   "execution_count": 13,
   "metadata": {},
   "outputs": [
    {
     "name": "stdout",
     "output_type": "stream",
     "text": [
      "7.38905609893065\n",
      "3.141592653589793\n"
     ]
    }
   ],
   "source": [
    "print(math.exp(2))\n",
    "print(math.pi)"
   ]
  },
  {
   "cell_type": "code",
   "execution_count": 15,
   "metadata": {},
   "outputs": [
    {
     "name": "stdout",
     "output_type": "stream",
     "text": [
      "120\n"
     ]
    }
   ],
   "source": [
    "print(math.factorial(5))"
   ]
  },
  {
   "cell_type": "markdown",
   "metadata": {},
   "source": [
    "### Time"
   ]
  },
  {
   "cell_type": "code",
   "execution_count": 19,
   "metadata": {},
   "outputs": [],
   "source": [
    "import time"
   ]
  },
  {
   "cell_type": "code",
   "execution_count": 23,
   "metadata": {},
   "outputs": [
    {
     "name": "stdout",
     "output_type": "stream",
     "text": [
      "Mon Mar 11 09:49:05 2024\n"
     ]
    }
   ],
   "source": [
    "curr_date_time = time.ctime()\n",
    "print(curr_date_time)"
   ]
  },
  {
   "cell_type": "code",
   "execution_count": 36,
   "metadata": {},
   "outputs": [
    {
     "name": "stdout",
     "output_type": "stream",
     "text": [
      "time.struct_time(tm_year=2024, tm_mon=3, tm_mday=11, tm_hour=4, tm_min=25, tm_sec=24, tm_wday=0, tm_yday=71, tm_isdst=0)\n",
      "2024\n",
      "UTC\n"
     ]
    }
   ],
   "source": [
    "print(time.gmtime()) #GMT Time\n",
    "\n",
    "print(time.gmtime().tm_year)\n",
    "print(time.gmtime().tm_zone)"
   ]
  },
  {
   "cell_type": "code",
   "execution_count": 32,
   "metadata": {},
   "outputs": [
    {
     "name": "stdout",
     "output_type": "stream",
     "text": [
      "Count: 1\n",
      "Count: 2\n",
      "Count: 3\n"
     ]
    }
   ],
   "source": [
    "for count in range(3):\n",
    "    print(f\"Count: {count + 1}\")\n",
    "    time.sleep(2)"
   ]
  },
  {
   "cell_type": "code",
   "execution_count": 38,
   "metadata": {},
   "outputs": [
    {
     "name": "stdout",
     "output_type": "stream",
     "text": [
      "3\n",
      "11\n",
      "9\n",
      "57\n"
     ]
    }
   ],
   "source": [
    "curr_local_time = time.localtime()\n",
    "\n",
    "print(curr_local_time.tm_mon)\n",
    "print(curr_local_time.tm_mday)\n",
    "\n",
    "print(curr_local_time.tm_hour)\n",
    "print(curr_local_time.tm_min)\n"
   ]
  },
  {
   "cell_type": "code",
   "execution_count": 42,
   "metadata": {},
   "outputs": [
    {
     "name": "stdout",
     "output_type": "stream",
     "text": [
      "<class 'str'>\n"
     ]
    }
   ],
   "source": [
    "print(type(curr_date_time))"
   ]
  },
  {
   "cell_type": "markdown",
   "metadata": {},
   "source": [
    "#### strftime -> Converts Time Struct to String"
   ]
  },
  {
   "cell_type": "code",
   "execution_count": 54,
   "metadata": {},
   "outputs": [
    {
     "name": "stdout",
     "output_type": "stream",
     "text": [
      "2024-03-11 10:19:49\n"
     ]
    }
   ],
   "source": [
    "date_time = time.localtime()\n",
    "date_time_str = time.strftime(\"%Y-%m-%d %H:%M:%S\", date_time)\n",
    "\n",
    "print(date_time_str)"
   ]
  },
  {
   "cell_type": "markdown",
   "metadata": {},
   "source": [
    "#### strptime -> Converts String to Time Struct"
   ]
  },
  {
   "cell_type": "code",
   "execution_count": 57,
   "metadata": {},
   "outputs": [
    {
     "name": "stdout",
     "output_type": "stream",
     "text": [
      "time.struct_time(tm_year=2024, tm_mon=3, tm_mday=11, tm_hour=11, tm_min=30, tm_sec=0, tm_wday=0, tm_yday=71, tm_isdst=-1)\n"
     ]
    }
   ],
   "source": [
    "date_time_str = \"2024-03-11 11:30:00\"\n",
    "date_time = time.strptime(date_time_str, \"%Y-%m-%d %H:%M:%S\")\n",
    "print(date_time)"
   ]
  },
  {
   "cell_type": "markdown",
   "metadata": {},
   "source": [
    "### Regular Expression Matching (Regex)"
   ]
  },
  {
   "cell_type": "code",
   "execution_count": 1,
   "metadata": {},
   "outputs": [],
   "source": [
    "import re"
   ]
  },
  {
   "cell_type": "code",
   "execution_count": 2,
   "metadata": {},
   "outputs": [
    {
     "data": {
      "text/plain": [
       "<re.Match object; span=(7, 11), match='Warm'>"
      ]
     },
     "execution_count": 2,
     "metadata": {},
     "output_type": "execute_result"
    }
   ],
   "source": [
    "pattern = re.compile(\"Warm\")\n",
    "pattern.search(\"Global Warming\")"
   ]
  },
  {
   "cell_type": "code",
   "execution_count": 77,
   "metadata": {},
   "outputs": [
    {
     "name": "stdout",
     "output_type": "stream",
     "text": [
      "<re.Match object; span=(4, 6), match='al'>\n",
      "al\n"
     ]
    }
   ],
   "source": [
    "ob = re.search(\"al\", \"Global Warming\")\n",
    "print(ob)\n",
    "print(ob.group())"
   ]
  },
  {
   "cell_type": "code",
   "execution_count": 6,
   "metadata": {},
   "outputs": [
    {
     "data": {
      "text/plain": [
       "['ing', 'ing']"
      ]
     },
     "execution_count": 6,
     "metadata": {},
     "output_type": "execute_result"
    }
   ],
   "source": [
    "re.findall(\"ing\", \"Global Warming is a concerning issue\")"
   ]
  },
  {
   "cell_type": "code",
   "execution_count": 87,
   "metadata": {},
   "outputs": [
    {
     "name": "stdout",
     "output_type": "stream",
     "text": [
      "True\n",
      "True\n",
      "True\n",
      "False\n"
     ]
    }
   ],
   "source": [
    "print(re.search(\".*\", \"Digital @ 79 Era\") is not None)\n",
    "print(re.search(\".+\", \"Digital @ 79 Era\") is not None)\n",
    "\n",
    "print(re.search(\"Z*\", \"Digital @ 79 Era\") is not None)\n",
    "print(re.search(\"Z+\", \"Digital @ 79 Era\") is not None)"
   ]
  },
  {
   "cell_type": "code",
   "execution_count": 82,
   "metadata": {},
   "outputs": [
    {
     "name": "stdout",
     "output_type": "stream",
     "text": [
      "True\n",
      "True\n",
      "False\n",
      "True\n",
      "False\n"
     ]
    }
   ],
   "source": [
    "print(re.search(\"^D\", \"Digital @ 79 Era\") is not None)\n",
    "print(re.search(\"^[A-Za-z]\", \"Digital @ 79 Era\") is not None)\n",
    "print(re.search(\"^[A-C]\", \"Digital @ 79 Era\") is not None)\n",
    "\n",
    "print(re.search(\"a$\", \"Digital @ 79 Era\") is not None)\n",
    "print(re.search(\"[b-e]$\", \"Digital @ 79 Era\") is not None)"
   ]
  },
  {
   "cell_type": "code",
   "execution_count": 213,
   "metadata": {},
   "outputs": [
    {
     "name": "stdout",
     "output_type": "stream",
     "text": [
      "True\n",
      "False\n"
     ]
    }
   ],
   "source": [
    "print(re.search(\"[0-9]\", \"Digital @ 79 Era\") is not None)\n",
    "print(re.search(\"[0-5]\", \"Digital @ 79 Era\") is not None)"
   ]
  },
  {
   "cell_type": "code",
   "execution_count": 214,
   "metadata": {},
   "outputs": [
    {
     "name": "stdout",
     "output_type": "stream",
     "text": [
      "True\n",
      "True\n",
      "True\n",
      "True\n",
      "False\n"
     ]
    }
   ],
   "source": [
    "print(re.search(\"@+\", \"Digital @ 79 Era\") is not None)\n",
    "\n",
    "print(re.search(\"\\$+\", \"Digital $ 79 Era\") is not None)\n",
    "print(re.search(\"\\^+\", \"Digital ^ 79 Era\") is not None)\n",
    "print(re.search(rf\"\\\\+\", \"Digital \\ 79 Era\") is not None)\n",
    "\n",
    "print(re.search(\"\\ +\", \"Digital79Era\") is not None)\n"
   ]
  },
  {
   "cell_type": "code",
   "execution_count": 146,
   "metadata": {},
   "outputs": [
    {
     "name": "stdout",
     "output_type": "stream",
     "text": [
      "['A']\n",
      "['I', 'N', 'D', 'I']\n",
      "[]\n"
     ]
    }
   ],
   "source": [
    "print(re.findall(\"[ABC]\", \"INDIA\"))\n",
    "print(re.findall(\"[^ABC]\", \"INDIA\"))\n",
    "print(re.findall(\"[XYZ]\", \"INDIA\"))"
   ]
  },
  {
   "cell_type": "code",
   "execution_count": 219,
   "metadata": {},
   "outputs": [
    {
     "name": "stdout",
     "output_type": "stream",
     "text": [
      "False\n",
      "True\n",
      "True\n",
      "False\n",
      "True\n",
      "False\n",
      "True\n"
     ]
    }
   ],
   "source": [
    "print(re.search(\"\\d\", \"ABCDE\") is not None)\n",
    "print(re.search(\"\\d\", \"ABCDE457\") is not None)\n",
    "\n",
    "print(re.search(\"\\D\", \"ABCDE\") is not None)\n",
    "print(re.search(\"\\D\", \"457\") is not None)\n",
    "\n",
    "print(re.search(\"\\w\", \"ABCDE457\") is not None)\n",
    "print(re.search(\"\\w\", \"#@ *^$\") is not None)\n",
    "\n",
    "print(re.search(\"\\W\", \"#@ *^$\") is not None)"
   ]
  },
  {
   "cell_type": "code",
   "execution_count": 179,
   "metadata": {},
   "outputs": [
    {
     "name": "stdout",
     "output_type": "stream",
     "text": [
      "True\n",
      "False\n",
      "True\n",
      "False\n",
      "True\n",
      "True\n",
      "False\n"
     ]
    }
   ],
   "source": [
    "print(re.search(\"A{1}\", \"AAABCD\") is not None)\n",
    "print(re.search(\"A{4}\", \"AAABCD\") is not None)\n",
    "print(re.search(\"A{1,3}\", \"AAABCD\") is not None)\n",
    "print(re.search(\"A{4,10}\", \"AAABCD\") is not None)\n",
    "print(re.search(\"A{3,}\", \"AAABCD\") is not None)\n",
    "\n",
    "print(re.search(\"[ABC]{1}\", \"INDIA\") is not None)\n",
    "print(re.search(\"[ABC]{1}\", \"EGYPT\") is not None)"
   ]
  },
  {
   "cell_type": "markdown",
   "metadata": {},
   "source": [
    "### Beautiful Soap - HTML Parsing"
   ]
  },
  {
   "cell_type": "code",
   "execution_count": 3,
   "metadata": {},
   "outputs": [
    {
     "name": "stdout",
     "output_type": "stream",
     "text": [
      "text/html; charset=UTF-8\n",
      "Title:  <title>Data science - Wikipedia</title>\n",
      "First Link:  <a class=\"mw-jump-link\" href=\"#bodyContent\">Jump to content</a>\n",
      "Link Attributes:  {'class': ['mw-jump-link'], 'href': '#bodyContent'}\n",
      "Link Attributes Value:  #bodyContent\n"
     ]
    }
   ],
   "source": [
    "import requests\n",
    "from bs4 import BeautifulSoup\n",
    "\n",
    "url = \"https://en.wikipedia.org/wiki/Data_science\"\n",
    "\n",
    "res = requests.get(url)\n",
    "if res.status_code == 200:\n",
    "    print(res.headers[\"Content-Type\"])\n",
    "    html_page = res.text\n",
    "    soup = BeautifulSoup(html_page, \"html.parser\")\n",
    "\n",
    "    print(\"Title: \", soup.title)\n",
    "    #print(\"First Unordered List: \", soup.ul)\n",
    "    print(\"First Link: \", soup.a)\n",
    "    #print(\"All Links: \", soup.find_all(\"a\"))\n",
    "    print(\"Link Attributes: \", soup.a.attrs)\n",
    "    print(\"Link Attributes Value: \", soup.a[\"href\"])"
   ]
  },
  {
   "cell_type": "markdown",
   "metadata": {},
   "source": [
    "### JSON Data Manipulation"
   ]
  },
  {
   "cell_type": "code",
   "execution_count": 224,
   "metadata": {},
   "outputs": [],
   "source": [
    "import json"
   ]
  },
  {
   "cell_type": "code",
   "execution_count": 238,
   "metadata": {},
   "outputs": [],
   "source": [
    "customers_str = '{\"id\": \"101\",\"name\": \"Paul Brandon\",\"age\": \"35\",\"active\": \"Yes\"}'"
   ]
  },
  {
   "cell_type": "code",
   "execution_count": 242,
   "metadata": {},
   "outputs": [
    {
     "name": "stdout",
     "output_type": "stream",
     "text": [
      "{'id': '101', 'name': 'Paul Brandon', 'age': '35', 'active': 'Yes'}\n",
      "<class 'dict'>\n"
     ]
    }
   ],
   "source": [
    "customers_json_ob = json.loads(customers_str)\n",
    "print(customers_json_ob)\n",
    "print(type(customers_json_ob))"
   ]
  },
  {
   "cell_type": "code",
   "execution_count": 243,
   "metadata": {},
   "outputs": [
    {
     "data": {
      "text/plain": [
       "'Paul Brandon'"
      ]
     },
     "execution_count": 243,
     "metadata": {},
     "output_type": "execute_result"
    }
   ],
   "source": [
    "customers_json_ob[\"name\"]"
   ]
  },
  {
   "cell_type": "code",
   "execution_count": 244,
   "metadata": {},
   "outputs": [
    {
     "data": {
      "text/plain": [
       "'{\"id\": \"101\", \"name\": \"Paul Brandon\", \"age\": \"35\", \"active\": \"Yes\"}'"
      ]
     },
     "execution_count": 244,
     "metadata": {},
     "output_type": "execute_result"
    }
   ],
   "source": [
    "customer_res_str = json.dumps(customers_json_ob)\n",
    "customer_res_str"
   ]
  },
  {
   "cell_type": "code",
   "execution_count": 245,
   "metadata": {},
   "outputs": [],
   "source": [
    "cust_dict = {\n",
    "  \"name\": \"John\",\n",
    "  \"age\": 30,\n",
    "  \"married\": True,\n",
    "  \"divorced\": False,\n",
    "  \"children\": (\"Ann\",\"Billy\"),\n",
    "  \"pets\": None,\n",
    "  \"cars\": [\n",
    "    {\"model\": \"BMW 230\", \"mpg\": 27.5},\n",
    "    {\"model\": \"Ford Edge\", \"mpg\": 24.1}\n",
    "  ]\n",
    "}\n",
    "\n",
    "cust_str = json.dumps(cust_dict)"
   ]
  },
  {
   "cell_type": "code",
   "execution_count": 246,
   "metadata": {},
   "outputs": [
    {
     "data": {
      "text/plain": [
       "'{\"name\": \"John\", \"age\": 30, \"married\": true, \"divorced\": false, \"children\": [\"Ann\", \"Billy\"], \"pets\": null, \"cars\": [{\"model\": \"BMW 230\", \"mpg\": 27.5}, {\"model\": \"Ford Edge\", \"mpg\": 24.1}]}'"
      ]
     },
     "execution_count": 246,
     "metadata": {},
     "output_type": "execute_result"
    }
   ],
   "source": [
    "cust_str"
   ]
  },
  {
   "cell_type": "markdown",
   "metadata": {},
   "source": [
    "### Concurrent Programming"
   ]
  },
  {
   "cell_type": "markdown",
   "metadata": {},
   "source": [
    "#### Multithreading"
   ]
  },
  {
   "cell_type": "code",
   "execution_count": 16,
   "metadata": {},
   "outputs": [],
   "source": [
    "import time\n",
    "import threading\n",
    "import os"
   ]
  },
  {
   "cell_type": "code",
   "execution_count": 21,
   "metadata": {},
   "outputs": [],
   "source": [
    "def task1(msg):\n",
    "    print(msg)\n",
    "    print(\"Thread - Name: \", threading.current_thread().name)\n",
    "    print(\"Thread - Process Id: \", os.getpid())\n",
    "\n",
    "def task2(msg):\n",
    "    print(msg)\n",
    "    print(\"Thread - Name: \", threading.current_thread().name)\n",
    "    print(\"Thread - Process Id: \", os.getpid())"
   ]
  },
  {
   "cell_type": "code",
   "execution_count": 22,
   "metadata": {},
   "outputs": [
    {
     "name": "stdout",
     "output_type": "stream",
     "text": [
      "Task 1\n",
      "Thread - Name:  T1\n",
      "Thread - Process Id:  2328\n",
      "Task 2\n",
      "Thread - Name:  T2\n",
      "Thread - Process Id:  2328\n",
      "Main Thread - Name:  MainThread\n",
      "Main Thread - Process Id:  2328\n"
     ]
    }
   ],
   "source": [
    "t1 = threading.Thread(target=task1, args=((\"Task 1\",)), name=\"T1\")\n",
    "t2 = threading.Thread(target=task2, args=((\"Task 2\",)), name=\"T2\")\n",
    "\n",
    "t1.start()\n",
    "t2.start()\n",
    "\n",
    "t1.join()\n",
    "t2.join()\n",
    "\n",
    "print(\"Main Thread - Name: \", threading.main_thread().name)\n",
    "print(\"Main Thread - Process Id: \", os.getpid())"
   ]
  },
  {
   "cell_type": "markdown",
   "metadata": {},
   "source": [
    "#### Importing Thread Class"
   ]
  },
  {
   "cell_type": "code",
   "execution_count": 7,
   "metadata": {},
   "outputs": [],
   "source": [
    "class A(threading.Thread):\n",
    "    def run(self):\n",
    "        for i in range(0, 5):\n",
    "            print(\"ThreadA\" + str(i + 1))\n",
    "            time.sleep(1)\n",
    "\n",
    "class B(threading.Thread):\n",
    "    def run(self):\n",
    "        for i in range(0, 5):\n",
    "            print(\"ThreadB\" + str(i + 1))\n",
    "            time.sleep(0.5)"
   ]
  },
  {
   "cell_type": "code",
   "execution_count": 8,
   "metadata": {},
   "outputs": [
    {
     "name": "stdout",
     "output_type": "stream",
     "text": [
      "ThreadA1\n",
      "ThreadB1\n",
      "ThreadA2\n",
      "ThreadB2\n",
      "ThreadB3\n",
      "ThreadA3\n",
      "ThreadB4\n",
      "ThreadB5\n",
      "ThreadA4\n",
      "ThreadA5\n",
      "Main Thread: Threads A and B completed\n"
     ]
    }
   ],
   "source": [
    "obA = A()\n",
    "obB = B()\n",
    "\n",
    "obA.start()\n",
    "time.sleep(0.5)\n",
    "obB.start()\n",
    "\n",
    "obA.join()\n",
    "obB.join()\n",
    "\n",
    "print(\"Main Thread: Threads A and B completed\")"
   ]
  },
  {
   "cell_type": "markdown",
   "metadata": {},
   "source": [
    "### Logging"
   ]
  },
  {
   "cell_type": "code",
   "execution_count": 30,
   "metadata": {},
   "outputs": [],
   "source": [
    "import logging"
   ]
  },
  {
   "cell_type": "code",
   "execution_count": 31,
   "metadata": {},
   "outputs": [],
   "source": [
    "logging.config.fileConfig('resources/logging_demo.conf')"
   ]
  },
  {
   "cell_type": "code",
   "execution_count": 32,
   "metadata": {},
   "outputs": [
    {
     "name": "stdout",
     "output_type": "stream",
     "text": [
      "2024-04-01 12:03:33,695 - root - INFO - Python program started\n",
      "2024-04-01 12:03:33,696 - root - ERROR - Python program raised an error\n"
     ]
    }
   ],
   "source": [
    "myVar = \"Python\"\n",
    "logging.Logger.info(logging.getLogger(), msg = f\"{myVar} program started\")\n",
    "logging.Logger.error(logging.getLogger(), msg = f\"{myVar} program raised an error\")"
   ]
  },
  {
   "cell_type": "code",
   "execution_count": 33,
   "metadata": {},
   "outputs": [],
   "source": [
    "logging.basicConfig(filename=\"resources/demo_log_file.log\", format='%(asctime)s %(message)s', filemode='w') #default filemode is append"
   ]
  },
  {
   "cell_type": "code",
   "execution_count": 38,
   "metadata": {},
   "outputs": [],
   "source": [
    "logger = logging.getLogger() #root logger"
   ]
  },
  {
   "cell_type": "code",
   "execution_count": 39,
   "metadata": {},
   "outputs": [],
   "source": [
    "logger.setLevel(logging.INFO)"
   ]
  },
  {
   "cell_type": "code",
   "execution_count": 40,
   "metadata": {},
   "outputs": [
    {
     "name": "stdout",
     "output_type": "stream",
     "text": [
      "2024-04-01 12:05:11,115 - root - INFO - Just an information\n",
      "2024-04-01 12:05:11,116 - root - WARNING - Its a Warning\n",
      "2024-04-01 12:05:11,117 - root - ERROR - Error occured\n",
      "2024-04-01 12:05:11,118 - root - CRITICAL - Server or application was down\n"
     ]
    }
   ],
   "source": [
    "logger.debug(\"Harmless debug Message\")\n",
    "logger.info(\"Just an information\")\n",
    "logger.warning(\"Its a Warning\")\n",
    "logger.error(\"Error occured\")\n",
    "logger.critical(\"Server or application was down\")"
   ]
  },
  {
   "cell_type": "code",
   "execution_count": 41,
   "metadata": {},
   "outputs": [
    {
     "name": "stdout",
     "output_type": "stream",
     "text": [
      "2024-04-01 12:05:12,411 - root - INFO - This is a sample INFO log message\n"
     ]
    }
   ],
   "source": [
    "logger.log(logging.INFO, \"This is a sample INFO log message\")"
   ]
  },
  {
   "cell_type": "code",
   "execution_count": 42,
   "metadata": {},
   "outputs": [],
   "source": [
    "logger = logging.getLogger('simpleLogExample') #custom logger"
   ]
  },
  {
   "cell_type": "code",
   "execution_count": 46,
   "metadata": {},
   "outputs": [],
   "source": [
    "logger.setLevel(logging.WARN)"
   ]
  },
  {
   "cell_type": "code",
   "execution_count": 47,
   "metadata": {},
   "outputs": [
    {
     "name": "stdout",
     "output_type": "stream",
     "text": [
      "2024-04-01 12:05:57,982 - simpleLogExample - WARNING - warn message\n",
      "2024-04-01 12:05:57,983 - simpleLogExample - ERROR - error message\n",
      "2024-04-01 12:05:57,984 - simpleLogExample - CRITICAL - critical message\n"
     ]
    }
   ],
   "source": [
    "logger.debug('debug message')\n",
    "logger.info('info message')\n",
    "logger.warning('warn message')\n",
    "logger.error('error message')\n",
    "logger.critical('critical message')"
   ]
  },
  {
   "cell_type": "code",
   "execution_count": null,
   "metadata": {},
   "outputs": [],
   "source": []
  }
 ],
 "metadata": {
  "kernelspec": {
   "display_name": "Python 3",
   "language": "python",
   "name": "python3"
  },
  "language_info": {
   "codemirror_mode": {
    "name": "ipython",
    "version": 3
   },
   "file_extension": ".py",
   "mimetype": "text/x-python",
   "name": "python",
   "nbconvert_exporter": "python",
   "pygments_lexer": "ipython3",
   "version": "3.10.11"
  }
 },
 "nbformat": 4,
 "nbformat_minor": 2
}
